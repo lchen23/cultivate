{
 "cells": [
  {
   "cell_type": "code",
   "execution_count": 1,
   "metadata": {},
   "outputs": [],
   "source": [
    "import pandas as pd\n",
    "import json\n",
    "import re\n",
    "import numpy as np\n",
    "from sklearn.externals import joblib\n",
    "\n",
    "import matplotlib.pyplot as plt\n",
    "import seaborn as sns\n",
    "%matplotlib inline\n",
    "\n",
    "from IPython.core.interactiveshell import InteractiveShell\n",
    "InteractiveShell.ast_node_interactivity = 'all'"
   ]
  },
  {
   "cell_type": "code",
   "execution_count": 8,
   "metadata": {},
   "outputs": [],
   "source": [
    "import nltk\n",
    "from nltk.tokenize import word_tokenize\n",
    "from nltk.stem.porter import PorterStemmer\n",
    "import string"
   ]
  },
  {
   "cell_type": "code",
   "execution_count": 4,
   "metadata": {},
   "outputs": [],
   "source": [
    "from sklearn.feature_extraction.text import TfidfVectorizer, CountVectorizer\n",
    "from sklearn.decomposition import NMF, LatentDirichletAllocation"
   ]
  },
  {
   "cell_type": "code",
   "execution_count": 2,
   "metadata": {},
   "outputs": [],
   "source": [
    "pd.set_option('display.max_columns', 50)"
   ]
  },
  {
   "cell_type": "markdown",
   "metadata": {},
   "source": [
    "Data preparation."
   ]
  },
  {
   "cell_type": "code",
   "execution_count": 38,
   "metadata": {},
   "outputs": [],
   "source": [
    "email_content = joblib.load('email_content.pkl')"
   ]
  },
  {
   "cell_type": "code",
   "execution_count": 39,
   "metadata": {},
   "outputs": [],
   "source": [
    "exclude = set(string.punctuation)\n",
    "for i in range(len(email_content)):\n",
    "    email_content[i] = ''.join(ch for ch in email_content[i] if ch not in exclude)"
   ]
  },
  {
   "cell_type": "code",
   "execution_count": 9,
   "metadata": {},
   "outputs": [],
   "source": [
    "def get_tokens_stems(text, stemmer = PorterStemmer()):\n",
    "    \n",
    "    #get tokens\n",
    "    tokens = word_tokenize(text)\n",
    "\n",
    "    stems = [stemmer.stem(token) for token in tokens]\n",
    "    \n",
    "    return stems"
   ]
  },
  {
   "cell_type": "code",
   "execution_count": 62,
   "metadata": {},
   "outputs": [],
   "source": [
    "max_df = 0.8\n",
    "min_df = 0.05\n",
    "stopwords = nltk.corpus.stopwords.words('english')"
   ]
  },
  {
   "cell_type": "markdown",
   "metadata": {},
   "source": [
    "Remove stop words for topic modeling."
   ]
  },
  {
   "cell_type": "code",
   "execution_count": 63,
   "metadata": {},
   "outputs": [
    {
     "name": "stdout",
     "output_type": "stream",
     "text": [
      "CPU times: user 1min 14s, sys: 683 ms, total: 1min 15s\n",
      "Wall time: 1min 17s\n"
     ]
    }
   ],
   "source": [
    "vectorizer = TfidfVectorizer(\n",
    "    tokenizer = get_tokens_stems,\n",
    "    lowercase = False,\n",
    "    stop_words = stopwords,\n",
    "    ngram_range = (1, 3),\n",
    "    max_df = max_df,\n",
    "    min_df = min_df\n",
    ")\n",
    "\n",
    "%time tfidf_matrix = vectorizer.fit_transform(email_content)"
   ]
  },
  {
   "cell_type": "code",
   "execution_count": 64,
   "metadata": {},
   "outputs": [
    {
     "name": "stdout",
     "output_type": "stream",
     "text": [
      "CPU times: user 1min 17s, sys: 904 ms, total: 1min 17s\n",
      "Wall time: 1min 19s\n"
     ]
    }
   ],
   "source": [
    "count_vectorizer = CountVectorizer(\n",
    "    tokenizer = get_tokens_stems,\n",
    "    lowercase = False,\n",
    "    stop_words = stopwords,\n",
    "    ngram_range = (1, 3),\n",
    "    max_df = max_df,\n",
    "    min_df = min_df\n",
    ")\n",
    "\n",
    "%time count_matrix = count_vectorizer.fit_transform(email_content)"
   ]
  },
  {
   "cell_type": "code",
   "execution_count": 65,
   "metadata": {},
   "outputs": [
    {
     "data": {
      "text/plain": [
       "<12017x278 sparse matrix of type '<class 'numpy.float64'>'\n",
       "\twith 346532 stored elements in Compressed Sparse Row format>"
      ]
     },
     "execution_count": 65,
     "metadata": {},
     "output_type": "execute_result"
    },
    {
     "data": {
      "text/plain": [
       "<12017x278 sparse matrix of type '<class 'numpy.int64'>'\n",
       "\twith 346532 stored elements in Compressed Sparse Row format>"
      ]
     },
     "execution_count": 65,
     "metadata": {},
     "output_type": "execute_result"
    }
   ],
   "source": [
    "tfidf_matrix\n",
    "count_matrix"
   ]
  },
  {
   "cell_type": "code",
   "execution_count": 66,
   "metadata": {},
   "outputs": [],
   "source": [
    "count_feature_names = count_vectorizer.get_feature_names()\n",
    "tfidf_feature_names = vectorizer.get_feature_names()"
   ]
  },
  {
   "cell_type": "code",
   "execution_count": 67,
   "metadata": {},
   "outputs": [],
   "source": [
    "joblib.dump(tfidf_matrix, 'tfidf_matrix.pkl');\n",
    "joblib.dump(count_matrix, 'count_matrix.pkl');\n",
    "\n",
    "joblib.dump(count_feature_names, 'count_feature_names.pkl');\n",
    "joblib.dump(tfidf_feature_names, 'tfidf_feature_names.pkl');"
   ]
  },
  {
   "cell_type": "code",
   "execution_count": 12,
   "metadata": {},
   "outputs": [
    {
     "data": {
      "text/plain": [
       "['count_matrix.pkl']"
      ]
     },
     "execution_count": 12,
     "metadata": {},
     "output_type": "execute_result"
    }
   ],
   "source": [
    "count_matrix = joblib.load('count_matrix.pkl')\n",
    "tfidf_matrix = joblib.load('tfidf_matrix.pkl')\n",
    "\n",
    "count_feature_names = joblib.load('count_feature_names.pkl')\n",
    "tfidf_feature_names = joblib.load('tfidf_feature_names.pkl')"
   ]
  },
  {
   "cell_type": "markdown",
   "metadata": {},
   "source": [
    "Choosing number of topics. Use elbow plot."
   ]
  },
  {
   "cell_type": "code",
   "execution_count": 130,
   "metadata": {},
   "outputs": [],
   "source": [
    "import scikitplot.plotters as skplt\n",
    "from scikitplot import clustering_factory\n",
    "from sklearn.cluster import MiniBatchKMeans, KMeans\n",
    "from sklearn.metrics import silhouette_samples"
   ]
  },
  {
   "cell_type": "code",
   "execution_count": 74,
   "metadata": {},
   "outputs": [],
   "source": [
    "def display_topics(model, feature_names, num_top_words):\n",
    "    for topic_idx, topic in enumerate(model.components_):\n",
    "        topic_words = ' '.join([feature_names[i] for i in topic.argsort()[:-num_top_words - 1:-1]])\n",
    "        print('Topic {}: {}'.format(topic_idx, topic_words))"
   ]
  },
  {
   "cell_type": "code",
   "execution_count": 68,
   "metadata": {},
   "outputs": [
    {
     "data": {
      "image/png": "[encoded data removed]",
      "text/plain": [
       "<matplotlib.figure.Figure at 0x13a4b5ac8>"
      ]
     },
     "metadata": {},
     "output_type": "display_data"
    }
   ],
   "source": [
    "kmeans = clustering_factory(MiniBatchKMeans(random_state = 1))\n",
    "kmeans_plot = kmeans.plot_elbow_curve(tfidf_matrix, \n",
    "                                      cluster_ranges = range(1, 100), \n",
    "                                      figsize = (8, 8))"
   ]
  },
  {
   "cell_type": "code",
   "execution_count": 69,
   "metadata": {},
   "outputs": [
    {
     "data": {
      "image/png": "[encoded data removed]",
      "text/plain": [
       "<matplotlib.figure.Figure at 0x1481d5be0>"
      ]
     },
     "metadata": {},
     "output_type": "display_data"
    }
   ],
   "source": [
    "kmeans_plot = kmeans.plot_elbow_curve(tfidf_matrix, \n",
    "                                      cluster_ranges = range(40, 200), \n",
    "                                      figsize = (8, 8))"
   ]
  },
  {
   "cell_type": "markdown",
   "metadata": {},
   "source": [
    "Try 50, 100, 150 topics.\n",
    "\n",
    "Modeling."
   ]
  },
  {
   "cell_type": "code",
   "execution_count": 193,
   "metadata": {},
   "outputs": [],
   "source": [
    "num_topics = 50\n",
    "\n",
    "nmf = NMF(n_components = num_topics, \n",
    "          random_state = 1, \n",
    "          alpha = 0.1, l1_ratio = 0.5, init = 'nndsvd')\n",
    "\n",
    "#%time nmf_fit = nmf.fit(tfidf_matrix)"
   ]
  },
  {
   "cell_type": "code",
   "execution_count": 194,
   "metadata": {},
   "outputs": [
    {
     "name": "stdout",
     "output_type": "stream",
     "text": [
      "CPU times: user 20 s, sys: 42.4 ms, total: 20 s\n",
      "Wall time: 20.1 s\n"
     ]
    }
   ],
   "source": [
    "lda = LatentDirichletAllocation(n_components = num_topics, \n",
    "                                max_iter = 5, \n",
    "                                learning_method = 'online', \n",
    "                                learning_offset = 50,\n",
    "                                random_state = 0)\n",
    "\n",
    "%time lda_fit = lda.fit(count_matrix)"
   ]
  },
  {
   "cell_type": "code",
   "execution_count": 195,
   "metadata": {},
   "outputs": [
    {
     "name": "stdout",
     "output_type": "stream",
     "text": [
      "Topic 0: chang due includ still number send continu time process howev\n",
      "Topic 1: thank pleas attach bob copi find see send make regard\n",
      "Topic 2: houston london new great well address hope best develop thi week\n",
      "Topic 3: global busi come offic hi need around london talk interest\n",
      "Topic 4: messag origin sent 2001 origin messag subject pm monday thursday wednesday\n",
      "Topic 5: 1 2 3 4 5 6 10 follow first number\n",
      "Topic 6: meet discuss pleas attend pleas let pleas let know plan present schedul thi\n",
      "Topic 7: go eric bass cc bass cc eric bass way eric bass e time could\n",
      "Topic 8: phillip k allen phillip k pleas forward cc subject ani ga\n",
      "Topic 9: salli beck salli beck cc subject thank forward schedul thi note\n",
      "Topic 10: 2000 per cost thi provid gener use includ month 10\n",
      "Topic 11: octob let two name know use alreadi anoth 10 pleas\n",
      "Topic 12: report posit file comment thi need end list ha creat\n",
      "Topic 13: offic friday novemb back thursday contact regard understand sign close\n",
      "Topic 14: know let let know need want thi ani interest think date\n",
      "Topic 15: new list access click pleas thi book avail address name\n",
      "Topic 16: help set thank right us need person ask give question\n",
      "Topic 17: work home got day well hope best good veri soon\n",
      "Topic 18: call number phone fax ask regard becaus talk long us\n",
      "Topic 19: john arnold john arnold subject cc cc subject thank may forward im\n",
      "Topic 20: us buy market today america detail compani posit right first\n",
      "Topic 21: email receiv thi email pleas inform send messag sent address copi\n",
      "Topic 22: servic check account custom thi detail see support get ask\n",
      "Topic 23: trade risk market enron book ga group regard global posit\n",
      "Topic 24: game team last year point get run one great time\n",
      "Topic 25: group time month dure long provid befor inform schedul bob\n",
      "Topic 26: updat deal list sign free place today receiv keep number\n",
      "Topic 27: price power ga product market deal contract energi custom gener\n",
      "Topic 28: review process ani question thi pleas particip inform ani question provid\n",
      "Topic 29: posit need list issu richard thi wednesday meet 3 phillip k\n",
      "Topic 30: eric bass cc bass cc eric bass place inform way thing mike group check\n",
      "Topic 31: week thi thi week start next like back look last thursday\n",
      "Topic 32: get need today tomorrow peopl work want morn know next\n",
      "Topic 33: david mike michael mark jame scott robert jeff j w\n",
      "Topic 34: subject cc cc subject forward see fax give look steve new\n",
      "Topic 35: tuesday monday night wednesday morn even thursday pm back two\n",
      "Topic 36: would like would like thi interest also us could thank support\n",
      "Topic 37: commun team offic need mark work mike pleas michael respons\n",
      "Topic 38: way want wa get im dont go take thi like\n",
      "Topic 39: bass eric eric bass bass cc eric bass cc love e thi c k\n",
      "Topic 40: hi wa ha question becaus first would say final one\n",
      "Topic 41: system issu order need respons problem inform thi number regard\n",
      "Topic 42: come open might also due long origin messag even good product\n",
      "Topic 43: enron corp america north north america enron north enron north america america corp north america corp thi\n",
      "Topic 44: oper manag enron compani energi new busi offic ha support\n",
      "Topic 45: forward salli forward salli beck contract also houston final origin 1 j issu\n",
      "Topic 46: request thi date resourc manag name pleas inform review click\n",
      "Topic 47: thi ha year two one onli time wa last new\n",
      "Topic 48: think good see move still might come make look around\n",
      "Topic 49: free thi offer may ani day contract use futur pleas\n"
     ]
    }
   ],
   "source": [
    "num_top_words = 10\n",
    "\n",
    "#display_topics(nmf_fit, tfidf_feature_names, num_top_words)\n",
    "display_topics(lda_fit, count_feature_names, num_top_words)"
   ]
  },
  {
   "cell_type": "code",
   "execution_count": 196,
   "metadata": {},
   "outputs": [],
   "source": [
    "doc_topic_distrib = lda_fit.transform(count_matrix)\n",
    "doc_topics = np.argmax(doc_topic_distrib, axis = 1)\n",
    "sil_samples = silhouette_samples(count_matrix, doc_topics)"
   ]
  },
  {
   "cell_type": "code",
   "execution_count": 198,
   "metadata": {},
   "outputs": [
    {
     "data": {
      "image/png": "[encoded data removed]",
      "text/plain": [
       "<matplotlib.figure.Figure at 0x13ac4de10>"
      ]
     },
     "metadata": {},
     "output_type": "display_data"
    }
   ],
   "source": [
    "plt.hist(sil_samples, bins = 25);"
   ]
  },
  {
   "cell_type": "code",
   "execution_count": 85,
   "metadata": {},
   "outputs": [],
   "source": [
    "import pyLDAvis\n",
    "import pyLDAvis.sklearn\n",
    "pyLDAvis.enable_notebook()"
   ]
  },
  {
   "cell_type": "code",
   "execution_count": 92,
   "metadata": {},
   "outputs": [
    {
     "ename": "TypeError",
     "evalue": "prepare() got an unexpected keyword argument 'n_components'",
     "output_type": "error",
     "traceback": [
      "\u001b[0;31m---------------------------------------------------------------------------\u001b[0m",
      "\u001b[0;31mTypeError\u001b[0m                                 Traceback (most recent call last)",
      "\u001b[0;32m<ipython-input-92-c4d48a9c4f75>\u001b[0m in \u001b[0;36m<module>\u001b[0;34m()\u001b[0m\n\u001b[0;32m----> 1\u001b[0;31m \u001b[0mpyLDAvis\u001b[0m\u001b[0;34m.\u001b[0m\u001b[0mprepare\u001b[0m\u001b[0;34m(\u001b[0m\u001b[0;34m**\u001b[0m\u001b[0mlda_fit\u001b[0m\u001b[0;34m.\u001b[0m\u001b[0m__dict__\u001b[0m\u001b[0;34m)\u001b[0m\u001b[0;34m\u001b[0m\u001b[0m\n\u001b[0m",
      "\u001b[0;31mTypeError\u001b[0m: prepare() got an unexpected keyword argument 'n_components'"
     ]
    }
   ],
   "source": [
    "pyLDAvis.prepare(**lda_fit.__dict__)"
   ]
  }
 ],
 "metadata": {
  "kernelspec": {
   "display_name": "Python 3",
   "language": "python",
   "name": "python3"
  },
  "language_info": {
   "codemirror_mode": {
    "name": "ipython",
    "version": 3
   },
   "file_extension": ".py",
   "mimetype": "text/x-python",
   "name": "python",
   "nbconvert_exporter": "python",
   "pygments_lexer": "ipython3",
   "version": "3.6.1"
  }
 },
 "nbformat": 4,
 "nbformat_minor": 2
}
