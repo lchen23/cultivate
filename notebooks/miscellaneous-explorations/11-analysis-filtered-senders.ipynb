{
 "cells": [
  {
   "cell_type": "markdown",
   "metadata": {},
   "source": [
    "This notebook has the same analysis as notebook `10-analysis-senders-not-filtered.ipynb`, except senders and receivers are filtered such that those who only sent/received 2 or fewer emails are not represented. Clustering in that notebook revealed these messages may be adding noise. Also, from last notebook, don't use tf-idf BOW model for clustering."
   ]
  },
  {
   "cell_type": "code",
   "execution_count": 1,
   "metadata": {
    "collapsed": true
   },
   "outputs": [],
   "source": [
    "import pandas as pd\n",
    "import json\n",
    "import re\n",
    "import numpy as np\n",
    "\n",
    "from sklearn.externals import joblib\n",
    "import pickle\n",
    "\n",
    "import matplotlib.pyplot as plt\n",
    "import seaborn as sns\n",
    "%matplotlib inline\n",
    "\n",
    "from IPython.core.interactiveshell import InteractiveShell\n",
    "InteractiveShell.ast_node_interactivity = 'all'\n",
    "\n",
    "import nltk\n",
    "from nltk.tokenize import word_tokenize, sent_tokenize\n",
    "import string\n",
    "import spacy"
   ]
  },
  {
   "cell_type": "code",
   "execution_count": 2,
   "metadata": {
    "collapsed": true
   },
   "outputs": [],
   "source": [
    "pd.set_option('display.max_columns', 50)"
   ]
  },
  {
   "cell_type": "markdown",
   "metadata": {},
   "source": [
    "## Processing raw Enron email data\n",
    "\n",
    "See notebook `02-download-enron-data.ipynb` for code to download the Enron email dataset."
   ]
  },
  {
   "cell_type": "code",
   "execution_count": 3,
   "metadata": {
    "collapsed": true
   },
   "outputs": [],
   "source": [
    "with open('enron.mbox.json', 'r') as json_data:\n",
    "    emails_raw = json.load(json_data)"
   ]
  },
  {
   "cell_type": "markdown",
   "metadata": {},
   "source": [
    "Remove emails without receivers."
   ]
  },
  {
   "cell_type": "code",
   "execution_count": 4,
   "metadata": {},
   "outputs": [],
   "source": [
    "emails = []\n",
    "index = []\n",
    "for idx, email in enumerate(emails_raw):\n",
    "    if 'To' in email:\n",
    "        emails.append(email)\n",
    "        index.append(idx)"
   ]
  },
  {
   "cell_type": "markdown",
   "metadata": {},
   "source": [
    "Some emails have the same sender and receiver. Let's remove those emails."
   ]
  },
  {
   "cell_type": "code",
   "execution_count": 5,
   "metadata": {},
   "outputs": [],
   "source": [
    "another_index = []\n",
    "for idx, email in enumerate(emails):\n",
    "    if email['From'] != email['To'][0]:\n",
    "        another_index.append(idx)\n",
    "        \n",
    "emails = [emails[i] for i in another_index]"
   ]
  },
  {
   "cell_type": "markdown",
   "metadata": {},
   "source": [
    "Remove emails not from `@enron.com`, as these are often spam, listserv or subscription emails."
   ]
  },
  {
   "cell_type": "code",
   "execution_count": 6,
   "metadata": {},
   "outputs": [],
   "source": [
    "enron_only = []\n",
    "for idx, email in enumerate(emails):\n",
    "    if email['From'].endswith('@enron.com'):\n",
    "        enron_only.append(idx)\n",
    "        \n",
    "emails = [emails[i] for i in enron_only]"
   ]
  },
  {
   "cell_type": "markdown",
   "metadata": {},
   "source": [
    "Remove forwarded emails, as these will give more noise than signal."
   ]
  },
  {
   "cell_type": "code",
   "execution_count": 7,
   "metadata": {},
   "outputs": [],
   "source": [
    "forwarded = []\n",
    "for idx, email in enumerate(emails):\n",
    "    subject = email['Subject']\n",
    "    fwd_string = ['Fwd', 'Fw']\n",
    "    if any(substring in subject for substring in fwd_string):\n",
    "        continue\n",
    "    else:\n",
    "        forwarded.append(idx)\n",
    "\n",
    "emails = [emails[i] for i in forwarded]"
   ]
  },
  {
   "cell_type": "markdown",
   "metadata": {},
   "source": [
    "Remove any sender who sent only 1 or 2 emails or someone who only received one or two emails. Also remove emails from enron.announcements@enron.com, office.chairman@enron.com, arsystem@mailman.enron.com."
   ]
  },
  {
   "cell_type": "code",
   "execution_count": 21,
   "metadata": {},
   "outputs": [],
   "source": [
    "all_senders = []\n",
    "for email in emails:\n",
    "    all_senders.append(email['From'])\n",
    "\n",
    "sender_df = pd.DataFrame({\n",
    "    'sender':all_senders\n",
    "})\n",
    "\n",
    "sent_multiple_index = sender_df.groupby('sender').filter(lambda x: len(x) > 2 ).index\n",
    "emails = [emails[i] for i in sent_multiple_index]"
   ]
  },
  {
   "cell_type": "code",
   "execution_count": 23,
   "metadata": {},
   "outputs": [],
   "source": [
    "all_receivers = []\n",
    "for email in emails:\n",
    "    receiver = email['To']\n",
    "    if len(receiver) > 1:\n",
    "        all_receivers.append('group')\n",
    "    else:\n",
    "        all_receivers.append(receiver[0])\n",
    "\n",
    "receiver_df = pd.DataFrame({\n",
    "    'receiver':all_receivers\n",
    "})\n",
    "\n",
    "received_multiple_index = receiver_df.groupby('receiver').filter(lambda x: len(x) > 2 ).index\n",
    "emails = [emails[i] for i in received_multiple_index]"
   ]
  },
  {
   "cell_type": "code",
   "execution_count": 24,
   "metadata": {},
   "outputs": [],
   "source": [
    "emails_to_remove = ['enron.announcements@enron.com', 'office.chairman@enron.com', 'arsystem@mailman.enron.com']\n",
    "emails_to_keep = []\n",
    "for idx, email in enumerate(emails):\n",
    "    from_ = email['From']\n",
    "    if from_ not in emails_to_remove:\n",
    "        emails_to_keep.append(idx)\n",
    "\n",
    "emails = [emails[i] for i in emails_to_keep]"
   ]
  },
  {
   "cell_type": "markdown",
   "metadata": {},
   "source": [
    "Some emails actually contain the entire thread (i.e., all replies to the original email), and the text in the thread will affect downstream text analysis. Although a more sophisticated approach would be to save each part of the thread, for simplicity we will only save the latest email message, which is the text before double new line characters."
   ]
  },
  {
   "cell_type": "code",
   "execution_count": 27,
   "metadata": {},
   "outputs": [],
   "source": [
    "main_body = []\n",
    "for email in emails:\n",
    "    \n",
    "    whole_msg = email['parts'][0]['content']\n",
    "    \n",
    "    #first check whether double new line and 'From: ' is present\n",
    "    #if so, then string contains a response/is a thread\n",
    "    \n",
    "    substring_list = ['From: ', 'To: ']\n",
    "    if any(substring in whole_msg for substring in substring_list):\n",
    "    \n",
    "        #finds all \\n\\n+ strings\n",
    "        double_return_starts = []\n",
    "        for m in re.finditer(r'\\n\\n+', whole_msg):\n",
    "            double_return_starts.append(m.start())\n",
    "            \n",
    "        if double_return_starts:\n",
    "            latest_msg = whole_msg[:double_return_starts[0]]\n",
    "            main_body.append(latest_msg.strip())\n",
    "        else:\n",
    "            main_body.append(whole_msg)\n",
    "    else:\n",
    "        main_body.append(whole_msg)"
   ]
  },
  {
   "cell_type": "code",
   "execution_count": 28,
   "metadata": {},
   "outputs": [
    {
     "data": {
      "text/plain": [
       "8679"
      ]
     },
     "execution_count": 28,
     "metadata": {},
     "output_type": "execute_result"
    },
    {
     "data": {
      "text/plain": [
       "8679"
      ]
     },
     "execution_count": 28,
     "metadata": {},
     "output_type": "execute_result"
    }
   ],
   "source": [
    "len(main_body)\n",
    "len(emails)"
   ]
  },
  {
   "cell_type": "code",
   "execution_count": 29,
   "metadata": {},
   "outputs": [],
   "source": [
    "for idx, msg in enumerate(main_body):\n",
    "    forwarded = msg.find('Forwarded')\n",
    "    if forwarded != -1:\n",
    "        main_body[idx] = msg[:forwarded]"
   ]
  },
  {
   "cell_type": "markdown",
   "metadata": {},
   "source": [
    "Finally, remove duplicate emails."
   ]
  },
  {
   "cell_type": "code",
   "execution_count": 30,
   "metadata": {},
   "outputs": [],
   "source": [
    "email_content = []\n",
    "unique_email_index = []\n",
    "tuples = []\n",
    "for idx, (email, content) in enumerate(zip(emails, main_body)):\n",
    "    tuple_ = (email['From'], email['To'], content)\n",
    "    if tuple_ not in tuples:\n",
    "        unique_email_index.append(idx)\n",
    "        email_content.append(content)\n",
    "        tuples.append(tuple_)\n",
    "    else:\n",
    "        continue\n",
    "\n",
    "emails = [emails[i] for i in unique_email_index]"
   ]
  },
  {
   "cell_type": "code",
   "execution_count": 31,
   "metadata": {},
   "outputs": [
    {
     "data": {
      "text/plain": [
       "6262"
      ]
     },
     "execution_count": 31,
     "metadata": {},
     "output_type": "execute_result"
    },
    {
     "data": {
      "text/plain": [
       "6262"
      ]
     },
     "execution_count": 31,
     "metadata": {},
     "output_type": "execute_result"
    }
   ],
   "source": [
    "len(email_content)\n",
    "len(emails)"
   ]
  },
  {
   "cell_type": "markdown",
   "metadata": {},
   "source": [
    "Clean email content."
   ]
  },
  {
   "cell_type": "code",
   "execution_count": 32,
   "metadata": {},
   "outputs": [],
   "source": [
    "#clean strings\n",
    "for i in range(len(email_content)):\n",
    "    email_content[i] = email_content[i].replace('\\n', ' ')\n",
    "    email_content[i] = email_content[i].replace('\\t', ' ')\n",
    "    email_content[i] = re.sub('--+', '', email_content[i])\n",
    "    email_content[i] = re.sub(' +', ' ', email_content[i])\n",
    "    email_content[i] = re.sub('[0-9]+/[0-9]+/[0-9]+ ([0-9]+:[0-9]+)* [a-zA-Z]{2}', '', email_content[i])\n",
    "    email_content[i] = re.sub('@([a-zA-Z])*', '', email_content[i])\n",
    "    email_content[i] = re.sub('/[a-zA-Z]*/[a-zA-Z]*', '', email_content[i])\n",
    "    email_content[i] = email_content[i].strip()"
   ]
  },
  {
   "cell_type": "markdown",
   "metadata": {},
   "source": [
    "Use SpaCy to get POS tagging."
   ]
  },
  {
   "cell_type": "code",
   "execution_count": 33,
   "metadata": {},
   "outputs": [],
   "source": [
    "nlp = spacy.load('en')"
   ]
  },
  {
   "cell_type": "code",
   "execution_count": 34,
   "metadata": {},
   "outputs": [],
   "source": [
    "caps = []\n",
    "total_msg_lens = []\n",
    "periods, commas = [], []\n",
    "ex_marks, q_marks = [], []\n",
    "word_tokens = []\n",
    "pos = []\n",
    "for email in email_content:\n",
    "    caps.append(sum(1 for s in email if s.isupper()))\n",
    "    total_msg_lens.append(len(email))\n",
    "    periods.append(sum(1 for s in email if s == '.'))\n",
    "    commas.append(sum(1 for s in email if s == ','))\n",
    "    ex_marks.append(sum(1 for s in email if s == '!'))\n",
    "    q_marks.append(sum(1 for s in email if s == '?'))\n",
    "    #email = email.lower()\n",
    "    pos.append(nlp(email))\n",
    "    word_tokens.append(word_tokenize(email))"
   ]
  },
  {
   "cell_type": "code",
   "execution_count": 35,
   "metadata": {},
   "outputs": [],
   "source": [
    "joblib.dump(email_content, '11-email_content.pkl');\n",
    "#email_content = joblib.load('11-email_content.pkl')"
   ]
  },
  {
   "cell_type": "code",
   "execution_count": 36,
   "metadata": {},
   "outputs": [],
   "source": [
    "punct = string.punctuation\n",
    "word_counts = []\n",
    "for i in range(len(word_tokens)):\n",
    "    words = [w for w in word_tokens[i] if not w in punct]\n",
    "    word_counts.append(len(words))"
   ]
  },
  {
   "cell_type": "code",
   "execution_count": 37,
   "metadata": {},
   "outputs": [],
   "source": [
    "text_features = pd.DataFrame(\n",
    "    {\n",
    "        'caps':caps,\n",
    "        'msg_len':total_msg_lens,\n",
    "        'periods':periods,\n",
    "        'commas':commas,\n",
    "        'ex_marks':ex_marks,\n",
    "        'q_marks':q_marks,\n",
    "        'word_count':word_counts\n",
    "    }\n",
    ")"
   ]
  },
  {
   "cell_type": "markdown",
   "metadata": {},
   "source": [
    "Add POS information."
   ]
  },
  {
   "cell_type": "code",
   "execution_count": 38,
   "metadata": {},
   "outputs": [],
   "source": [
    "from collections import defaultdict\n",
    "\n",
    "pos_counts = []\n",
    "for doc in pos:\n",
    "    d = defaultdict(int)\n",
    "    for word in doc:\n",
    "        d[word.pos_] +=1\n",
    "    pos_counts.append(d)"
   ]
  },
  {
   "cell_type": "code",
   "execution_count": 39,
   "metadata": {},
   "outputs": [
    {
     "data": {
      "text/html": [
       "<div>\n",
       "<style>\n",
       "    .dataframe thead tr:only-child th {\n",
       "        text-align: right;\n",
       "    }\n",
       "\n",
       "    .dataframe thead th {\n",
       "        text-align: left;\n",
       "    }\n",
       "\n",
       "    .dataframe tbody tr th {\n",
       "        vertical-align: top;\n",
       "    }\n",
       "</style>\n",
       "<table border=\"1\" class=\"dataframe\">\n",
       "  <thead>\n",
       "    <tr style=\"text-align: right;\">\n",
       "      <th></th>\n",
       "      <th>adj</th>\n",
       "      <th>adp</th>\n",
       "      <th>adv</th>\n",
       "      <th>cconj</th>\n",
       "      <th>det</th>\n",
       "      <th>intj</th>\n",
       "      <th>noun</th>\n",
       "      <th>num</th>\n",
       "      <th>part</th>\n",
       "      <th>pron</th>\n",
       "      <th>propn</th>\n",
       "      <th>punct</th>\n",
       "      <th>space</th>\n",
       "      <th>sym</th>\n",
       "      <th>verb</th>\n",
       "      <th>x</th>\n",
       "    </tr>\n",
       "  </thead>\n",
       "  <tbody>\n",
       "    <tr>\n",
       "      <th>0</th>\n",
       "      <td>1.0</td>\n",
       "      <td>0.0</td>\n",
       "      <td>1.0</td>\n",
       "      <td>0.0</td>\n",
       "      <td>0.0</td>\n",
       "      <td>0.0</td>\n",
       "      <td>1.0</td>\n",
       "      <td>0.0</td>\n",
       "      <td>0.0</td>\n",
       "      <td>0.0</td>\n",
       "      <td>0.0</td>\n",
       "      <td>0.0</td>\n",
       "      <td>0.0</td>\n",
       "      <td>0.0</td>\n",
       "      <td>1.0</td>\n",
       "      <td>0.0</td>\n",
       "    </tr>\n",
       "    <tr>\n",
       "      <th>1</th>\n",
       "      <td>10.0</td>\n",
       "      <td>13.0</td>\n",
       "      <td>15.0</td>\n",
       "      <td>7.0</td>\n",
       "      <td>16.0</td>\n",
       "      <td>0.0</td>\n",
       "      <td>35.0</td>\n",
       "      <td>0.0</td>\n",
       "      <td>5.0</td>\n",
       "      <td>5.0</td>\n",
       "      <td>1.0</td>\n",
       "      <td>11.0</td>\n",
       "      <td>0.0</td>\n",
       "      <td>0.0</td>\n",
       "      <td>33.0</td>\n",
       "      <td>0.0</td>\n",
       "    </tr>\n",
       "    <tr>\n",
       "      <th>2</th>\n",
       "      <td>2.0</td>\n",
       "      <td>5.0</td>\n",
       "      <td>0.0</td>\n",
       "      <td>2.0</td>\n",
       "      <td>4.0</td>\n",
       "      <td>0.0</td>\n",
       "      <td>9.0</td>\n",
       "      <td>0.0</td>\n",
       "      <td>1.0</td>\n",
       "      <td>2.0</td>\n",
       "      <td>4.0</td>\n",
       "      <td>5.0</td>\n",
       "      <td>0.0</td>\n",
       "      <td>0.0</td>\n",
       "      <td>5.0</td>\n",
       "      <td>0.0</td>\n",
       "    </tr>\n",
       "    <tr>\n",
       "      <th>3</th>\n",
       "      <td>0.0</td>\n",
       "      <td>2.0</td>\n",
       "      <td>0.0</td>\n",
       "      <td>0.0</td>\n",
       "      <td>0.0</td>\n",
       "      <td>0.0</td>\n",
       "      <td>0.0</td>\n",
       "      <td>1.0</td>\n",
       "      <td>0.0</td>\n",
       "      <td>1.0</td>\n",
       "      <td>1.0</td>\n",
       "      <td>1.0</td>\n",
       "      <td>0.0</td>\n",
       "      <td>0.0</td>\n",
       "      <td>2.0</td>\n",
       "      <td>0.0</td>\n",
       "    </tr>\n",
       "    <tr>\n",
       "      <th>4</th>\n",
       "      <td>1.0</td>\n",
       "      <td>1.0</td>\n",
       "      <td>1.0</td>\n",
       "      <td>1.0</td>\n",
       "      <td>1.0</td>\n",
       "      <td>0.0</td>\n",
       "      <td>0.0</td>\n",
       "      <td>0.0</td>\n",
       "      <td>0.0</td>\n",
       "      <td>0.0</td>\n",
       "      <td>4.0</td>\n",
       "      <td>2.0</td>\n",
       "      <td>0.0</td>\n",
       "      <td>0.0</td>\n",
       "      <td>0.0</td>\n",
       "      <td>0.0</td>\n",
       "    </tr>\n",
       "  </tbody>\n",
       "</table>\n",
       "</div>"
      ],
      "text/plain": [
       "    adj   adp   adv  cconj   det  intj  noun  num  part  pron  propn  punct  \\\n",
       "0   1.0   0.0   1.0    0.0   0.0   0.0   1.0  0.0   0.0   0.0    0.0    0.0   \n",
       "1  10.0  13.0  15.0    7.0  16.0   0.0  35.0  0.0   5.0   5.0    1.0   11.0   \n",
       "2   2.0   5.0   0.0    2.0   4.0   0.0   9.0  0.0   1.0   2.0    4.0    5.0   \n",
       "3   0.0   2.0   0.0    0.0   0.0   0.0   0.0  1.0   0.0   1.0    1.0    1.0   \n",
       "4   1.0   1.0   1.0    1.0   1.0   0.0   0.0  0.0   0.0   0.0    4.0    2.0   \n",
       "\n",
       "   space  sym  verb    x  \n",
       "0    0.0  0.0   1.0  0.0  \n",
       "1    0.0  0.0  33.0  0.0  \n",
       "2    0.0  0.0   5.0  0.0  \n",
       "3    0.0  0.0   2.0  0.0  \n",
       "4    0.0  0.0   0.0  0.0  "
      ]
     },
     "execution_count": 39,
     "metadata": {},
     "output_type": "execute_result"
    }
   ],
   "source": [
    "df_pos_counts = pd.DataFrame(pos_counts)\n",
    "df_pos_counts.columns = df_pos_counts.columns.str.lower()\n",
    "df_pos_counts.replace(np.nan, 0, inplace = True)\n",
    "df_pos_counts.head()"
   ]
  },
  {
   "cell_type": "code",
   "execution_count": 40,
   "metadata": {},
   "outputs": [],
   "source": [
    "text_features = pd.concat([text_features, df_pos_counts], axis = 1)"
   ]
  },
  {
   "cell_type": "markdown",
   "metadata": {},
   "source": [
    "Get number of sentences and average length of sentence in message."
   ]
  },
  {
   "cell_type": "code",
   "execution_count": 41,
   "metadata": {},
   "outputs": [],
   "source": [
    "num_sentences = []\n",
    "sentence_len_mean = []\n",
    "for email in emails:\n",
    "    tokens = sent_tokenize(email['parts'][0]['content'])\n",
    "    num_sentences.append(len(tokens))\n",
    "    len_sentence = []\n",
    "    for token in tokens:\n",
    "        s = ''.join(ch for ch in token if ch not in string.punctuation)\n",
    "        s = s.strip()\n",
    "        len_sentence.append(len(s.split(' ')))\n",
    "    if len_sentence:\n",
    "        sentence_len_mean.append(np.mean(len_sentence))\n",
    "    else:\n",
    "        sentence_len_mean.append(0)\n",
    "\n",
    "text_features['num_sentences'] = num_sentences\n",
    "text_features['len_sentence_mean'] = sentence_len_mean"
   ]
  },
  {
   "cell_type": "markdown",
   "metadata": {},
   "source": [
    "Get out how many recipients the email has."
   ]
  },
  {
   "cell_type": "code",
   "execution_count": 42,
   "metadata": {},
   "outputs": [],
   "source": [
    "num_recipients = []\n",
    "for email in emails:\n",
    "    num_recipients.append(len(email['To']))\n",
    "    \n",
    "text_features['num_recipients'] = num_recipients"
   ]
  },
  {
   "cell_type": "markdown",
   "metadata": {},
   "source": [
    "Gender of senders and recipients (if multiple recipients, put 'Group' as gender because any gender effects will likely be washed out)."
   ]
  },
  {
   "cell_type": "code",
   "execution_count": 43,
   "metadata": {},
   "outputs": [],
   "source": [
    "import gender_guesser.detector as gender\n",
    "d = gender.Detector(case_sensitive = False)\n",
    "\n",
    "send_gender = []\n",
    "receive_gender = []\n",
    "for email in emails:\n",
    "    \n",
    "    send_name = email['X-From']\n",
    "    #name structure is 'First, Last'\n",
    "    send_name = send_name.split(' ', 1)[0]\n",
    "    send_gender.append(d.get_gender(send_name))\n",
    "    \n",
    "    if len(email['To']) > 1:\n",
    "        receive_gender.append('group')\n",
    "    \n",
    "    else:\n",
    "        r_name = email['X-To']\n",
    "        r_name = r_name.split(' ', 1)[0]\n",
    "        gender = d.get_gender(r_name)\n",
    "        receive_gender.append(gender)"
   ]
  },
  {
   "cell_type": "code",
   "execution_count": 44,
   "metadata": {},
   "outputs": [],
   "source": [
    "text_features['send_gender'] = send_gender\n",
    "text_features['receive_gender'] = receive_gender"
   ]
  },
  {
   "cell_type": "markdown",
   "metadata": {},
   "source": [
    "Get sentiment scores"
   ]
  },
  {
   "cell_type": "code",
   "execution_count": 45,
   "metadata": {},
   "outputs": [],
   "source": [
    "from vaderSentiment.vaderSentiment import SentimentIntensityAnalyzer"
   ]
  },
  {
   "cell_type": "code",
   "execution_count": 46,
   "metadata": {},
   "outputs": [],
   "source": [
    "analyzer = SentimentIntensityAnalyzer()\n",
    "\n",
    "sentiments_list = []\n",
    "for email in email_content:\n",
    "    sentences = sent_tokenize(email)\n",
    "    \n",
    "    sentence_sentiments = []\n",
    "    for sentence in sentences:\n",
    "        vs = analyzer.polarity_scores(sentence)\n",
    "        sentence_sentiments.append(vs)\n",
    "    \n",
    "    msg_sentiments = {}\n",
    "    for k in vs.keys():\n",
    "        if sentence_sentiments:\n",
    "            mean = sum(d[k] for d in sentence_sentiments) / len(sentence_sentiments)\n",
    "            msg_sentiments[k] = mean\n",
    "        else:\n",
    "            msg_sentiments[k] = np.nan\n",
    "    \n",
    "    sentiments_list.append(msg_sentiments)\n",
    "\n",
    "sentiments = pd.DataFrame(sentiments_list)"
   ]
  },
  {
   "cell_type": "code",
   "execution_count": 47,
   "metadata": {},
   "outputs": [],
   "source": [
    "text_features = pd.concat([text_features, sentiments], axis = 1)"
   ]
  },
  {
   "cell_type": "markdown",
   "metadata": {},
   "source": [
    "Identify pairs (not looking for pairs over time)."
   ]
  },
  {
   "cell_type": "code",
   "execution_count": 103,
   "metadata": {},
   "outputs": [],
   "source": [
    "from datetime import datetime as dt\n",
    "\n",
    "senders, receivers = [], []\n",
    "dates = []\n",
    "for email in emails:\n",
    "    senders.append(email['From'])\n",
    "    receive = email['To']\n",
    "    if len(receive) > 1:\n",
    "        receivers.append('group')\n",
    "    else:\n",
    "        receivers.append(receive[0])\n",
    "    date = email['Date']\n",
    "    date = dt.strptime(date, '%Y-%m-%d %H:%M:%S')\n",
    "    dates.append(date)"
   ]
  },
  {
   "cell_type": "code",
   "execution_count": 104,
   "metadata": {},
   "outputs": [],
   "source": [
    "text_features['sender'] = senders\n",
    "text_features['receiver'] = receivers\n",
    "text_features['date'] = dates"
   ]
  },
  {
   "cell_type": "code",
   "execution_count": 50,
   "metadata": {},
   "outputs": [
    {
     "data": {
      "text/html": [
       "<div>\n",
       "<style>\n",
       "    .dataframe thead tr:only-child th {\n",
       "        text-align: right;\n",
       "    }\n",
       "\n",
       "    .dataframe thead th {\n",
       "        text-align: left;\n",
       "    }\n",
       "\n",
       "    .dataframe tbody tr th {\n",
       "        vertical-align: top;\n",
       "    }\n",
       "</style>\n",
       "<table border=\"1\" class=\"dataframe\">\n",
       "  <thead>\n",
       "    <tr style=\"text-align: right;\">\n",
       "      <th></th>\n",
       "      <th>caps</th>\n",
       "      <th>commas</th>\n",
       "      <th>ex_marks</th>\n",
       "      <th>msg_len</th>\n",
       "      <th>periods</th>\n",
       "      <th>q_marks</th>\n",
       "      <th>word_count</th>\n",
       "      <th>adj</th>\n",
       "      <th>adp</th>\n",
       "      <th>adv</th>\n",
       "      <th>cconj</th>\n",
       "      <th>det</th>\n",
       "      <th>intj</th>\n",
       "      <th>noun</th>\n",
       "      <th>num</th>\n",
       "      <th>part</th>\n",
       "      <th>pron</th>\n",
       "      <th>propn</th>\n",
       "      <th>punct</th>\n",
       "      <th>space</th>\n",
       "      <th>sym</th>\n",
       "      <th>verb</th>\n",
       "      <th>x</th>\n",
       "      <th>num_sentences</th>\n",
       "      <th>len_sentence_mean</th>\n",
       "      <th>num_recipients</th>\n",
       "      <th>send_gender</th>\n",
       "      <th>receive_gender</th>\n",
       "      <th>compound</th>\n",
       "      <th>neg</th>\n",
       "      <th>neu</th>\n",
       "      <th>pos</th>\n",
       "      <th>sender</th>\n",
       "      <th>receiver</th>\n",
       "      <th>date</th>\n",
       "    </tr>\n",
       "  </thead>\n",
       "  <tbody>\n",
       "    <tr>\n",
       "      <th>0</th>\n",
       "      <td>1</td>\n",
       "      <td>0</td>\n",
       "      <td>0</td>\n",
       "      <td>20</td>\n",
       "      <td>0</td>\n",
       "      <td>0</td>\n",
       "      <td>4</td>\n",
       "      <td>1.0</td>\n",
       "      <td>0.0</td>\n",
       "      <td>1.0</td>\n",
       "      <td>0.0</td>\n",
       "      <td>0.0</td>\n",
       "      <td>0.0</td>\n",
       "      <td>1.0</td>\n",
       "      <td>0.0</td>\n",
       "      <td>0.0</td>\n",
       "      <td>0.0</td>\n",
       "      <td>0.0</td>\n",
       "      <td>0.0</td>\n",
       "      <td>0.0</td>\n",
       "      <td>0.0</td>\n",
       "      <td>1.0</td>\n",
       "      <td>0.0</td>\n",
       "      <td>1</td>\n",
       "      <td>4.0</td>\n",
       "      <td>1</td>\n",
       "      <td>male</td>\n",
       "      <td>male</td>\n",
       "      <td>0.0000</td>\n",
       "      <td>0.000</td>\n",
       "      <td>1.0000</td>\n",
       "      <td>0.0000</td>\n",
       "      <td>phillip.allen@enron.com</td>\n",
       "      <td>tim.belden@enron.com</td>\n",
       "      <td>2000-05-03 09:16:00</td>\n",
       "    </tr>\n",
       "    <tr>\n",
       "      <th>1</th>\n",
       "      <td>12</td>\n",
       "      <td>1</td>\n",
       "      <td>0</td>\n",
       "      <td>773</td>\n",
       "      <td>10</td>\n",
       "      <td>0</td>\n",
       "      <td>140</td>\n",
       "      <td>10.0</td>\n",
       "      <td>13.0</td>\n",
       "      <td>15.0</td>\n",
       "      <td>7.0</td>\n",
       "      <td>16.0</td>\n",
       "      <td>0.0</td>\n",
       "      <td>35.0</td>\n",
       "      <td>0.0</td>\n",
       "      <td>5.0</td>\n",
       "      <td>5.0</td>\n",
       "      <td>1.0</td>\n",
       "      <td>11.0</td>\n",
       "      <td>0.0</td>\n",
       "      <td>0.0</td>\n",
       "      <td>33.0</td>\n",
       "      <td>0.0</td>\n",
       "      <td>10</td>\n",
       "      <td>13.9</td>\n",
       "      <td>1</td>\n",
       "      <td>male</td>\n",
       "      <td>male</td>\n",
       "      <td>0.2177</td>\n",
       "      <td>0.000</td>\n",
       "      <td>0.8987</td>\n",
       "      <td>0.1013</td>\n",
       "      <td>phillip.allen@enron.com</td>\n",
       "      <td>john.lavorato@enron.com</td>\n",
       "      <td>2000-05-03 09:16:00</td>\n",
       "    </tr>\n",
       "    <tr>\n",
       "      <th>2</th>\n",
       "      <td>6</td>\n",
       "      <td>1</td>\n",
       "      <td>0</td>\n",
       "      <td>180</td>\n",
       "      <td>2</td>\n",
       "      <td>0</td>\n",
       "      <td>34</td>\n",
       "      <td>2.0</td>\n",
       "      <td>5.0</td>\n",
       "      <td>0.0</td>\n",
       "      <td>2.0</td>\n",
       "      <td>4.0</td>\n",
       "      <td>0.0</td>\n",
       "      <td>9.0</td>\n",
       "      <td>0.0</td>\n",
       "      <td>1.0</td>\n",
       "      <td>2.0</td>\n",
       "      <td>4.0</td>\n",
       "      <td>5.0</td>\n",
       "      <td>0.0</td>\n",
       "      <td>0.0</td>\n",
       "      <td>5.0</td>\n",
       "      <td>0.0</td>\n",
       "      <td>3</td>\n",
       "      <td>11.0</td>\n",
       "      <td>1</td>\n",
       "      <td>male</td>\n",
       "      <td>male</td>\n",
       "      <td>0.0000</td>\n",
       "      <td>0.000</td>\n",
       "      <td>1.0000</td>\n",
       "      <td>0.0000</td>\n",
       "      <td>phillip.allen@enron.com</td>\n",
       "      <td>randall.gay@enron.com</td>\n",
       "      <td>2000-05-03 09:16:00</td>\n",
       "    </tr>\n",
       "    <tr>\n",
       "      <th>3</th>\n",
       "      <td>2</td>\n",
       "      <td>0</td>\n",
       "      <td>0</td>\n",
       "      <td>33</td>\n",
       "      <td>1</td>\n",
       "      <td>0</td>\n",
       "      <td>7</td>\n",
       "      <td>0.0</td>\n",
       "      <td>2.0</td>\n",
       "      <td>0.0</td>\n",
       "      <td>0.0</td>\n",
       "      <td>0.0</td>\n",
       "      <td>0.0</td>\n",
       "      <td>0.0</td>\n",
       "      <td>1.0</td>\n",
       "      <td>0.0</td>\n",
       "      <td>1.0</td>\n",
       "      <td>1.0</td>\n",
       "      <td>1.0</td>\n",
       "      <td>0.0</td>\n",
       "      <td>0.0</td>\n",
       "      <td>2.0</td>\n",
       "      <td>0.0</td>\n",
       "      <td>1</td>\n",
       "      <td>6.0</td>\n",
       "      <td>1</td>\n",
       "      <td>male</td>\n",
       "      <td>male</td>\n",
       "      <td>-0.3400</td>\n",
       "      <td>0.324</td>\n",
       "      <td>0.6760</td>\n",
       "      <td>0.0000</td>\n",
       "      <td>phillip.allen@enron.com</td>\n",
       "      <td>greg.piper@enron.com</td>\n",
       "      <td>2000-05-03 09:16:00</td>\n",
       "    </tr>\n",
       "    <tr>\n",
       "      <th>4</th>\n",
       "      <td>5</td>\n",
       "      <td>1</td>\n",
       "      <td>0</td>\n",
       "      <td>56</td>\n",
       "      <td>0</td>\n",
       "      <td>1</td>\n",
       "      <td>9</td>\n",
       "      <td>1.0</td>\n",
       "      <td>1.0</td>\n",
       "      <td>1.0</td>\n",
       "      <td>1.0</td>\n",
       "      <td>1.0</td>\n",
       "      <td>0.0</td>\n",
       "      <td>0.0</td>\n",
       "      <td>0.0</td>\n",
       "      <td>0.0</td>\n",
       "      <td>0.0</td>\n",
       "      <td>4.0</td>\n",
       "      <td>2.0</td>\n",
       "      <td>0.0</td>\n",
       "      <td>0.0</td>\n",
       "      <td>0.0</td>\n",
       "      <td>0.0</td>\n",
       "      <td>2</td>\n",
       "      <td>4.5</td>\n",
       "      <td>1</td>\n",
       "      <td>male</td>\n",
       "      <td>male</td>\n",
       "      <td>0.0000</td>\n",
       "      <td>0.000</td>\n",
       "      <td>1.0000</td>\n",
       "      <td>0.0000</td>\n",
       "      <td>phillip.allen@enron.com</td>\n",
       "      <td>greg.piper@enron.com</td>\n",
       "      <td>2000-05-03 09:16:00</td>\n",
       "    </tr>\n",
       "  </tbody>\n",
       "</table>\n",
       "</div>"
      ],
      "text/plain": [
       "   caps  commas  ex_marks  msg_len  periods  q_marks  word_count   adj   adp  \\\n",
       "0     1       0         0       20        0        0           4   1.0   0.0   \n",
       "1    12       1         0      773       10        0         140  10.0  13.0   \n",
       "2     6       1         0      180        2        0          34   2.0   5.0   \n",
       "3     2       0         0       33        1        0           7   0.0   2.0   \n",
       "4     5       1         0       56        0        1           9   1.0   1.0   \n",
       "\n",
       "    adv  cconj   det  intj  noun  num  part  pron  propn  punct  space  sym  \\\n",
       "0   1.0    0.0   0.0   0.0   1.0  0.0   0.0   0.0    0.0    0.0    0.0  0.0   \n",
       "1  15.0    7.0  16.0   0.0  35.0  0.0   5.0   5.0    1.0   11.0    0.0  0.0   \n",
       "2   0.0    2.0   4.0   0.0   9.0  0.0   1.0   2.0    4.0    5.0    0.0  0.0   \n",
       "3   0.0    0.0   0.0   0.0   0.0  1.0   0.0   1.0    1.0    1.0    0.0  0.0   \n",
       "4   1.0    1.0   1.0   0.0   0.0  0.0   0.0   0.0    4.0    2.0    0.0  0.0   \n",
       "\n",
       "   verb    x  num_sentences  len_sentence_mean  num_recipients send_gender  \\\n",
       "0   1.0  0.0              1                4.0               1        male   \n",
       "1  33.0  0.0             10               13.9               1        male   \n",
       "2   5.0  0.0              3               11.0               1        male   \n",
       "3   2.0  0.0              1                6.0               1        male   \n",
       "4   0.0  0.0              2                4.5               1        male   \n",
       "\n",
       "  receive_gender  compound    neg     neu     pos                   sender  \\\n",
       "0           male    0.0000  0.000  1.0000  0.0000  phillip.allen@enron.com   \n",
       "1           male    0.2177  0.000  0.8987  0.1013  phillip.allen@enron.com   \n",
       "2           male    0.0000  0.000  1.0000  0.0000  phillip.allen@enron.com   \n",
       "3           male   -0.3400  0.324  0.6760  0.0000  phillip.allen@enron.com   \n",
       "4           male    0.0000  0.000  1.0000  0.0000  phillip.allen@enron.com   \n",
       "\n",
       "                  receiver                date  \n",
       "0     tim.belden@enron.com 2000-05-03 09:16:00  \n",
       "1  john.lavorato@enron.com 2000-05-03 09:16:00  \n",
       "2    randall.gay@enron.com 2000-05-03 09:16:00  \n",
       "3     greg.piper@enron.com 2000-05-03 09:16:00  \n",
       "4     greg.piper@enron.com 2000-05-03 09:16:00  "
      ]
     },
     "execution_count": 50,
     "metadata": {},
     "output_type": "execute_result"
    }
   ],
   "source": [
    "text_features.head()"
   ]
  },
  {
   "cell_type": "code",
   "execution_count": 51,
   "metadata": {},
   "outputs": [
    {
     "name": "stdout",
     "output_type": "stream",
     "text": [
      "<class 'pandas.core.frame.DataFrame'>\n",
      "RangeIndex: 6262 entries, 0 to 6261\n",
      "Data columns (total 35 columns):\n",
      "caps                 6262 non-null int64\n",
      "commas               6262 non-null int64\n",
      "ex_marks             6262 non-null int64\n",
      "msg_len              6262 non-null int64\n",
      "periods              6262 non-null int64\n",
      "q_marks              6262 non-null int64\n",
      "word_count           6262 non-null int64\n",
      "adj                  6262 non-null float64\n",
      "adp                  6262 non-null float64\n",
      "adv                  6262 non-null float64\n",
      "cconj                6262 non-null float64\n",
      "det                  6262 non-null float64\n",
      "intj                 6262 non-null float64\n",
      "noun                 6262 non-null float64\n",
      "num                  6262 non-null float64\n",
      "part                 6262 non-null float64\n",
      "pron                 6262 non-null float64\n",
      "propn                6262 non-null float64\n",
      "punct                6262 non-null float64\n",
      "space                6262 non-null float64\n",
      "sym                  6262 non-null float64\n",
      "verb                 6262 non-null float64\n",
      "x                    6262 non-null float64\n",
      "num_sentences        6262 non-null int64\n",
      "len_sentence_mean    6262 non-null float64\n",
      "num_recipients       6262 non-null int64\n",
      "send_gender          6262 non-null object\n",
      "receive_gender       6262 non-null object\n",
      "compound             5991 non-null float64\n",
      "neg                  5991 non-null float64\n",
      "neu                  5991 non-null float64\n",
      "pos                  5991 non-null float64\n",
      "sender               6262 non-null object\n",
      "receiver             6262 non-null object\n",
      "date                 6262 non-null datetime64[ns]\n",
      "dtypes: datetime64[ns](1), float64(21), int64(9), object(4)\n",
      "memory usage: 1.7+ MB\n"
     ]
    }
   ],
   "source": [
    "text_features.info()"
   ]
  },
  {
   "cell_type": "markdown",
   "metadata": {},
   "source": [
    "### Visualizing sentiments"
   ]
  },
  {
   "cell_type": "code",
   "execution_count": 53,
   "metadata": {},
   "outputs": [
    {
     "data": {
      "image/png": "[encoded data removed]",
      "text/plain": [
       "<matplotlib.figure.Figure at 0x15073a518>"
      ]
     },
     "metadata": {},
     "output_type": "display_data"
    }
   ],
   "source": [
    "fig = plt.figure(1);\n",
    "fig.set_size_inches(10, 7)\n",
    "\n",
    "bins = 25\n",
    "\n",
    "fig = plt.subplot(221);\n",
    "_ = text_features['compound'].hist(bins = bins);\n",
    "_ = plt.title('Compound sentiment score (-1, 1)')\n",
    "\n",
    "fig = plt.subplot(222);\n",
    "_ = text_features['neg'].hist(bins = bins);\n",
    "_ = plt.title('Negative sentiment score')\n",
    "\n",
    "\n",
    "fig = plt.subplot(223);\n",
    "_ = text_features['pos'].hist(bins = bins);\n",
    "_ = plt.title('Positive sentiment score')\n",
    "\n",
    "fig = plt.subplot(224);\n",
    "_ = text_features['neu'].hist(bins = bins);\n",
    "_ = plt.title('Neutral sentiment score')\n",
    "\n",
    "_ = plt.subplots_adjust(top=0.76)\n",
    "_ = plt.suptitle('Sentiment scores')\n",
    "_ = plt.tight_layout()"
   ]
  },
  {
   "cell_type": "markdown",
   "metadata": {},
   "source": [
    "## Clustering\n",
    "\n",
    "DBSCAN (Density-Based Spatial Clustering of Applications with Noise)"
   ]
  },
  {
   "cell_type": "code",
   "execution_count": 169,
   "metadata": {},
   "outputs": [],
   "source": [
    "from sklearn.preprocessing import StandardScaler, Imputer\n",
    "from sklearn.cluster import DBSCAN\n",
    "from sklearn.metrics import silhouette_score"
   ]
  },
  {
   "cell_type": "markdown",
   "metadata": {},
   "source": [
    "Drop categorical columns, as clustering can't handle those features."
   ]
  },
  {
   "cell_type": "code",
   "execution_count": 55,
   "metadata": {},
   "outputs": [],
   "source": [
    "to_drop = ['send_gender', 'receive_gender', 'sender', 'receiver', 'date']\n",
    "for_clustering = text_features.drop(to_drop, axis = 1)\n",
    "X_matrix = for_clustering.as_matrix()"
   ]
  },
  {
   "cell_type": "code",
   "execution_count": 56,
   "metadata": {},
   "outputs": [],
   "source": [
    "imp = Imputer(missing_values = 'NaN', strategy = 'mean')\n",
    "X_imp = imp.fit_transform(X_matrix)\n",
    "\n",
    "scaler = StandardScaler()\n",
    "X = scaler.fit_transform(X_imp)"
   ]
  },
  {
   "cell_type": "code",
   "execution_count": 57,
   "metadata": {},
   "outputs": [
    {
     "data": {
      "text/plain": [
       "DBSCAN(algorithm='auto', eps=0.05, leaf_size=30, metric='cosine',\n",
       "    metric_params=None, min_samples=10, n_jobs=1, p=None)"
      ]
     },
     "execution_count": 57,
     "metadata": {},
     "output_type": "execute_result"
    }
   ],
   "source": [
    "db = DBSCAN(metric = 'cosine', min_samples = 10, eps = 0.05)\n",
    "db.fit(X)\n",
    "db_clusters = list(db.labels_)"
   ]
  },
  {
   "cell_type": "code",
   "execution_count": 58,
   "metadata": {},
   "outputs": [
    {
     "data": {
      "text/plain": [
       "-1     3330\n",
       " 0     1623\n",
       " 2      698\n",
       " 1      220\n",
       " 10      92\n",
       " 11      55\n",
       " 4       48\n",
       " 6       46\n",
       " 5       38\n",
       " 7       22\n",
       " 3       21\n",
       " 12      18\n",
       " 14      11\n",
       " 13      10\n",
       " 9       10\n",
       " 8       10\n",
       " 15      10\n",
       "dtype: int64"
      ]
     },
     "execution_count": 58,
     "metadata": {},
     "output_type": "execute_result"
    }
   ],
   "source": [
    "db_clusters = pd.Series(db_clusters)\n",
    "db_clusters.value_counts()"
   ]
  },
  {
   "cell_type": "code",
   "execution_count": 59,
   "metadata": {},
   "outputs": [],
   "source": [
    "joblib.dump(db, '11-dbscan_no_tfidf.pkl');"
   ]
  },
  {
   "cell_type": "markdown",
   "metadata": {},
   "source": [
    "This notebook has the same analysis as notebook `10-analysis-senders-not-filtered.ipynb`, except senders and receivers are filtered such that those who only sent/received 2 or fewer emails are not represented. Clustering in that notebook revealed these messages may be adding noise. Also, from last notebook, don't use tf-idf BOW model for clustering."
   ]
  },
  {
   "cell_type": "code",
   "execution_count": 1,
   "metadata": {
    "collapsed": true
   },
   "outputs": [],
   "source": [
    "import pandas as pd\n",
    "import json\n",
    "import re\n",
    "import numpy as np\n",
    "\n",
    "from sklearn.externals import joblib\n",
    "import pickle\n",
    "\n",
    "import matplotlib.pyplot as plt\n",
    "import seaborn as sns\n",
    "%matplotlib inline\n",
    "\n",
    "from IPython.core.interactiveshell import InteractiveShell\n",
    "InteractiveShell.ast_node_interactivity = 'all'\n",
    "\n",
    "import nltk\n",
    "from nltk.tokenize import word_tokenize, sent_tokenize\n",
    "import string\n",
    "import spacy"
   ]
  },
  {
   "cell_type": "code",
   "execution_count": 2,
   "metadata": {
    "collapsed": true
   },
   "outputs": [],
   "source": [
    "pd.set_option('display.max_columns', 50)"
   ]
  },
  {
   "cell_type": "markdown",
   "metadata": {},
   "source": [
    "## Processing raw Enron email data\n",
    "\n",
    "See notebook `02-download-enron-data.ipynb` for code to download the Enron email dataset."
   ]
  },
  {
   "cell_type": "code",
   "execution_count": 3,
   "metadata": {
    "collapsed": true
   },
   "outputs": [],
   "source": [
    "with open('enron.mbox.json', 'r') as json_data:\n",
    "    emails_raw = json.load(json_data)"
   ]
  },
  {
   "cell_type": "markdown",
   "metadata": {},
   "source": [
    "Remove emails without receivers."
   ]
  },
  {
   "cell_type": "code",
   "execution_count": 4,
   "metadata": {},
   "outputs": [],
   "source": [
    "emails = []\n",
    "index = []\n",
    "for idx, email in enumerate(emails_raw):\n",
    "    if 'To' in email:\n",
    "        emails.append(email)\n",
    "        index.append(idx)"
   ]
  },
  {
   "cell_type": "markdown",
   "metadata": {},
   "source": [
    "Some emails have the same sender and receiver. Let's remove those emails."
   ]
  },
  {
   "cell_type": "code",
   "execution_count": 5,
   "metadata": {},
   "outputs": [],
   "source": [
    "another_index = []\n",
    "for idx, email in enumerate(emails):\n",
    "    if email['From'] != email['To'][0]:\n",
    "        another_index.append(idx)\n",
    "        \n",
    "emails = [emails[i] for i in another_index]"
   ]
  },
  {
   "cell_type": "markdown",
   "metadata": {},
   "source": [
    "Remove emails not from `@enron.com`, as these are often spam, listserv or subscription emails."
   ]
  },
  {
   "cell_type": "code",
   "execution_count": 6,
   "metadata": {},
   "outputs": [],
   "source": [
    "enron_only = []\n",
    "for idx, email in enumerate(emails):\n",
    "    if email['From'].endswith('@enron.com'):\n",
    "        enron_only.append(idx)\n",
    "        \n",
    "emails = [emails[i] for i in enron_only]"
   ]
  },
  {
   "cell_type": "markdown",
   "metadata": {},
   "source": [
    "Remove forwarded emails, as these will give more noise than signal."
   ]
  },
  {
   "cell_type": "code",
   "execution_count": 7,
   "metadata": {},
   "outputs": [],
   "source": [
    "forwarded = []\n",
    "for idx, email in enumerate(emails):\n",
    "    subject = email['Subject']\n",
    "    fwd_string = ['Fwd', 'Fw']\n",
    "    if any(substring in subject for substring in fwd_string):\n",
    "        continue\n",
    "    else:\n",
    "        forwarded.append(idx)\n",
    "\n",
    "emails = [emails[i] for i in forwarded]"
   ]
  },
  {
   "cell_type": "markdown",
   "metadata": {},
   "source": [
    "Remove any sender who sent only 1 or 2 emails or someone who only received one or two emails. Also remove emails from enron.announcements@enron.com, office.chairman@enron.com, arsystem@mailman.enron.com."
   ]
  },
  {
   "cell_type": "code",
   "execution_count": 21,
   "metadata": {},
   "outputs": [],
   "source": [
    "all_senders = []\n",
    "for email in emails:\n",
    "    all_senders.append(email['From'])\n",
    "\n",
    "sender_df = pd.DataFrame({\n",
    "    'sender':all_senders\n",
    "})\n",
    "\n",
    "sent_multiple_index = sender_df.groupby('sender').filter(lambda x: len(x) > 2 ).index\n",
    "emails = [emails[i] for i in sent_multiple_index]"
   ]
  },
  {
   "cell_type": "code",
   "execution_count": 23,
   "metadata": {},
   "outputs": [],
   "source": [
    "all_receivers = []\n",
    "for email in emails:\n",
    "    receiver = email['To']\n",
    "    if len(receiver) > 1:\n",
    "        all_receivers.append('group')\n",
    "    else:\n",
    "        all_receivers.append(receiver[0])\n",
    "\n",
    "receiver_df = pd.DataFrame({\n",
    "    'receiver':all_receivers\n",
    "})\n",
    "\n",
    "received_multiple_index = receiver_df.groupby('receiver').filter(lambda x: len(x) > 2 ).index\n",
    "emails = [emails[i] for i in received_multiple_index]"
   ]
  },
  {
   "cell_type": "code",
   "execution_count": 24,
   "metadata": {},
   "outputs": [],
   "source": [
    "emails_to_remove = ['enron.announcements@enron.com', 'office.chairman@enron.com', 'arsystem@mailman.enron.com']\n",
    "emails_to_keep = []\n",
    "for idx, email in enumerate(emails):\n",
    "    from_ = email['From']\n",
    "    if from_ not in emails_to_remove:\n",
    "        emails_to_keep.append(idx)\n",
    "\n",
    "emails = [emails[i] for i in emails_to_keep]"
   ]
  },
  {
   "cell_type": "markdown",
   "metadata": {},
   "source": [
    "Some emails actually contain the entire thread (i.e., all replies to the original email), and the text in the thread will affect downstream text analysis. Although a more sophisticated approach would be to save each part of the thread, for simplicity we will only save the latest email message, which is the text before double new line characters."
   ]
  },
  {
   "cell_type": "code",
   "execution_count": 27,
   "metadata": {},
   "outputs": [],
   "source": [
    "main_body = []\n",
    "for email in emails:\n",
    "    \n",
    "    whole_msg = email['parts'][0]['content']\n",
    "    \n",
    "    #first check whether double new line and 'From: ' is present\n",
    "    #if so, then string contains a response/is a thread\n",
    "    \n",
    "    substring_list = ['From: ', 'To: ']\n",
    "    if any(substring in whole_msg for substring in substring_list):\n",
    "    \n",
    "        #finds all \\n\\n+ strings\n",
    "        double_return_starts = []\n",
    "        for m in re.finditer(r'\\n\\n+', whole_msg):\n",
    "            double_return_starts.append(m.start())\n",
    "            \n",
    "        if double_return_starts:\n",
    "            latest_msg = whole_msg[:double_return_starts[0]]\n",
    "            main_body.append(latest_msg.strip())\n",
    "        else:\n",
    "            main_body.append(whole_msg)\n",
    "    else:\n",
    "        main_body.append(whole_msg)"
   ]
  },
  {
   "cell_type": "code",
   "execution_count": 28,
   "metadata": {},
   "outputs": [
    {
     "data": {
      "text/plain": [
       "8679"
      ]
     },
     "execution_count": 28,
     "metadata": {},
     "output_type": "execute_result"
    },
    {
     "data": {
      "text/plain": [
       "8679"
      ]
     },
     "execution_count": 28,
     "metadata": {},
     "output_type": "execute_result"
    }
   ],
   "source": [
    "len(main_body)\n",
    "len(emails)"
   ]
  },
  {
   "cell_type": "code",
   "execution_count": 29,
   "metadata": {},
   "outputs": [],
   "source": [
    "for idx, msg in enumerate(main_body):\n",
    "    forwarded = msg.find('Forwarded')\n",
    "    if forwarded != -1:\n",
    "        main_body[idx] = msg[:forwarded]"
   ]
  },
  {
   "cell_type": "markdown",
   "metadata": {},
   "source": [
    "Finally, remove duplicate emails."
   ]
  },
  {
   "cell_type": "code",
   "execution_count": 30,
   "metadata": {},
   "outputs": [],
   "source": [
    "email_content = []\n",
    "unique_email_index = []\n",
    "tuples = []\n",
    "for idx, (email, content) in enumerate(zip(emails, main_body)):\n",
    "    tuple_ = (email['From'], email['To'], content)\n",
    "    if tuple_ not in tuples:\n",
    "        unique_email_index.append(idx)\n",
    "        email_content.append(content)\n",
    "        tuples.append(tuple_)\n",
    "    else:\n",
    "        continue\n",
    "\n",
    "emails = [emails[i] for i in unique_email_index]"
   ]
  },
  {
   "cell_type": "code",
   "execution_count": 31,
   "metadata": {},
   "outputs": [
    {
     "data": {
      "text/plain": [
       "6262"
      ]
     },
     "execution_count": 31,
     "metadata": {},
     "output_type": "execute_result"
    },
    {
     "data": {
      "text/plain": [
       "6262"
      ]
     },
     "execution_count": 31,
     "metadata": {},
     "output_type": "execute_result"
    }
   ],
   "source": [
    "len(email_content)\n",
    "len(emails)"
   ]
  },
  {
   "cell_type": "markdown",
   "metadata": {},
   "source": [
    "Clean email content."
   ]
  },
  {
   "cell_type": "code",
   "execution_count": 32,
   "metadata": {},
   "outputs": [],
   "source": [
    "#clean strings\n",
    "for i in range(len(email_content)):\n",
    "    email_content[i] = email_content[i].replace('\\n', ' ')\n",
    "    email_content[i] = email_content[i].replace('\\t', ' ')\n",
    "    email_content[i] = re.sub('--+', '', email_content[i])\n",
    "    email_content[i] = re.sub(' +', ' ', email_content[i])\n",
    "    email_content[i] = re.sub('[0-9]+/[0-9]+/[0-9]+ ([0-9]+:[0-9]+)* [a-zA-Z]{2}', '', email_content[i])\n",
    "    email_content[i] = re.sub('@([a-zA-Z])*', '', email_content[i])\n",
    "    email_content[i] = re.sub('/[a-zA-Z]*/[a-zA-Z]*', '', email_content[i])\n",
    "    email_content[i] = email_content[i].strip()"
   ]
  },
  {
   "cell_type": "markdown",
   "metadata": {},
   "source": [
    "Use SpaCy to get POS tagging."
   ]
  },
  {
   "cell_type": "code",
   "execution_count": 33,
   "metadata": {},
   "outputs": [],
   "source": [
    "nlp = spacy.load('en')"
   ]
  },
  {
   "cell_type": "code",
   "execution_count": 34,
   "metadata": {},
   "outputs": [],
   "source": [
    "caps = []\n",
    "total_msg_lens = []\n",
    "periods, commas = [], []\n",
    "ex_marks, q_marks = [], []\n",
    "word_tokens = []\n",
    "pos = []\n",
    "for email in email_content:\n",
    "    caps.append(sum(1 for s in email if s.isupper()))\n",
    "    total_msg_lens.append(len(email))\n",
    "    periods.append(sum(1 for s in email if s == '.'))\n",
    "    commas.append(sum(1 for s in email if s == ','))\n",
    "    ex_marks.append(sum(1 for s in email if s == '!'))\n",
    "    q_marks.append(sum(1 for s in email if s == '?'))\n",
    "    #email = email.lower()\n",
    "    pos.append(nlp(email))\n",
    "    word_tokens.append(word_tokenize(email))"
   ]
  },
  {
   "cell_type": "code",
   "execution_count": 35,
   "metadata": {},
   "outputs": [],
   "source": [
    "joblib.dump(email_content, '11-email_content.pkl');\n",
    "#email_content = joblib.load('11-email_content.pkl')"
   ]
  },
  {
   "cell_type": "code",
   "execution_count": 36,
   "metadata": {},
   "outputs": [],
   "source": [
    "punct = string.punctuation\n",
    "word_counts = []\n",
    "for i in range(len(word_tokens)):\n",
    "    words = [w for w in word_tokens[i] if not w in punct]\n",
    "    word_counts.append(len(words))"
   ]
  },
  {
   "cell_type": "code",
   "execution_count": 37,
   "metadata": {},
   "outputs": [],
   "source": [
    "text_features = pd.DataFrame(\n",
    "    {\n",
    "        'caps':caps,\n",
    "        'msg_len':total_msg_lens,\n",
    "        'periods':periods,\n",
    "        'commas':commas,\n",
    "        'ex_marks':ex_marks,\n",
    "        'q_marks':q_marks,\n",
    "        'word_count':word_counts\n",
    "    }\n",
    ")"
   ]
  },
  {
   "cell_type": "markdown",
   "metadata": {},
   "source": [
    "Add POS information."
   ]
  },
  {
   "cell_type": "code",
   "execution_count": 38,
   "metadata": {},
   "outputs": [],
   "source": [
    "from collections import defaultdict\n",
    "\n",
    "pos_counts = []\n",
    "for doc in pos:\n",
    "    d = defaultdict(int)\n",
    "    for word in doc:\n",
    "        d[word.pos_] +=1\n",
    "    pos_counts.append(d)"
   ]
  },
  {
   "cell_type": "code",
   "execution_count": 39,
   "metadata": {},
   "outputs": [
    {
     "data": {
      "text/html": [
       "<div>\n",
       "<style>\n",
       "    .dataframe thead tr:only-child th {\n",
       "        text-align: right;\n",
       "    }\n",
       "\n",
       "    .dataframe thead th {\n",
       "        text-align: left;\n",
       "    }\n",
       "\n",
       "    .dataframe tbody tr th {\n",
       "        vertical-align: top;\n",
       "    }\n",
       "</style>\n",
       "<table border=\"1\" class=\"dataframe\">\n",
       "  <thead>\n",
       "    <tr style=\"text-align: right;\">\n",
       "      <th></th>\n",
       "      <th>adj</th>\n",
       "      <th>adp</th>\n",
       "      <th>adv</th>\n",
       "      <th>cconj</th>\n",
       "      <th>det</th>\n",
       "      <th>intj</th>\n",
       "      <th>noun</th>\n",
       "      <th>num</th>\n",
       "      <th>part</th>\n",
       "      <th>pron</th>\n",
       "      <th>propn</th>\n",
       "      <th>punct</th>\n",
       "      <th>space</th>\n",
       "      <th>sym</th>\n",
       "      <th>verb</th>\n",
       "      <th>x</th>\n",
       "    </tr>\n",
       "  </thead>\n",
       "  <tbody>\n",
       "    <tr>\n",
       "      <th>0</th>\n",
       "      <td>1.0</td>\n",
       "      <td>0.0</td>\n",
       "      <td>1.0</td>\n",
       "      <td>0.0</td>\n",
       "      <td>0.0</td>\n",
       "      <td>0.0</td>\n",
       "      <td>1.0</td>\n",
       "      <td>0.0</td>\n",
       "      <td>0.0</td>\n",
       "      <td>0.0</td>\n",
       "      <td>0.0</td>\n",
       "      <td>0.0</td>\n",
       "      <td>0.0</td>\n",
       "      <td>0.0</td>\n",
       "      <td>1.0</td>\n",
       "      <td>0.0</td>\n",
       "    </tr>\n",
       "    <tr>\n",
       "      <th>1</th>\n",
       "      <td>10.0</td>\n",
       "      <td>13.0</td>\n",
       "      <td>15.0</td>\n",
       "      <td>7.0</td>\n",
       "      <td>16.0</td>\n",
       "      <td>0.0</td>\n",
       "      <td>35.0</td>\n",
       "      <td>0.0</td>\n",
       "      <td>5.0</td>\n",
       "      <td>5.0</td>\n",
       "      <td>1.0</td>\n",
       "      <td>11.0</td>\n",
       "      <td>0.0</td>\n",
       "      <td>0.0</td>\n",
       "      <td>33.0</td>\n",
       "      <td>0.0</td>\n",
       "    </tr>\n",
       "    <tr>\n",
       "      <th>2</th>\n",
       "      <td>2.0</td>\n",
       "      <td>5.0</td>\n",
       "      <td>0.0</td>\n",
       "      <td>2.0</td>\n",
       "      <td>4.0</td>\n",
       "      <td>0.0</td>\n",
       "      <td>9.0</td>\n",
       "      <td>0.0</td>\n",
       "      <td>1.0</td>\n",
       "      <td>2.0</td>\n",
       "      <td>4.0</td>\n",
       "      <td>5.0</td>\n",
       "      <td>0.0</td>\n",
       "      <td>0.0</td>\n",
       "      <td>5.0</td>\n",
       "      <td>0.0</td>\n",
       "    </tr>\n",
       "    <tr>\n",
       "      <th>3</th>\n",
       "      <td>0.0</td>\n",
       "      <td>2.0</td>\n",
       "      <td>0.0</td>\n",
       "      <td>0.0</td>\n",
       "      <td>0.0</td>\n",
       "      <td>0.0</td>\n",
       "      <td>0.0</td>\n",
       "      <td>1.0</td>\n",
       "      <td>0.0</td>\n",
       "      <td>1.0</td>\n",
       "      <td>1.0</td>\n",
       "      <td>1.0</td>\n",
       "      <td>0.0</td>\n",
       "      <td>0.0</td>\n",
       "      <td>2.0</td>\n",
       "      <td>0.0</td>\n",
       "    </tr>\n",
       "    <tr>\n",
       "      <th>4</th>\n",
       "      <td>1.0</td>\n",
       "      <td>1.0</td>\n",
       "      <td>1.0</td>\n",
       "      <td>1.0</td>\n",
       "      <td>1.0</td>\n",
       "      <td>0.0</td>\n",
       "      <td>0.0</td>\n",
       "      <td>0.0</td>\n",
       "      <td>0.0</td>\n",
       "      <td>0.0</td>\n",
       "      <td>4.0</td>\n",
       "      <td>2.0</td>\n",
       "      <td>0.0</td>\n",
       "      <td>0.0</td>\n",
       "      <td>0.0</td>\n",
       "      <td>0.0</td>\n",
       "    </tr>\n",
       "  </tbody>\n",
       "</table>\n",
       "</div>"
      ],
      "text/plain": [
       "    adj   adp   adv  cconj   det  intj  noun  num  part  pron  propn  punct  \\\n",
       "0   1.0   0.0   1.0    0.0   0.0   0.0   1.0  0.0   0.0   0.0    0.0    0.0   \n",
       "1  10.0  13.0  15.0    7.0  16.0   0.0  35.0  0.0   5.0   5.0    1.0   11.0   \n",
       "2   2.0   5.0   0.0    2.0   4.0   0.0   9.0  0.0   1.0   2.0    4.0    5.0   \n",
       "3   0.0   2.0   0.0    0.0   0.0   0.0   0.0  1.0   0.0   1.0    1.0    1.0   \n",
       "4   1.0   1.0   1.0    1.0   1.0   0.0   0.0  0.0   0.0   0.0    4.0    2.0   \n",
       "\n",
       "   space  sym  verb    x  \n",
       "0    0.0  0.0   1.0  0.0  \n",
       "1    0.0  0.0  33.0  0.0  \n",
       "2    0.0  0.0   5.0  0.0  \n",
       "3    0.0  0.0   2.0  0.0  \n",
       "4    0.0  0.0   0.0  0.0  "
      ]
     },
     "execution_count": 39,
     "metadata": {},
     "output_type": "execute_result"
    }
   ],
   "source": [
    "df_pos_counts = pd.DataFrame(pos_counts)\n",
    "df_pos_counts.columns = df_pos_counts.columns.str.lower()\n",
    "df_pos_counts.replace(np.nan, 0, inplace = True)\n",
    "df_pos_counts.head()"
   ]
  },
  {
   "cell_type": "code",
   "execution_count": 40,
   "metadata": {},
   "outputs": [],
   "source": [
    "text_features = pd.concat([text_features, df_pos_counts], axis = 1)"
   ]
  },
  {
   "cell_type": "markdown",
   "metadata": {},
   "source": [
    "Get number of sentences and average length of sentence in message."
   ]
  },
  {
   "cell_type": "code",
   "execution_count": 41,
   "metadata": {},
   "outputs": [],
   "source": [
    "num_sentences = []\n",
    "sentence_len_mean = []\n",
    "for email in emails:\n",
    "    tokens = sent_tokenize(email['parts'][0]['content'])\n",
    "    num_sentences.append(len(tokens))\n",
    "    len_sentence = []\n",
    "    for token in tokens:\n",
    "        s = ''.join(ch for ch in token if ch not in string.punctuation)\n",
    "        s = s.strip()\n",
    "        len_sentence.append(len(s.split(' ')))\n",
    "    if len_sentence:\n",
    "        sentence_len_mean.append(np.mean(len_sentence))\n",
    "    else:\n",
    "        sentence_len_mean.append(0)\n",
    "\n",
    "text_features['num_sentences'] = num_sentences\n",
    "text_features['len_sentence_mean'] = sentence_len_mean"
   ]
  },
  {
   "cell_type": "markdown",
   "metadata": {},
   "source": [
    "Get out how many recipients the email has."
   ]
  },
  {
   "cell_type": "code",
   "execution_count": 42,
   "metadata": {},
   "outputs": [],
   "source": [
    "num_recipients = []\n",
    "for email in emails:\n",
    "    num_recipients.append(len(email['To']))\n",
    "    \n",
    "text_features['num_recipients'] = num_recipients"
   ]
  },
  {
   "cell_type": "markdown",
   "metadata": {},
   "source": [
    "Gender of senders and recipients (if multiple recipients, put 'Group' as gender because any gender effects will likely be washed out)."
   ]
  },
  {
   "cell_type": "code",
   "execution_count": 43,
   "metadata": {},
   "outputs": [],
   "source": [
    "import gender_guesser.detector as gender\n",
    "d = gender.Detector(case_sensitive = False)\n",
    "\n",
    "send_gender = []\n",
    "receive_gender = []\n",
    "for email in emails:\n",
    "    \n",
    "    send_name = email['X-From']\n",
    "    #name structure is 'First, Last'\n",
    "    send_name = send_name.split(' ', 1)[0]\n",
    "    send_gender.append(d.get_gender(send_name))\n",
    "    \n",
    "    if len(email['To']) > 1:\n",
    "        receive_gender.append('group')\n",
    "    \n",
    "    else:\n",
    "        r_name = email['X-To']\n",
    "        r_name = r_name.split(' ', 1)[0]\n",
    "        gender = d.get_gender(r_name)\n",
    "        receive_gender.append(gender)"
   ]
  },
  {
   "cell_type": "code",
   "execution_count": 44,
   "metadata": {},
   "outputs": [],
   "source": [
    "text_features['send_gender'] = send_gender\n",
    "text_features['receive_gender'] = receive_gender"
   ]
  },
  {
   "cell_type": "markdown",
   "metadata": {},
   "source": [
    "Get sentiment scores"
   ]
  },
  {
   "cell_type": "code",
   "execution_count": 45,
   "metadata": {},
   "outputs": [],
   "source": [
    "from vaderSentiment.vaderSentiment import SentimentIntensityAnalyzer"
   ]
  },
  {
   "cell_type": "code",
   "execution_count": 46,
   "metadata": {},
   "outputs": [],
   "source": [
    "analyzer = SentimentIntensityAnalyzer()\n",
    "\n",
    "sentiments_list = []\n",
    "for email in email_content:\n",
    "    sentences = sent_tokenize(email)\n",
    "    \n",
    "    sentence_sentiments = []\n",
    "    for sentence in sentences:\n",
    "        vs = analyzer.polarity_scores(sentence)\n",
    "        sentence_sentiments.append(vs)\n",
    "    \n",
    "    msg_sentiments = {}\n",
    "    for k in vs.keys():\n",
    "        if sentence_sentiments:\n",
    "            mean = sum(d[k] for d in sentence_sentiments) / len(sentence_sentiments)\n",
    "            msg_sentiments[k] = mean\n",
    "        else:\n",
    "            msg_sentiments[k] = np.nan\n",
    "    \n",
    "    sentiments_list.append(msg_sentiments)\n",
    "\n",
    "sentiments = pd.DataFrame(sentiments_list)"
   ]
  },
  {
   "cell_type": "code",
   "execution_count": 47,
   "metadata": {},
   "outputs": [],
   "source": [
    "text_features = pd.concat([text_features, sentiments], axis = 1)"
   ]
  },
  {
   "cell_type": "markdown",
   "metadata": {},
   "source": [
    "Identify pairs (not looking for pairs over time)."
   ]
  },
  {
   "cell_type": "code",
   "execution_count": 103,
   "metadata": {},
   "outputs": [],
   "source": [
    "from datetime import datetime as dt\n",
    "\n",
    "senders, receivers = [], []\n",
    "dates = []\n",
    "for email in emails:\n",
    "    senders.append(email['From'])\n",
    "    receive = email['To']\n",
    "    if len(receive) > 1:\n",
    "        receivers.append('group')\n",
    "    else:\n",
    "        receivers.append(receive[0])\n",
    "    date = email['Date']\n",
    "    date = dt.strptime(date, '%Y-%m-%d %H:%M:%S')\n",
    "    dates.append(date)"
   ]
  },
  {
   "cell_type": "code",
   "execution_count": 104,
   "metadata": {},
   "outputs": [],
   "source": [
    "text_features['sender'] = senders\n",
    "text_features['receiver'] = receivers\n",
    "text_features['date'] = dates"
   ]
  },
  {
   "cell_type": "code",
   "execution_count": 50,
   "metadata": {},
   "outputs": [
    {
     "data": {
      "text/html": [
       "<div>\n",
       "<style>\n",
       "    .dataframe thead tr:only-child th {\n",
       "        text-align: right;\n",
       "    }\n",
       "\n",
       "    .dataframe thead th {\n",
       "        text-align: left;\n",
       "    }\n",
       "\n",
       "    .dataframe tbody tr th {\n",
       "        vertical-align: top;\n",
       "    }\n",
       "</style>\n",
       "<table border=\"1\" class=\"dataframe\">\n",
       "  <thead>\n",
       "    <tr style=\"text-align: right;\">\n",
       "      <th></th>\n",
       "      <th>caps</th>\n",
       "      <th>commas</th>\n",
       "      <th>ex_marks</th>\n",
       "      <th>msg_len</th>\n",
       "      <th>periods</th>\n",
       "      <th>q_marks</th>\n",
       "      <th>word_count</th>\n",
       "      <th>adj</th>\n",
       "      <th>adp</th>\n",
       "      <th>adv</th>\n",
       "      <th>cconj</th>\n",
       "      <th>det</th>\n",
       "      <th>intj</th>\n",
       "      <th>noun</th>\n",
       "      <th>num</th>\n",
       "      <th>part</th>\n",
       "      <th>pron</th>\n",
       "      <th>propn</th>\n",
       "      <th>punct</th>\n",
       "      <th>space</th>\n",
       "      <th>sym</th>\n",
       "      <th>verb</th>\n",
       "      <th>x</th>\n",
       "      <th>num_sentences</th>\n",
       "      <th>len_sentence_mean</th>\n",
       "      <th>num_recipients</th>\n",
       "      <th>send_gender</th>\n",
       "      <th>receive_gender</th>\n",
       "      <th>compound</th>\n",
       "      <th>neg</th>\n",
       "      <th>neu</th>\n",
       "      <th>pos</th>\n",
       "      <th>sender</th>\n",
       "      <th>receiver</th>\n",
       "      <th>date</th>\n",
       "    </tr>\n",
       "  </thead>\n",
       "  <tbody>\n",
       "    <tr>\n",
       "      <th>0</th>\n",
       "      <td>1</td>\n",
       "      <td>0</td>\n",
       "      <td>0</td>\n",
       "      <td>20</td>\n",
       "      <td>0</td>\n",
       "      <td>0</td>\n",
       "      <td>4</td>\n",
       "      <td>1.0</td>\n",
       "      <td>0.0</td>\n",
       "      <td>1.0</td>\n",
       "      <td>0.0</td>\n",
       "      <td>0.0</td>\n",
       "      <td>0.0</td>\n",
       "      <td>1.0</td>\n",
       "      <td>0.0</td>\n",
       "      <td>0.0</td>\n",
       "      <td>0.0</td>\n",
       "      <td>0.0</td>\n",
       "      <td>0.0</td>\n",
       "      <td>0.0</td>\n",
       "      <td>0.0</td>\n",
       "      <td>1.0</td>\n",
       "      <td>0.0</td>\n",
       "      <td>1</td>\n",
       "      <td>4.0</td>\n",
       "      <td>1</td>\n",
       "      <td>male</td>\n",
       "      <td>male</td>\n",
       "      <td>0.0000</td>\n",
       "      <td>0.000</td>\n",
       "      <td>1.0000</td>\n",
       "      <td>0.0000</td>\n",
       "      <td>phillip.allen@enron.com</td>\n",
       "      <td>tim.belden@enron.com</td>\n",
       "      <td>2000-05-03 09:16:00</td>\n",
       "    </tr>\n",
       "    <tr>\n",
       "      <th>1</th>\n",
       "      <td>12</td>\n",
       "      <td>1</td>\n",
       "      <td>0</td>\n",
       "      <td>773</td>\n",
       "      <td>10</td>\n",
       "      <td>0</td>\n",
       "      <td>140</td>\n",
       "      <td>10.0</td>\n",
       "      <td>13.0</td>\n",
       "      <td>15.0</td>\n",
       "      <td>7.0</td>\n",
       "      <td>16.0</td>\n",
       "      <td>0.0</td>\n",
       "      <td>35.0</td>\n",
       "      <td>0.0</td>\n",
       "      <td>5.0</td>\n",
       "      <td>5.0</td>\n",
       "      <td>1.0</td>\n",
       "      <td>11.0</td>\n",
       "      <td>0.0</td>\n",
       "      <td>0.0</td>\n",
       "      <td>33.0</td>\n",
       "      <td>0.0</td>\n",
       "      <td>10</td>\n",
       "      <td>13.9</td>\n",
       "      <td>1</td>\n",
       "      <td>male</td>\n",
       "      <td>male</td>\n",
       "      <td>0.2177</td>\n",
       "      <td>0.000</td>\n",
       "      <td>0.8987</td>\n",
       "      <td>0.1013</td>\n",
       "      <td>phillip.allen@enron.com</td>\n",
       "      <td>john.lavorato@enron.com</td>\n",
       "      <td>2000-05-03 09:16:00</td>\n",
       "    </tr>\n",
       "    <tr>\n",
       "      <th>2</th>\n",
       "      <td>6</td>\n",
       "      <td>1</td>\n",
       "      <td>0</td>\n",
       "      <td>180</td>\n",
       "      <td>2</td>\n",
       "      <td>0</td>\n",
       "      <td>34</td>\n",
       "      <td>2.0</td>\n",
       "      <td>5.0</td>\n",
       "      <td>0.0</td>\n",
       "      <td>2.0</td>\n",
       "      <td>4.0</td>\n",
       "      <td>0.0</td>\n",
       "      <td>9.0</td>\n",
       "      <td>0.0</td>\n",
       "      <td>1.0</td>\n",
       "      <td>2.0</td>\n",
       "      <td>4.0</td>\n",
       "      <td>5.0</td>\n",
       "      <td>0.0</td>\n",
       "      <td>0.0</td>\n",
       "      <td>5.0</td>\n",
       "      <td>0.0</td>\n",
       "      <td>3</td>\n",
       "      <td>11.0</td>\n",
       "      <td>1</td>\n",
       "      <td>male</td>\n",
       "      <td>male</td>\n",
       "      <td>0.0000</td>\n",
       "      <td>0.000</td>\n",
       "      <td>1.0000</td>\n",
       "      <td>0.0000</td>\n",
       "      <td>phillip.allen@enron.com</td>\n",
       "      <td>randall.gay@enron.com</td>\n",
       "      <td>2000-05-03 09:16:00</td>\n",
       "    </tr>\n",
       "    <tr>\n",
       "      <th>3</th>\n",
       "      <td>2</td>\n",
       "      <td>0</td>\n",
       "      <td>0</td>\n",
       "      <td>33</td>\n",
       "      <td>1</td>\n",
       "      <td>0</td>\n",
       "      <td>7</td>\n",
       "      <td>0.0</td>\n",
       "      <td>2.0</td>\n",
       "      <td>0.0</td>\n",
       "      <td>0.0</td>\n",
       "      <td>0.0</td>\n",
       "      <td>0.0</td>\n",
       "      <td>0.0</td>\n",
       "      <td>1.0</td>\n",
       "      <td>0.0</td>\n",
       "      <td>1.0</td>\n",
       "      <td>1.0</td>\n",
       "      <td>1.0</td>\n",
       "      <td>0.0</td>\n",
       "      <td>0.0</td>\n",
       "      <td>2.0</td>\n",
       "      <td>0.0</td>\n",
       "      <td>1</td>\n",
       "      <td>6.0</td>\n",
       "      <td>1</td>\n",
       "      <td>male</td>\n",
       "      <td>male</td>\n",
       "      <td>-0.3400</td>\n",
       "      <td>0.324</td>\n",
       "      <td>0.6760</td>\n",
       "      <td>0.0000</td>\n",
       "      <td>phillip.allen@enron.com</td>\n",
       "      <td>greg.piper@enron.com</td>\n",
       "      <td>2000-05-03 09:16:00</td>\n",
       "    </tr>\n",
       "    <tr>\n",
       "      <th>4</th>\n",
       "      <td>5</td>\n",
       "      <td>1</td>\n",
       "      <td>0</td>\n",
       "      <td>56</td>\n",
       "      <td>0</td>\n",
       "      <td>1</td>\n",
       "      <td>9</td>\n",
       "      <td>1.0</td>\n",
       "      <td>1.0</td>\n",
       "      <td>1.0</td>\n",
       "      <td>1.0</td>\n",
       "      <td>1.0</td>\n",
       "      <td>0.0</td>\n",
       "      <td>0.0</td>\n",
       "      <td>0.0</td>\n",
       "      <td>0.0</td>\n",
       "      <td>0.0</td>\n",
       "      <td>4.0</td>\n",
       "      <td>2.0</td>\n",
       "      <td>0.0</td>\n",
       "      <td>0.0</td>\n",
       "      <td>0.0</td>\n",
       "      <td>0.0</td>\n",
       "      <td>2</td>\n",
       "      <td>4.5</td>\n",
       "      <td>1</td>\n",
       "      <td>male</td>\n",
       "      <td>male</td>\n",
       "      <td>0.0000</td>\n",
       "      <td>0.000</td>\n",
       "      <td>1.0000</td>\n",
       "      <td>0.0000</td>\n",
       "      <td>phillip.allen@enron.com</td>\n",
       "      <td>greg.piper@enron.com</td>\n",
       "      <td>2000-05-03 09:16:00</td>\n",
       "    </tr>\n",
       "  </tbody>\n",
       "</table>\n",
       "</div>"
      ],
      "text/plain": [
       "   caps  commas  ex_marks  msg_len  periods  q_marks  word_count   adj   adp  \\\n",
       "0     1       0         0       20        0        0           4   1.0   0.0   \n",
       "1    12       1         0      773       10        0         140  10.0  13.0   \n",
       "2     6       1         0      180        2        0          34   2.0   5.0   \n",
       "3     2       0         0       33        1        0           7   0.0   2.0   \n",
       "4     5       1         0       56        0        1           9   1.0   1.0   \n",
       "\n",
       "    adv  cconj   det  intj  noun  num  part  pron  propn  punct  space  sym  \\\n",
       "0   1.0    0.0   0.0   0.0   1.0  0.0   0.0   0.0    0.0    0.0    0.0  0.0   \n",
       "1  15.0    7.0  16.0   0.0  35.0  0.0   5.0   5.0    1.0   11.0    0.0  0.0   \n",
       "2   0.0    2.0   4.0   0.0   9.0  0.0   1.0   2.0    4.0    5.0    0.0  0.0   \n",
       "3   0.0    0.0   0.0   0.0   0.0  1.0   0.0   1.0    1.0    1.0    0.0  0.0   \n",
       "4   1.0    1.0   1.0   0.0   0.0  0.0   0.0   0.0    4.0    2.0    0.0  0.0   \n",
       "\n",
       "   verb    x  num_sentences  len_sentence_mean  num_recipients send_gender  \\\n",
       "0   1.0  0.0              1                4.0               1        male   \n",
       "1  33.0  0.0             10               13.9               1        male   \n",
       "2   5.0  0.0              3               11.0               1        male   \n",
       "3   2.0  0.0              1                6.0               1        male   \n",
       "4   0.0  0.0              2                4.5               1        male   \n",
       "\n",
       "  receive_gender  compound    neg     neu     pos                   sender  \\\n",
       "0           male    0.0000  0.000  1.0000  0.0000  phillip.allen@enron.com   \n",
       "1           male    0.2177  0.000  0.8987  0.1013  phillip.allen@enron.com   \n",
       "2           male    0.0000  0.000  1.0000  0.0000  phillip.allen@enron.com   \n",
       "3           male   -0.3400  0.324  0.6760  0.0000  phillip.allen@enron.com   \n",
       "4           male    0.0000  0.000  1.0000  0.0000  phillip.allen@enron.com   \n",
       "\n",
       "                  receiver                date  \n",
       "0     tim.belden@enron.com 2000-05-03 09:16:00  \n",
       "1  john.lavorato@enron.com 2000-05-03 09:16:00  \n",
       "2    randall.gay@enron.com 2000-05-03 09:16:00  \n",
       "3     greg.piper@enron.com 2000-05-03 09:16:00  \n",
       "4     greg.piper@enron.com 2000-05-03 09:16:00  "
      ]
     },
     "execution_count": 50,
     "metadata": {},
     "output_type": "execute_result"
    }
   ],
   "source": [
    "text_features.head()"
   ]
  },
  {
   "cell_type": "code",
   "execution_count": 51,
   "metadata": {},
   "outputs": [
    {
     "name": "stdout",
     "output_type": "stream",
     "text": [
      "<class 'pandas.core.frame.DataFrame'>\n",
      "RangeIndex: 6262 entries, 0 to 6261\n",
      "Data columns (total 35 columns):\n",
      "caps                 6262 non-null int64\n",
      "commas               6262 non-null int64\n",
      "ex_marks             6262 non-null int64\n",
      "msg_len              6262 non-null int64\n",
      "periods              6262 non-null int64\n",
      "q_marks              6262 non-null int64\n",
      "word_count           6262 non-null int64\n",
      "adj                  6262 non-null float64\n",
      "adp                  6262 non-null float64\n",
      "adv                  6262 non-null float64\n",
      "cconj                6262 non-null float64\n",
      "det                  6262 non-null float64\n",
      "intj                 6262 non-null float64\n",
      "noun                 6262 non-null float64\n",
      "num                  6262 non-null float64\n",
      "part                 6262 non-null float64\n",
      "pron                 6262 non-null float64\n",
      "propn                6262 non-null float64\n",
      "punct                6262 non-null float64\n",
      "space                6262 non-null float64\n",
      "sym                  6262 non-null float64\n",
      "verb                 6262 non-null float64\n",
      "x                    6262 non-null float64\n",
      "num_sentences        6262 non-null int64\n",
      "len_sentence_mean    6262 non-null float64\n",
      "num_recipients       6262 non-null int64\n",
      "send_gender          6262 non-null object\n",
      "receive_gender       6262 non-null object\n",
      "compound             5991 non-null float64\n",
      "neg                  5991 non-null float64\n",
      "neu                  5991 non-null float64\n",
      "pos                  5991 non-null float64\n",
      "sender               6262 non-null object\n",
      "receiver             6262 non-null object\n",
      "date                 6262 non-null datetime64[ns]\n",
      "dtypes: datetime64[ns](1), float64(21), int64(9), object(4)\n",
      "memory usage: 1.7+ MB\n"
     ]
    }
   ],
   "source": [
    "text_features.info()"
   ]
  },
  {
   "cell_type": "markdown",
   "metadata": {},
   "source": [
    "### Visualizing sentiments"
   ]
  },
  {
   "cell_type": "code",
   "execution_count": 53,
   "metadata": {},
   "outputs": [
    {
     "data": {
      "image/png": "[encoded data removed]",
      "text/plain": [
       "<matplotlib.figure.Figure at 0x15073a518>"
      ]
     },
     "metadata": {},
     "output_type": "display_data"
    }
   ],
   "source": [
    "fig = plt.figure(1);\n",
    "fig.set_size_inches(10, 7)\n",
    "\n",
    "bins = 25\n",
    "\n",
    "fig = plt.subplot(221);\n",
    "_ = text_features['compound'].hist(bins = bins);\n",
    "_ = plt.title('Compound sentiment score (-1, 1)')\n",
    "\n",
    "fig = plt.subplot(222);\n",
    "_ = text_features['neg'].hist(bins = bins);\n",
    "_ = plt.title('Negative sentiment score')\n",
    "\n",
    "\n",
    "fig = plt.subplot(223);\n",
    "_ = text_features['pos'].hist(bins = bins);\n",
    "_ = plt.title('Positive sentiment score')\n",
    "\n",
    "fig = plt.subplot(224);\n",
    "_ = text_features['neu'].hist(bins = bins);\n",
    "_ = plt.title('Neutral sentiment score')\n",
    "\n",
    "_ = plt.subplots_adjust(top=0.76)\n",
    "_ = plt.suptitle('Sentiment scores')\n",
    "_ = plt.tight_layout()"
   ]
  },
  {
   "cell_type": "markdown",
   "metadata": {},
   "source": [
    "## Clustering\n",
    "\n",
    "DBSCAN (Density-Based Spatial Clustering of Applications with Noise)"
   ]
  },
  {
   "cell_type": "code",
   "execution_count": 54,
   "metadata": {},
   "outputs": [],
   "source": [
    "from sklearn.preprocessing import StandardScaler, Imputer\n",
    "from sklearn.cluster import DBSCAN"
   ]
  },
  {
   "cell_type": "markdown",
   "metadata": {},
   "source": [
    "Drop categorical columns, as clustering can't handle those features."
   ]
  },
  {
   "cell_type": "code",
   "execution_count": 55,
   "metadata": {},
   "outputs": [],
   "source": [
    "to_drop = ['send_gender', 'receive_gender', 'sender', 'receiver', 'date']\n",
    "for_clustering = text_features.drop(to_drop, axis = 1)\n",
    "X_matrix = for_clustering.as_matrix()"
   ]
  },
  {
   "cell_type": "code",
   "execution_count": 56,
   "metadata": {},
   "outputs": [],
   "source": [
    "imp = Imputer(missing_values = 'NaN', strategy = 'mean')\n",
    "X_imp = imp.fit_transform(X_matrix)\n",
    "\n",
    "scaler = StandardScaler()\n",
    "X = scaler.fit_transform(X_imp)"
   ]
  },
  {
   "cell_type": "code",
   "execution_count": 57,
   "metadata": {},
   "outputs": [
    {
     "data": {
      "text/plain": [
       "DBSCAN(algorithm='auto', eps=0.05, leaf_size=30, metric='cosine',\n",
       "    metric_params=None, min_samples=10, n_jobs=1, p=None)"
      ]
     },
     "execution_count": 57,
     "metadata": {},
     "output_type": "execute_result"
    }
   ],
   "source": [
    "db = DBSCAN(metric = 'cosine', min_samples = 10, eps = 0.05)\n",
    "db.fit(X)\n",
    "db_clusters = list(db.labels_)"
   ]
  },
  {
   "cell_type": "code",
   "execution_count": 58,
   "metadata": {},
   "outputs": [
    {
     "data": {
      "text/plain": [
       "-1     3330\n",
       " 0     1623\n",
       " 2      698\n",
       " 1      220\n",
       " 10      92\n",
       " 11      55\n",
       " 4       48\n",
       " 6       46\n",
       " 5       38\n",
       " 7       22\n",
       " 3       21\n",
       " 12      18\n",
       " 14      11\n",
       " 13      10\n",
       " 9       10\n",
       " 8       10\n",
       " 15      10\n",
       "dtype: int64"
      ]
     },
     "execution_count": 58,
     "metadata": {},
     "output_type": "execute_result"
    }
   ],
   "source": [
    "db_clusters = pd.Series(db_clusters)\n",
    "db_clusters.value_counts()"
   ]
  },
  {
   "cell_type": "code",
   "execution_count": 59,
   "metadata": {},
   "outputs": [],
   "source": [
    "joblib.dump(db, '11-dbscan_no_tfidf.pkl');"
   ]
  },
  {
   "cell_type": "code",
   "execution_count": 170,
   "metadata": {},
   "outputs": [
    {
     "data": {
      "text/plain": [
       "-0.19134681846109489"
      ]
     },
     "execution_count": 170,
     "metadata": {},
     "output_type": "execute_result"
    }
   ],
   "source": [
    "silhouette_score(X, db_clusters, metric = 'cosine')"
   ]
  },
  {
   "cell_type": "markdown",
   "metadata": {},
   "source": [
    "#### Visualization of clusters with t-SNE"
   ]
  },
  {
   "cell_type": "code",
   "execution_count": 66,
   "metadata": {},
   "outputs": [],
   "source": [
    "from sklearn.manifold import TSNE\n",
    "import generate_random_color as gen"
   ]
  },
  {
   "cell_type": "code",
   "execution_count": 63,
   "metadata": {},
   "outputs": [],
   "source": [
    "learning_rates = [100, 250, 500, 750, 1000]\n",
    "fitted_tsnes = []\n",
    "\n",
    "for rate in learning_rates:\n",
    "    tsne = TSNE(learning_rate = rate)\n",
    "    fitted_tsnes.append(tsne.fit_transform(X))"
   ]
  },
  {
   "cell_type": "code",
   "execution_count": 73,
   "metadata": {},
   "outputs": [],
   "source": [
    "colors = []\n",
    "for i in range(db_clusters.nunique()):\n",
    "    colors.append(gen.generate_new_color(colors, pastel_factor = 0.9))"
   ]
  },
  {
   "cell_type": "code",
   "execution_count": 74,
   "metadata": {},
   "outputs": [],
   "source": [
    "#save colors and t-SNE models\n",
    "joblib.dump(fitted_tsnes, '11-fitted_tsnes.pkl');\n",
    "joblib.dump(colors, '11-colors_for_tsne.pkl');"
   ]
  },
  {
   "cell_type": "code",
   "execution_count": 122,
   "metadata": {},
   "outputs": [
    {
     "data": {
      "image/png": "[encoded data removed]",
      "text/plain": [
       "<matplotlib.figure.Figure at 0x1651031d0>"
      ]
     },
     "metadata": {},
     "output_type": "display_data"
    }
   ],
   "source": [
    "#for i in range(len(fitted_tsnes)):\n",
    "#use learning_rate = 1000\n",
    "tsne_df = pd.DataFrame(fitted_tsnes[-1], columns = ['dimension 1', 'dimension 2'])\n",
    "tsne_df['cluster'] = db_clusters\n",
    "\n",
    "ax = sns.lmplot('dimension 1', 'dimension 2', tsne_df,\n",
    "                hue = 'cluster',\n",
    "                fit_reg = False, palette = colors, \n",
    "                size = 8, scatter_kws = {'alpha':0.9, 's':2})\n",
    "_ = ax.set(title = 'Visualizing DBSCAN clustered Enron emails using t-SNE')\n",
    "\n",
    "#plt.savefig('11-tsne.png')"
   ]
  },
  {
   "cell_type": "markdown",
   "metadata": {},
   "source": [
    "### Analyzing emails per cluster"
   ]
  },
  {
   "cell_type": "code",
   "execution_count": 123,
   "metadata": {},
   "outputs": [],
   "source": [
    "text_features['cluster'] = db_clusters"
   ]
  },
  {
   "cell_type": "code",
   "execution_count": 125,
   "metadata": {},
   "outputs": [],
   "source": [
    "#joblib.dump(text_features, '11-text_features.pkl');"
   ]
  },
  {
   "cell_type": "code",
   "execution_count": 150,
   "metadata": {},
   "outputs": [],
   "source": [
    "groupby_cluster = text_features.groupby('cluster')"
   ]
  },
  {
   "cell_type": "code",
   "execution_count": 129,
   "metadata": {},
   "outputs": [
    {
     "data": {
      "text/plain": [
       "unknown          1936\n",
       "group            1665\n",
       "female           1309\n",
       "male             1218\n",
       "mostly_female      87\n",
       "mostly_male        39\n",
       "andy                8\n",
       "Name: receive_gender, dtype: int64"
      ]
     },
     "execution_count": 129,
     "metadata": {},
     "output_type": "execute_result"
    }
   ],
   "source": [
    "text_features['receive_gender'].value_counts()"
   ]
  },
  {
   "cell_type": "code",
   "execution_count": 133,
   "metadata": {},
   "outputs": [
    {
     "data": {
      "text/html": [
       "<div>\n",
       "<style>\n",
       "    .dataframe thead tr:only-child th {\n",
       "        text-align: right;\n",
       "    }\n",
       "\n",
       "    .dataframe thead th {\n",
       "        text-align: left;\n",
       "    }\n",
       "\n",
       "    .dataframe tbody tr th {\n",
       "        vertical-align: top;\n",
       "    }\n",
       "</style>\n",
       "<table border=\"1\" class=\"dataframe\">\n",
       "  <thead>\n",
       "    <tr style=\"text-align: right;\">\n",
       "      <th>receive_gender</th>\n",
       "      <th>andy</th>\n",
       "      <th>female</th>\n",
       "      <th>group</th>\n",
       "      <th>male</th>\n",
       "      <th>mostly_female</th>\n",
       "      <th>mostly_male</th>\n",
       "      <th>unknown</th>\n",
       "    </tr>\n",
       "    <tr>\n",
       "      <th>cluster</th>\n",
       "      <th></th>\n",
       "      <th></th>\n",
       "      <th></th>\n",
       "      <th></th>\n",
       "      <th></th>\n",
       "      <th></th>\n",
       "      <th></th>\n",
       "    </tr>\n",
       "  </thead>\n",
       "  <tbody>\n",
       "    <tr>\n",
       "      <th>-1</th>\n",
       "      <td>5</td>\n",
       "      <td>673</td>\n",
       "      <td>1062</td>\n",
       "      <td>548</td>\n",
       "      <td>46</td>\n",
       "      <td>21</td>\n",
       "      <td>975</td>\n",
       "    </tr>\n",
       "    <tr>\n",
       "      <th>0</th>\n",
       "      <td>2</td>\n",
       "      <td>315</td>\n",
       "      <td>335</td>\n",
       "      <td>398</td>\n",
       "      <td>24</td>\n",
       "      <td>12</td>\n",
       "      <td>537</td>\n",
       "    </tr>\n",
       "    <tr>\n",
       "      <th>1</th>\n",
       "      <td>0</td>\n",
       "      <td>39</td>\n",
       "      <td>23</td>\n",
       "      <td>56</td>\n",
       "      <td>1</td>\n",
       "      <td>0</td>\n",
       "      <td>101</td>\n",
       "    </tr>\n",
       "    <tr>\n",
       "      <th>2</th>\n",
       "      <td>1</td>\n",
       "      <td>227</td>\n",
       "      <td>83</td>\n",
       "      <td>169</td>\n",
       "      <td>14</td>\n",
       "      <td>6</td>\n",
       "      <td>198</td>\n",
       "    </tr>\n",
       "    <tr>\n",
       "      <th>3</th>\n",
       "      <td>0</td>\n",
       "      <td>4</td>\n",
       "      <td>8</td>\n",
       "      <td>2</td>\n",
       "      <td>0</td>\n",
       "      <td>0</td>\n",
       "      <td>7</td>\n",
       "    </tr>\n",
       "    <tr>\n",
       "      <th>4</th>\n",
       "      <td>0</td>\n",
       "      <td>10</td>\n",
       "      <td>5</td>\n",
       "      <td>15</td>\n",
       "      <td>0</td>\n",
       "      <td>0</td>\n",
       "      <td>18</td>\n",
       "    </tr>\n",
       "    <tr>\n",
       "      <th>5</th>\n",
       "      <td>0</td>\n",
       "      <td>0</td>\n",
       "      <td>15</td>\n",
       "      <td>1</td>\n",
       "      <td>0</td>\n",
       "      <td>0</td>\n",
       "      <td>22</td>\n",
       "    </tr>\n",
       "    <tr>\n",
       "      <th>6</th>\n",
       "      <td>0</td>\n",
       "      <td>16</td>\n",
       "      <td>1</td>\n",
       "      <td>5</td>\n",
       "      <td>1</td>\n",
       "      <td>0</td>\n",
       "      <td>23</td>\n",
       "    </tr>\n",
       "    <tr>\n",
       "      <th>7</th>\n",
       "      <td>0</td>\n",
       "      <td>8</td>\n",
       "      <td>4</td>\n",
       "      <td>4</td>\n",
       "      <td>1</td>\n",
       "      <td>0</td>\n",
       "      <td>5</td>\n",
       "    </tr>\n",
       "    <tr>\n",
       "      <th>8</th>\n",
       "      <td>0</td>\n",
       "      <td>1</td>\n",
       "      <td>0</td>\n",
       "      <td>4</td>\n",
       "      <td>0</td>\n",
       "      <td>0</td>\n",
       "      <td>5</td>\n",
       "    </tr>\n",
       "    <tr>\n",
       "      <th>9</th>\n",
       "      <td>0</td>\n",
       "      <td>0</td>\n",
       "      <td>3</td>\n",
       "      <td>0</td>\n",
       "      <td>0</td>\n",
       "      <td>0</td>\n",
       "      <td>7</td>\n",
       "    </tr>\n",
       "    <tr>\n",
       "      <th>10</th>\n",
       "      <td>0</td>\n",
       "      <td>16</td>\n",
       "      <td>47</td>\n",
       "      <td>16</td>\n",
       "      <td>0</td>\n",
       "      <td>0</td>\n",
       "      <td>13</td>\n",
       "    </tr>\n",
       "    <tr>\n",
       "      <th>11</th>\n",
       "      <td>0</td>\n",
       "      <td>0</td>\n",
       "      <td>55</td>\n",
       "      <td>0</td>\n",
       "      <td>0</td>\n",
       "      <td>0</td>\n",
       "      <td>0</td>\n",
       "    </tr>\n",
       "    <tr>\n",
       "      <th>12</th>\n",
       "      <td>0</td>\n",
       "      <td>0</td>\n",
       "      <td>3</td>\n",
       "      <td>0</td>\n",
       "      <td>0</td>\n",
       "      <td>0</td>\n",
       "      <td>15</td>\n",
       "    </tr>\n",
       "    <tr>\n",
       "      <th>13</th>\n",
       "      <td>0</td>\n",
       "      <td>0</td>\n",
       "      <td>0</td>\n",
       "      <td>0</td>\n",
       "      <td>0</td>\n",
       "      <td>0</td>\n",
       "      <td>10</td>\n",
       "    </tr>\n",
       "    <tr>\n",
       "      <th>14</th>\n",
       "      <td>0</td>\n",
       "      <td>0</td>\n",
       "      <td>11</td>\n",
       "      <td>0</td>\n",
       "      <td>0</td>\n",
       "      <td>0</td>\n",
       "      <td>0</td>\n",
       "    </tr>\n",
       "    <tr>\n",
       "      <th>15</th>\n",
       "      <td>0</td>\n",
       "      <td>0</td>\n",
       "      <td>10</td>\n",
       "      <td>0</td>\n",
       "      <td>0</td>\n",
       "      <td>0</td>\n",
       "      <td>0</td>\n",
       "    </tr>\n",
       "  </tbody>\n",
       "</table>\n",
       "</div>"
      ],
      "text/plain": [
       "receive_gender  andy  female  group  male  mostly_female  mostly_male  unknown\n",
       "cluster                                                                       \n",
       "-1                 5     673   1062   548             46           21      975\n",
       " 0                 2     315    335   398             24           12      537\n",
       " 1                 0      39     23    56              1            0      101\n",
       " 2                 1     227     83   169             14            6      198\n",
       " 3                 0       4      8     2              0            0        7\n",
       " 4                 0      10      5    15              0            0       18\n",
       " 5                 0       0     15     1              0            0       22\n",
       " 6                 0      16      1     5              1            0       23\n",
       " 7                 0       8      4     4              1            0        5\n",
       " 8                 0       1      0     4              0            0        5\n",
       " 9                 0       0      3     0              0            0        7\n",
       " 10                0      16     47    16              0            0       13\n",
       " 11                0       0     55     0              0            0        0\n",
       " 12                0       0      3     0              0            0       15\n",
       " 13                0       0      0     0              0            0       10\n",
       " 14                0       0     11     0              0            0        0\n",
       " 15                0       0     10     0              0            0        0"
      ]
     },
     "execution_count": 133,
     "metadata": {},
     "output_type": "execute_result"
    }
   ],
   "source": [
    "pd.crosstab(text_features['cluster'], text_features['receive_gender'])"
   ]
  },
  {
   "cell_type": "code",
   "execution_count": 151,
   "metadata": {},
   "outputs": [
    {
     "data": {
      "text/plain": [
       "male             3109\n",
       "female           1627\n",
       "unknown          1409\n",
       "mostly_female      98\n",
       "mostly_male        19\n",
       "Name: send_gender, dtype: int64"
      ]
     },
     "execution_count": 151,
     "metadata": {},
     "output_type": "execute_result"
    }
   ],
   "source": [
    "text_features['send_gender'].value_counts()"
   ]
  },
  {
   "cell_type": "code",
   "execution_count": 132,
   "metadata": {},
   "outputs": [
    {
     "data": {
      "text/html": [
       "<div>\n",
       "<style>\n",
       "    .dataframe thead tr:only-child th {\n",
       "        text-align: right;\n",
       "    }\n",
       "\n",
       "    .dataframe thead th {\n",
       "        text-align: left;\n",
       "    }\n",
       "\n",
       "    .dataframe tbody tr th {\n",
       "        vertical-align: top;\n",
       "    }\n",
       "</style>\n",
       "<table border=\"1\" class=\"dataframe\">\n",
       "  <thead>\n",
       "    <tr style=\"text-align: right;\">\n",
       "      <th>send_gender</th>\n",
       "      <th>female</th>\n",
       "      <th>male</th>\n",
       "      <th>mostly_female</th>\n",
       "      <th>mostly_male</th>\n",
       "      <th>unknown</th>\n",
       "    </tr>\n",
       "    <tr>\n",
       "      <th>cluster</th>\n",
       "      <th></th>\n",
       "      <th></th>\n",
       "      <th></th>\n",
       "      <th></th>\n",
       "      <th></th>\n",
       "    </tr>\n",
       "  </thead>\n",
       "  <tbody>\n",
       "    <tr>\n",
       "      <th>-1</th>\n",
       "      <td>1110</td>\n",
       "      <td>1459</td>\n",
       "      <td>57</td>\n",
       "      <td>7</td>\n",
       "      <td>697</td>\n",
       "    </tr>\n",
       "    <tr>\n",
       "      <th>0</th>\n",
       "      <td>205</td>\n",
       "      <td>1023</td>\n",
       "      <td>17</td>\n",
       "      <td>2</td>\n",
       "      <td>376</td>\n",
       "    </tr>\n",
       "    <tr>\n",
       "      <th>1</th>\n",
       "      <td>16</td>\n",
       "      <td>134</td>\n",
       "      <td>1</td>\n",
       "      <td>0</td>\n",
       "      <td>69</td>\n",
       "    </tr>\n",
       "    <tr>\n",
       "      <th>2</th>\n",
       "      <td>194</td>\n",
       "      <td>358</td>\n",
       "      <td>10</td>\n",
       "      <td>3</td>\n",
       "      <td>133</td>\n",
       "    </tr>\n",
       "    <tr>\n",
       "      <th>3</th>\n",
       "      <td>2</td>\n",
       "      <td>15</td>\n",
       "      <td>0</td>\n",
       "      <td>0</td>\n",
       "      <td>4</td>\n",
       "    </tr>\n",
       "    <tr>\n",
       "      <th>4</th>\n",
       "      <td>7</td>\n",
       "      <td>21</td>\n",
       "      <td>0</td>\n",
       "      <td>0</td>\n",
       "      <td>20</td>\n",
       "    </tr>\n",
       "    <tr>\n",
       "      <th>5</th>\n",
       "      <td>0</td>\n",
       "      <td>1</td>\n",
       "      <td>0</td>\n",
       "      <td>0</td>\n",
       "      <td>37</td>\n",
       "    </tr>\n",
       "    <tr>\n",
       "      <th>6</th>\n",
       "      <td>1</td>\n",
       "      <td>32</td>\n",
       "      <td>0</td>\n",
       "      <td>0</td>\n",
       "      <td>13</td>\n",
       "    </tr>\n",
       "    <tr>\n",
       "      <th>7</th>\n",
       "      <td>4</td>\n",
       "      <td>13</td>\n",
       "      <td>0</td>\n",
       "      <td>0</td>\n",
       "      <td>5</td>\n",
       "    </tr>\n",
       "    <tr>\n",
       "      <th>8</th>\n",
       "      <td>0</td>\n",
       "      <td>7</td>\n",
       "      <td>0</td>\n",
       "      <td>0</td>\n",
       "      <td>3</td>\n",
       "    </tr>\n",
       "    <tr>\n",
       "      <th>9</th>\n",
       "      <td>0</td>\n",
       "      <td>0</td>\n",
       "      <td>0</td>\n",
       "      <td>0</td>\n",
       "      <td>10</td>\n",
       "    </tr>\n",
       "    <tr>\n",
       "      <th>10</th>\n",
       "      <td>46</td>\n",
       "      <td>31</td>\n",
       "      <td>5</td>\n",
       "      <td>1</td>\n",
       "      <td>9</td>\n",
       "    </tr>\n",
       "    <tr>\n",
       "      <th>11</th>\n",
       "      <td>39</td>\n",
       "      <td>3</td>\n",
       "      <td>8</td>\n",
       "      <td>0</td>\n",
       "      <td>5</td>\n",
       "    </tr>\n",
       "    <tr>\n",
       "      <th>12</th>\n",
       "      <td>0</td>\n",
       "      <td>0</td>\n",
       "      <td>0</td>\n",
       "      <td>0</td>\n",
       "      <td>18</td>\n",
       "    </tr>\n",
       "    <tr>\n",
       "      <th>13</th>\n",
       "      <td>0</td>\n",
       "      <td>0</td>\n",
       "      <td>0</td>\n",
       "      <td>0</td>\n",
       "      <td>10</td>\n",
       "    </tr>\n",
       "    <tr>\n",
       "      <th>14</th>\n",
       "      <td>0</td>\n",
       "      <td>5</td>\n",
       "      <td>0</td>\n",
       "      <td>6</td>\n",
       "      <td>0</td>\n",
       "    </tr>\n",
       "    <tr>\n",
       "      <th>15</th>\n",
       "      <td>3</td>\n",
       "      <td>7</td>\n",
       "      <td>0</td>\n",
       "      <td>0</td>\n",
       "      <td>0</td>\n",
       "    </tr>\n",
       "  </tbody>\n",
       "</table>\n",
       "</div>"
      ],
      "text/plain": [
       "send_gender  female  male  mostly_female  mostly_male  unknown\n",
       "cluster                                                       \n",
       "-1             1110  1459             57            7      697\n",
       " 0              205  1023             17            2      376\n",
       " 1               16   134              1            0       69\n",
       " 2              194   358             10            3      133\n",
       " 3                2    15              0            0        4\n",
       " 4                7    21              0            0       20\n",
       " 5                0     1              0            0       37\n",
       " 6                1    32              0            0       13\n",
       " 7                4    13              0            0        5\n",
       " 8                0     7              0            0        3\n",
       " 9                0     0              0            0       10\n",
       " 10              46    31              5            1        9\n",
       " 11              39     3              8            0        5\n",
       " 12               0     0              0            0       18\n",
       " 13               0     0              0            0       10\n",
       " 14               0     5              0            6        0\n",
       " 15               3     7              0            0        0"
      ]
     },
     "execution_count": 132,
     "metadata": {},
     "output_type": "execute_result"
    }
   ],
   "source": [
    "pd.crosstab(text_features['cluster'], text_features['send_gender'])"
   ]
  },
  {
   "cell_type": "code",
   "execution_count": 135,
   "metadata": {},
   "outputs": [
    {
     "data": {
      "text/plain": [
       "cluster\n",
       "-1     0.175228\n",
       " 0     0.009090\n",
       " 1    -0.294415\n",
       " 2     0.392327\n",
       " 3     0.182912\n",
       " 4     0.290590\n",
       " 5     0.318200\n",
       " 6     0.000000\n",
       " 7     0.000000\n",
       " 8     0.000000\n",
       " 9     0.318200\n",
       " 10    0.174739\n",
       " 11    0.350505\n",
       " 12    0.189233\n",
       " 13   -0.075963\n",
       " 14    0.206443\n",
       " 15    0.298467\n",
       "Name: compound, dtype: float64"
      ]
     },
     "execution_count": 135,
     "metadata": {},
     "output_type": "execute_result"
    }
   ],
   "source": [
    "groupby_cluster['compound'].mean()"
   ]
  },
  {
   "cell_type": "code",
   "execution_count": 78,
   "metadata": {},
   "outputs": [],
   "source": [
    "def print_email(index):\n",
    "    print('Message: ' + str(index))\n",
    "    print('From: ' + emails[index]['From'])\n",
    "    print('To: ')\n",
    "    print(emails[index]['To'])\n",
    "    print(emails[index]['parts'][0]['content'])"
   ]
  },
  {
   "cell_type": "code",
   "execution_count": 79,
   "metadata": {},
   "outputs": [],
   "source": [
    "def get_emails_in_cluster(index, labels = db_clusters, emails = email_content):\n",
    "    c_index = labels[labels == index].index\n",
    "    cluster = [emails[i] for i in c_index]\n",
    "    return cluster"
   ]
  },
  {
   "cell_type": "code",
   "execution_count": 80,
   "metadata": {},
   "outputs": [
    {
     "data": {
      "text/plain": [
       "-1     3330\n",
       " 0     1623\n",
       " 2      698\n",
       " 1      220\n",
       " 10      92\n",
       " 11      55\n",
       " 4       48\n",
       " 6       46\n",
       " 5       38\n",
       " 7       22\n",
       " 3       21\n",
       " 12      18\n",
       " 14      11\n",
       " 13      10\n",
       " 9       10\n",
       " 8       10\n",
       " 15      10\n",
       "dtype: int64"
      ]
     },
     "execution_count": 80,
     "metadata": {},
     "output_type": "execute_result"
    }
   ],
   "source": [
    "db_clusters = pd.Series(db_clusters)\n",
    "db_clusters.value_counts()"
   ]
  },
  {
   "cell_type": "code",
   "execution_count": 86,
   "metadata": {},
   "outputs": [
    {
     "data": {
      "text/plain": [
       "'So, would you recommend anywhere? B.'"
      ]
     },
     "execution_count": 86,
     "metadata": {},
     "output_type": "execute_result"
    }
   ],
   "source": [
    "get_emails_in_cluster(-1)[-1]"
   ]
  },
  {
   "cell_type": "code",
   "execution_count": 168,
   "metadata": {},
   "outputs": [
    {
     "name": "stdout",
     "output_type": "stream",
     "text": [
      "\n",
      "\n",
      "1623 messages in cluster 0.\n"
     ]
    },
    {
     "data": {
      "text/plain": [
       "['Jeff: Man is looking for money again to hold them over for yearend. Who do I need to talk to? john',\n",
       " 'stg adjusted means factoring in cost of carry and taxes stg curve looks more realistic in market areas when you add basis on.',\n",
       " 'Can you get me an itinary of events?',\n",
       " '',\n",
       " 'Here is the info.',\n",
       " \"I couldn't see the taxes.\",\n",
       " 'just let me know when you are leaving and I will meet you',\n",
       " 'http:.sun-sentinel.com0,1136,33500000000108999,00.ht ml?',\n",
       " 'corey dillon, raymont harris, and bill schroeder for faulk, let me know what you think or if you have a counter',\n",
       " '',\n",
       " 'do you want the ticket? i got this ticket from a broker - it is going for like $600 now',\n",
       " 'the card was though :0)',\n",
       " 'We should follow up next week with Brenda - given the below',\n",
       " 'I am still in need of the information regarding Global Markets Plan. (See prior E-mail)',\n",
       " 'I have not spoken with Steve Abbnat as of yet I will wait to follow your lead on this one, unless he contacts me.']"
      ]
     },
     "execution_count": 168,
     "metadata": {},
     "output_type": "execute_result"
    },
    {
     "name": "stdout",
     "output_type": "stream",
     "text": [
      "\n",
      "\n",
      "3330 messages in cluster -1.\n"
     ]
    },
    {
     "data": {
      "text/plain": [
       "[\"Frank, The implied risk created by the san juan and rockies indeces being partially set after today is the same as the risk in a long futures position. Whatever the risk was prior should not matter. Since the rest of the books are very short price this should be a large offset. If the VAR calculation does not match the company's true risk then it needs to be revised or adjusted. Phillip\",\n",
       " 'Mark: We are still on for drinks on the 19th. You have called the market very well since you started sending me updates. Unfortunately for both of us, a couple of good calls does not a soothsayer make. Thus, keep sending me your updates so I can at least get a little broader judgment of your abilities. In terms of my trading style, I take positions to make $.25-$1, not $.05. Too much noise in this market to trade differently for me.',\n",
       " 'huh?',\n",
       " 'ene: the india story. I lok at it and say we sold india. then realize we the gas, not the assets.',\n",
       " 'Not so impressed with David goldman. For a guy who has worked in derivatives for 10 years, couldnt answer some simple questions. Very poor financial derivatives knowledge even though he worked at CRT for a long time and a Lyonnais for a while. The only value I see in him is that he worked at BP for a while and might have some knowledge as to how they work.',\n",
       " \"Rob, I don't know if you can help me with this, but I need to get a new stack manager logon ID created under my name ( ebass logon). Can you help? If not please forward to the relevant party. Thanks, Eric x3-0977\",\n",
       " \"whatever you think babe - i will trust you to make plans- let's go before christmas though\",\n",
       " \"Practice is absolutely necessary to assure our victory. So we will have several practices this week (Tuesday, Wednesday, and Thursday... with no drinking and a curfew on Friday) and may cancel the scrimmage to schedule in more practices. We will have a practice tonight at 7pm at Memorial Park. Let me know if you can make it. ext. 37842. IF you were at last year's scrimmage with the aggie team, this will be at the same location. Hopefully, the lights will be on and the fields will be clear. If it is raining, the practise will be canceled.\",\n",
       " 'Eric, Thought you may be interested in trying to do this. Dave http:.bibleinayear.org/StarttoFinish_Sched.asp',\n",
       " 'so now that we have had this witty banter back and forth - is anyone coming to happy hour?',\n",
       " \"Original Message From: Graf, Dustin KWP [mailto:dgraf.com] Sent: Friday, November 16, 2001 2:51 PM To: 'Adam Turner'; 'Chad Newton'; 'e_mir.com'; 'Jeff Butler'; 'Jeff Heineman'; 'Luis Mena'; 'ryan.wisnieski.com'; 'Ryan_Franks.com'; 'Tucker, Michael'; 'vetter1975.com' Subject: FW: Aggie Song\",\n",
       " \"Hey, After speaking with Reagan in origination, we thought it would be a good idea to evaluate the status of New Transmission Agreements project. If it pleases all, let's all get together from 10:00 to 10:30 on Tuesday Jan. 29. If you have any questions or timing conflicts give me a shout. Don Baughman Wk: 3-0392 Cell: 281-787-0029\",\n",
       " 'Congratulations on your promotion to Vice President! Well deserved and a nice way to cap off your stay in London. I look forward to celebrating with you in London next week. Sally',\n",
       " 'As a follow up from our discussions on global standards, I have made some minimal changes to the operating standards and have started putting together a contact list. In the upcoming week, I will be finalizing the daily reporting formats and will send those out to you next week. In the mean time, could you please review the contact listing attached below and give Pamela Sonnier any updates. Also, please designate resources in your team who will be responsible for the reporting going forward. If you have any questions or comments please call me at 713 853 9123. Looking forward to working with you. Best regards Shona',\n",
       " \"Sally, FYI - We've had many complaints and I've had many discussions today with Dave N. and Inja. They did discover some system board that is going to be replaced tonight. Hopefully replacing the board will do it but history makes me skeptical that this is the sole cause for the slow performance.\"]"
      ]
     },
     "execution_count": 168,
     "metadata": {},
     "output_type": "execute_result"
    },
    {
     "name": "stdout",
     "output_type": "stream",
     "text": [
      "\n",
      "\n",
      "220 messages in cluster 1.\n"
     ]
    },
    {
     "data": {
      "text/plain": [
       "['Thanks, have a good time but no interest.. John',\n",
       " 'nope...your loss though',\n",
       " 'that night i had so much brain damage i couldnt function.',\n",
       " 'no not necessarily... just sick of her at the moment,',\n",
       " 'no real opinion except short vol',\n",
       " 'you make me so jealous',\n",
       " \"all I hear is that all the funds are going to get squeezed as soon as the nymex opens. fuck, i don't know, but I'm not going get long crude hoping to squeeze the funds. lost that game too many times.\",\n",
       " 'Your mom is so fat that God said \"Let there be light,\" right after she moved her fat ass.',\n",
       " 'the bitch would like you to change the 1.5 MM bid/offer to 7 MM',\n",
       " 'that is fine with me, but what about shanna, she might be a little uncomfortable with just the 3 of us',\n",
       " 'What the fuck is up with that?',\n",
       " 'you are a dick!',\n",
       " \"FYI- since you didn't take care of business\",\n",
       " 'Do we have an integration problem we need to deal with.',\n",
       " 'Sorry for the delay!']"
      ]
     },
     "execution_count": 168,
     "metadata": {},
     "output_type": "execute_result"
    },
    {
     "name": "stdout",
     "output_type": "stream",
     "text": [
      "\n",
      "\n",
      "698 messages in cluster 2.\n"
     ]
    },
    {
     "data": {
      "text/plain": [
       "[\"Jeanie, Please change Janie Tholt's ranking to a 3.\",\n",
       " 'Yea ... the later the better.',\n",
       " 'Agree completely. In that context, it looks good.',\n",
       " \"if only i didn't have a position today I'd be ok\",\n",
       " 'Does my boy Marc Findsen have a chance?',\n",
       " 'FYI',\n",
       " 'Please check the website for a new article and poll.',\n",
       " 'yep',\n",
       " 'i expected a better reply from you',\n",
       " 'Only if we play together.',\n",
       " 'due to the early game this week, please have your add/drops in the system by noon tomorrow (wednesday). thanks, eric',\n",
       " 'FYI -',\n",
       " 'Saturday was fun - it was nice I think for all of us to go to the shower together. That was a nice group of women - and fun.',\n",
       " 'fyi',\n",
       " 'FYI - information for limit extension approval of board - general context for previous Continental Power discussions.']"
      ]
     },
     "execution_count": 168,
     "metadata": {},
     "output_type": "execute_result"
    },
    {
     "name": "stdout",
     "output_type": "stream",
     "text": [
      "\n",
      "\n",
      "92 messages in cluster 10.\n"
     ]
    },
    {
     "data": {
      "text/plain": [
       "['By STEVE EVERLY - The Kansas City Star Date:  natural gas prices rose in December, traders at the New York Mercantile Exchange kept one eye on the weather forecast and another on a weekly gas storage number. The storage figures showed utilities withdrawing huge amounts of gas, and the forecast was for frigid weather. Traders put the two together, anticipated a supply crunch and drove gas prices to record heights. \"Traders do that all the time; they\\'re looking forward,\" said William Burson, a trader. \"It makes the market for natural gas.\" But the market\\'s response perplexed Chris McGill, the American Gas Association\\'s director of gas supply and transportation. He had compiled the storage numbers since they were first published in 1994, and in his view the numbers were being misinterpreted to show a situation far bleaker than reality. \"It\\'s a little frustrating that they don\\'t take the time to understand what we are reporting,\" McGill said. As consumer outrage builds over high heating bills, the hunt for reasons and culprits is on. Some within the natural gas industry are pointing fingers at Wall Street. Stephen Adik, senior vice president of the Indiana utility NiSource, recently stepped before an industry conference and blamed the market\\'s speculators for the rise in gas prices. \"It\\'s my firm belief ... that today\\'s gas prices are being manipulated,\" Adik told the trade magazine Public Utilities Fortnightly. In California, where natural gas spikes have contributed to an electric utility crisis, six investigations are looking into the power industry. Closer to home, observers note that utilities and regulators share the blame for this winter\\'s startling gas bills, having failed to protect their customers and constituents from such price spikes. Most utilities, often with the acquiescence of regulators, failed to take precautions such as fixed-rate contracts and hedging a sort of price insurance that could have protected their customers by locking in gas prices before they soared. \"We\\'re passing on our gas costs, which we have no control over,\" said Paul Snider, a spokesman for Missouri Gas Energy. But critics say the utilities shirked their responsibility to customers. \"There\\'s been a failure of risk management by utilities, and that needs to change,\" said Ed Krapels, director of gas power services for Energy Security Analysis Inc., an energy consulting firm in Wakefield, Mass. Hot topic Consumers know one thing for certain: Their heating bills are up sharply. In many circles, little else is discussed. The Rev. Vincent Fraser of Glad Tidings Assembly of God in Kansas City is facing a $1,456 December bill for heating the church more than double the previous December\\'s bill. Church members are suffering from higher bills as well. The Sunday collection is down, said Fraser, who might have to forgo part of his salary. For the first time, the church is unable to meet its financial pledge to overseas missionaries because the money is going to heating. \"It\\'s the talk of the town here,\" he said. A year ago that wasn\\'t a fear. Wholesale gas prices hovered just above $2 per thousand cubic feet a level that producers say didn\\'t make it worthwhile to drill for gas. Utilities were even cutting the gas prices paid by customers. But trouble was brewing. By spring, gas prices were hitting $4 per thousand cubic feet, just as utilities were beginning to buy gas to put into storage for winter. There was a dip in the fall, but then prices rebounded. By early November, prices were at $5 per thousand cubic feet. The federal Energy Information Administration was predicting sufficient but tight gas supplies and heating bills that would be 30 percent to 40 percent higher. But $10 gas was coming. Below-normal temperatures hit much of the country, including the Kansas City area, and fears about tight supplies roiled the gas markets. \"It\\'s all about the weather,\" said Krapels of Energy Security Analysis. Wholesale prices exploded to $10 per thousand cubic feet, led by the New York traders. Natural gas sealed its reputation as the most price-volatile commodity in the world. Setting the price In the 1980s, the federal government took the caps off the wellhead price of gas, allowing it to float. In 1990, the New York Mercantile began trading contracts for future delivery of natural gas, and that market soon had widespread influence over gas prices. The futures contracts are bought and sold for delivery of natural gas as soon as next month or as far ahead as three years. Suppliers can lock in sale prices for the gas they expect to produce. And big gas consumers, from utilities to companies such as Farmland Industries Inc., can lock in what they pay for the gas they expect to use. There are also speculators who trade the futures contracts with no intention of actually buying or selling the gas and often with little real knowledge of natural gas. But if they get on the right side of a price trend, traders don\\'t need to know much about gas or whatever commodity they\\'re trading. Like all futures, the gas contracts are purchased on credit. That leverage adds to their volatility and to the traders\\' ability to make or lose a lot of money in a short time. As December began, the price of natural gas on the futures market was less than $7 per thousand cubic feet. By the end of the month it was nearly $10. Much of the spark for the rally came from the American Gas Association\\'s weekly storage numbers. Utilities buy ahead and store as much as 50 percent of the gas they expect to need in the winter. Going into the winter, the storage levels were about 5 percent less than average, in part because some utilities were holding off on purchasing, in hopes that the summer\\'s unusually high $4 to $5 prices would drop. Still, the American Gas Association offered assurances that supplies would be sufficient. But when below-normal temperatures arrived in November, the concerns increased among traders that supplies could be insufficient. Then the American Gas Association reported the lowest year-end storage numbers since they were first published in 1994. Still, said the association\\'s McGill, there was sufficient gas in storage. But some utility executives didn\\'t share that view. William Eliason, vice president of Kansas Gas Service, said that if December\\'s cold snap had continued into January, there could have been a real problem meeting demand. \"I was getting worried,\" he said. Then suddenly the market turned when January\\'s weather turned warmer. Wednesday\\'s storage numbers were better than expected, and futures prices dropped more than $1 per thousand cubic feet. Just passing through Some utilities said there was little else to do about the price increase but pass their fuel costs on to customers. Among area utilities, Kansas Gas Service increased its customers\\' cost-of-gas charge earlier this month to $8.68 per thousand cubic feet. And Missouri Gas Energy has requested an increase to $9.81, to begin Wednesday. Sheila Lumpe, chairwoman of the Missouri Public Service Commission, said last month that because utilities passed along their wholesale costs, little could be done besides urging consumers to join a level-payment plan and to conserve energy. Kansas Gas Service had a small hedging program in place, which is expected to save an average customer about $25 this winter. Missouri Gas Energy has no hedging program. It waited until fall to seek an extension of the program and then decided to pass when regulators would not guarantee that it could recover its hedging costs. Now utilities are being asked to justify the decisions that have left customers with such high gas bills. And regulators are being asked whether they should abandon the practice of letting utilities pass along their fuel costs. On Friday, Doug Micheel, senior counsel of the Missouri Office of the Public Counsel, said his office would ask the Missouri Public Service Commission to perform an emergency audit of Missouri Gas Energy\\'s gas purchasing practices. \"Consumers are taking all the risk,\" Micheel said. \"It\\'s time to consider some changes.\" To reach Steve Everly, call (816) 234-4455 or send e-mail to severly.com. All content , 2001 The Kansas City Star',\n",
       " \"Everyone have a merry Christmas It has been a great year. Our P&L stands at $4.2 million. Our budget was $10 million at the start of the year, then it was changed to $5million when they took the 5% away from us. After the slow summer and when doubt settled in on our ability to achieve our goal it was knocked down to $3 million. However, when we proved that we were fighters and not quitters and soared right through the $3 million, the crawfish came along and knocked it up to $4 million and then up to $5 million. Regardless of all the crawfish boils we have been invited to this year, the bottom line is that you never quit and I can say that I am DAMN proud of our group. We have been given 4 different managers for this year. We started with the infamous Jason Haile. He left in February because he had his doubts about us achieving our goal. Then Mr. Mark Dana Davis took the interim until he was able to bring in Jeff King. Jeff was with us from April until July and did a great job, he represented us well and knew how to bring out our strengths. In August we inherited Mitch Robinson. We had to pack our bags and move into Mr. Robinson's neighborhood. Mitch taught us the operation side of the utilities and we showed him that trading real time is not as easy as it looks. Mitch also fought for us, I was in several different meetings in which I saw him fight for us, I know we had our differences but at the end of the day he really stood up for us. He came to a conclusion that his skills and interest are dealing with assets. Now going into the New Year we have been given a new challenge. I would like to say that I strongly believe that we are and can stay at the top of the industry as the best. In order to stay at the top we have to believe and become the best that we can be. You never stay the same, you either get better or you slide down the hill. Everyone of us has an opportunity. There are always going to be days that we feel like what in the HELL am I doing here. However if you stay positive and take care of your responsibilities we will stay on top. Patience, Perseverance, and Organization are our keys to success. To keep from rambling I will close with this great philosophy. Every one of us has talents and desires and they are all different. We are still a team and always will be a team and to be a successful team we have to have the utmost respect for one another and you have to take it upon yourself to not give any of your teammates a reason to not respect you. My only expectations are for you to give 100% and know your role. If you do not know your role come see me. Thanks and God Bless Big Daddy\",\n",
       " \"Thanks in advance for agreeing to speak at the Global Operations Controller Forum. I know that we are catching you before a tee time on Monday, so I especially appreciate your joining us to kick off the event that morning. Dress for the forum is casual, so feel free to do the same. There will be approximately 30 Enron business controllers present at the meeting. All have responsibility for mid and back office operations for the following Enron entities: Enron North America, Enron Europe, Enron South America, Enron Global Markets, Enron Industrial Markets, Enron Broadband Services and Enron Energy Services. Attendees will be here from Houston, Calgary, Tokyo, Sydney, London and New York (metals business). Attached for your reference is the agenda. There may be some slight changes before the forum begins, but this will give you a good idea of the topics to be covered and the other speakers who will address the group. You are scheduled to address the group as follows: Date: Monday, October 23, 2000 Time: 8:00 am (breakfast will be served at 7:30 and you are invited to join us) Place: The Warwick Hotel The Versailles Room - 12th Floor 5701 Main Street Houston, TX 77005 With a small group, your talk can be informal and you do not need to prepare slides (unless you would like to do so). Q&A afterwards would be great. Key speaking points that would enforce the value of this conference for this group would be: recognition of a job well done in supporting explosive business growth in 2000 your support for global standards for operational controls for trading activities your recognition of the value of operational professionals in the organization to ensure integrity of mid and back office functions your challenge to the group to strive for best in class processes and controls as Enron's growth as a trading organization continues Let me know if you have any questions and thanks again for joining us.\",\n",
       " \"I hope that your holiday was wonderful. Nikki told me that you would be working from home today, but I decided not to bother you there. I will try to have Patti connect me with you during my commute on Tuesday morning. I start with a 7:30 meeting (Houston time), so I should be in my car from 6:30 to about 7:15. I let Nikki know about a rescheduled date from Rick's PRC last week. I don't think that there had been any widespread communication about the new date of June 27. Will you still plan to come to Houston next week? I have scheduled dinner for us on Wednesday evening, assuming that you will still make the trip. Just let me know. Will you also be back for the meeting on June 27? Before you left for vacation I had tried to reach you regarding the MG acquisition. That should make life fun for you! I wanted to talk about resources and how I might be able to help in both the further due diligence efforts and longer term in the assimilation. As in my voice mail, I believe that a doorstep review of trading locations would be critical, both from a controls perspective and from the perspective of an up close view of how they run their business. It seems that might help jump start the plans around how best to assimilate the business. I had suggested my new hire, Shona Wilson, as a potential resource and then there are several of us who have already been involved in doorstep reviews that could be involved both in the US and in other locations. Brent has forwarded a memo to me from Naomi Connell who seems to be formulating a plan for the doorstep reviews. I don't know the names that she mentions (other than Tani Nath), and I am sure that she is unaware of additional resources from Houston that could be used. We can hopefully talk about that tomorrow morning.\",\n",
       " \"As you know, exceeding this limit would require contacting the Enron Board of Directors. Jeff Skilling is keenly interested in this measurement. In conversations with Ted Murphy today, Jeff has asked that he receive a daily report from Ted on component V. Ted called me about 3:00 pm today (Houston time) to let me know about this requirement. Obviously, we want to meet Skilling's request with information that is as timely, accurate and complete as possible. Therefore, we were concerned about feeds from London that over the past several weeks have caused one London commodity or another to be excluded from the first run of component V. (Mike: I assume that you are very familiar with these feed problems from your representative that you send to the daily 8:30 meeting.) I pulled Steve Stock out of a pre-PRC meeting to meet with Ted, Shona, Ramesh and me at 4:00 today. Realizing that the time was very late in London, we tried to reach you both at home numbers and by cell phone to include you in the meeting. Since we could not do so, we continued without you given that Skilling will want to see this report daily starting tomorrow. Here is the key fact to know: It takes 3 hours to run the component V calculations, once all inputs have been received and processed. The Component V calculations are kicked off at 6:30 am Houston time, producing an approximate completion time of 9:30 am Houston time. With this timeframe, our goal would be to have the component V report to Jeff by approximately 10:00 am Houston time. Given current calculation times, in order to consistently calc component V including all London feeds, London books (UK power, UK gas and Nordic power) will have to be completed, calculated and officialized by 4:00 am Houston time (10:00 am London time). If this time frame is not met, then component V reports for Jeff will be incomplete. We had hoped to discuss this with you today so that you could work with your operations staff, systems support and traders to insure that you could consistently meet a 10:00 am London requirement for officialized books. The other immediate action to take is to ask Mike to work with David Hardy on what we understand to be an almost-completed task of including UK spread options in V calculations using the V engine. Those V calculations that are done through Excel calculations are not captured and included in the component V calculations. While there are other commodities that will currently be excluded from component V reports, they are deemed to be less material than the UK spread options. Ramesh felt that it is only a matter of days before this is completed. Mike, we would like for you to stay on top of this from an operations perspective to insure that this happens. I should note that the firm 10:00 am deadline for officializing books in the UK will only result in producing a report for Jeff by 10:00 am Houston time. We don't know what Jeff's expectation will be regarding timing. It is probably safe to say that we should be actively looking at process and systems changes that could result in the ability to deliver such a report earlier in the morning. Mike, I will call you during my morning commute on Thursday to see whether or not you have any questions or if there are concerns about consistently meeting the 10:00 am deadline in London.\",\n",
       " 'I talked with Anne Koehler in Legal today to determine her understanding of what is required from Energy Operations prior to the effective sale of HPL. Anne believes that she may have been the one to introduce the term \"protocol\" into these discussions. To clarify, according to Anne, the \"protocol\" is not anticipated to be a formal legal document. Instead, Anne envisions simply e:mails or memos between Enron and AEP with regard to any sharing of information, agreements on processes to be followed in the transition, etc. Operational details to be decided between Enron and AEP have been handled exactly in that manner to date, with e:mails being sent from Bob Ball (Enron) to Steve Jackson (AEP). Only critical changes to the Purchase and Sale Agreement will be formally documented. Bob Hall identified the treatment of cash accounts in the original Purchase and Sale Agreement as incorrect relative to cash flows for gas to be delivered in the month of May. He has worked with Enron\\'s treasury group to establish the correct procedures and has worked with Sandi Braband in Legal to document this change to the Purchase and Sale Agreement as an Amendment to that agreement. As of today, Legal has completed revisions to that amendment and Anne Koehler is sending it to Mary Perkins in Enron\\'s Treasury group for her review. Upon Mary\\'s review, Anne will forward the amendment to AEP for their review before final signatures. We devised this week a new format for incorporating the AEP-HPL transition issues on which my team has been focused and have provided that to both of you. This new format incorporates the various memos and e:mails which have to date captured the status of transition issues. Items that only require actions by Enron will be our \"to do\" list. Each item has a due date and we will update you weekly on progress. Those items that fall under the AEP list or which appear in both the Enron and AEP list will be the items to which we will evidence communication to AEP and/or their agreement via the e:mails or memos as suggested by Ann Koehler. I believe that this should satisfy your requests earlier this week for written \"protocol\". We will also update you weekly on the status of those e:mails and/or memos between ourselves and AEP. I understand that the two of you have a regular weekly meeting for an update on the HPL sale. To provide clarity for these update meetings, may I suggest that we incorporate one of the following two approaches: 1) Brian and I hold a regular meeting just prior to your update meeting so that Brian has a full understanding of operational transition items and their status, or 2) I attend the first part of your update meeting in order to provide a firsthand update to the two of you. Please let me know which one of these works best for you so that we can incorporate that into our schedules for next week.',\n",
       " 'Along with Mike McConnell, I am active in recruiting for Enron\\'s Analyst Program at the University of Oklahoma. We became involved in recruiting there two years ago when I learned about a targeted undergraduate program that seemed like it could be a good fit for our program. OU transformed their old PLM (Petroleum Land Management) program into the Energy Management Program in the School of Business. This undergraduate degree retains the geology, business law and other specialized classes that were part of the PLM program, but adds additional finance hours with a focus on derivatives and a trading floor course. With the added plus of many of these students growing up in or around \"energy\" families in Oklahoma or Texas, I thought that recruiting top graduates from this program could be beneficial to Enron. Our recruiting efforts at OU continue to be successful and our OU Energy Management graduates have done well at Enron. Our first hire from OU (and the top Energy Management student) was Jody Crook. He joined the analyst program last February after a December 1999 graduation. His first rotation has been on my team, working as a risk book administrator in gas trading. He is in the process of looking for a second rotation at the end of February, and I think that he is someone that you should consider for a rotation on your team. In addition to this last year\\'s risk experience at Enron, Jody worked as a landman for two summers for Burlington Resources. I was very involved in recruiting Jody to Enron. I think very highly of him, and want to be sure that he has good rotations while in the Analyst program. His background and your business seem to be a good fit. Please visit with Jody as he contacts your group about a rotation. It will be well worth your time. Thanks.',\n",
       " \"Here is a revised summary of the 13 candidates I sent to Tony Vasut. I believe he has made initial contact with each of them. If you decide you would like to talk to them, please don't mention my name, as some of them are former clients of mine, used to work with me, or still work with my husband (I think you get the picture - I've been gone from PwC less than a month). However, I would be pleased to talk to you about any of the people mentioned below. I have categorized them into 5 categories - senior level, IT/Risk, mid level, junior level, and admin assistants. I have not spoken to the majority of these people about giving our recruiting department their name (see note above), with the exception of Mark Smith, Dave Simpson, and Connie Shugart. All of these people have indicated great interest in coming to Enron. Again, please call me with any questions, or need of further info. My extension is 39123. Best regards Shona Senior level risk people Andy Dunn until 3 weeks ago he was a director in the PwC risk management practice. Due to a falling out between Andy and the partners (not client related), he left the firm. He is extremely well respected by both the audit and the non-audit personnel, and his leaving came as an unexpected surprise. I have worked with him on a number of occasions and would highly recommend him to Enron. The downside to Andy is that he lives in Denver, is used to travelling a lot, but, at the last time we spoke (a few months ago), is not interested in leaving Denver. His cell phone (if still in use) is 303 807 0040. Mark (Allan) Smith Mark is in the PwC energy risk management practice in Houston. We worked very closely together throughout 1999 on projects for Coral Energy and Equiva trading. Prior to working at PwC, Mark was at BP for 15 years where he had many different roles (he worked as a crude trader, products trader, he worked in the risk management department, in the refinery itself as an engineer). Mark was excellent to work with. Clients are extremely impressed with his knowledge and background. I would highly recommend him for a leadership role at Enron. I spoke to him and he is interested in pursuing opportunities at Enron. His direct number is 713 356 4233. His cell phone number is 713 412 3890. IT/Risk people Shawn lafferty, Alan Beaton, & Carolyn Johnson These people are all senior managers in KPMG's Information risk management department and are all looking for opportunities outside KPMG. They all have 8+ years work experience in the IT field. KPMG's main number is 713 319 2000. Mid level risk people Marilyn Chee She currently works for Equiva trading, manager in-charge of accounting for derivatives. Her role has expanded to encompass FAS 133 and all mtm accounting entries. She liases with all book heads (crude and all products). In the past, she worked in the Texaco internal audit department. She was my main contact at Equiva when I was their auditor. She is extremely diligent and very professional. I enjoyed working with her greatly and have to say she was one of the best people I have worked with in the capacity of a client/professional relationship. Marilyn has a lot of responsibilities at the alliance and is extremely well respected. She has had a difficult year as she is doing a job that should be done by 3+ people. She has mentioned to me that she is not happy about the fact that her load continues to increase, and has even mentioned finding another job. However, due to the fact that she is so well respected where she is, she may be difficult to recruit (713 277 6280). If you contact her I would not want my name associated with it due to the PwC/alliance relationship. Scott Barnes Scott is an audit manager at PwC. He has worked in energy for his career, which he spent in Houston and Moscow and New York. He has worked as an audit manager, a special projects manager for the managing partner of the Houston office, a manager in the capital markets group (the group responsible for helping non-US companies prepare to register and list with the SEC), and the transaction support group (the group that is resposnible for performing due diligence procedures for PwC clients). He is looking for opportunities outside PwC. The PwC general line is 713 356 4000. Keith Considine He is currently a senior accountant at PwC. He is the best senior PwC Houston has, as well as probably one of the best people I have ever worked with (the top of his class). Although he only has 4 years of work experience (all at PwC), he performs in a manager capacity. He worked for me on the Coral Energy audit engagement and received an excellent evaluation from both myself and the partners (we all agreed that he is one of the best people any of us have seen or worked with). He is currently working on a project at one of PwC's clients to standardize their mid office processes . He definitely does not see himself as a long time employee of PwC, but is currently planning on staying there until he is promoted to manager. I actually recommended him for a promotion to manager at July 1 this year, but due to capacity issues, I don't expect that the promotion will be approved. His number is 713 356 5617. Junior level risk people Robin Manspeaker currently works as a scheduler at Equiva Trading. She has been there about a year and a half. Before that, she worked at Novarco in White Plains (a subsidiary of Marc Rich). She was there about 3 years. I do not know where she was before that. I have worked with her during my audits of Marc Rich. She seemed very well versed in her knowledge of her job and processes surrounding it. I do not have her number, but you can call Shell information at 713 241 6161 and they will transfer you. Dave Simpson Analyst at Koch Energy in Houston, has a degree in accounting and has work experience of about 2 years. He is very interested in leaving Koch. I know him on a person basis, but have not worked with him. He is a good guy and very likeable. His phone number is 713 544 7649 Robert Hernandez is someone who may be able to fill an open position at Enron South America. Last year, Robert worked for me at PricewaterhouseCoopers (PwC) on the external audit of Coral Energy. He was a great worker and very good at his job. He speaks fluent Spanish as well as fluent English. Before working at PwC, Robert worked in the gas trading industry in the mid/back office. I'm not sure of all of his responsibilities, but I do know he was involved in gas actualizations. In total, I think he has about 4 years of work experience. He left PwC in March to take a position with Heins in their internal audit department. I have not spoken to him since he left, but do know he paid a recruiter to find him this position. I do not know if he is happy at his current company or not. I do not know his number, but he can surely be found by using the general line. I looked it up for you and came up with two - 713 785 1494, 713 225 0565. Admin assistants Connie Shugart she is currently working at PwC as an administrative assistant. She is also involved in recruiting experienced personnel for PwC's audit and internal audit service lines. She is very interested in Enron and has asked me a few times to get her a contact here. I have not worked directly with her but due to her close proximity to my office I talked to her a number of times and was very impressed. (713 356 4000 - general PwC number). I have spoken to her about giving her name to Tony and she is very excited about coming over and interviewing. She really wants to work for Enron! Ellen Robertson She is an administrative assistant who is looking to leave PwC. I have never worked with her, but she did come to ask me my opinion on how she should go about finding other work. (713 356 4000 PwC general line).\",\n",
       " 'We have scheduled a user test for Clickpaper on Saturday, July 22nd starting at 8:30 AM on the 29th floor of the Enron building. First, a reminder to Edward and Bob to make sure the ENA Paper group is here (commercial only plus, at a minimum, John Jacobson). It is up to Edward and Bob to decide if London personnel should be here but I would recommend a few. They will be the \"users\" in the test. We will have a script for them. The goal is to test the site and the capability of the trading floor. I will explain more about this to Edward and Bob next week. Also, Bill Bradford or his designee from credit needs to be here to review the functionality of the credit check. Also, Ted Murphy or his designee needs to be here to review control. If the test is a success, we will wipe the system clean Saturday and will create actual customer profiles we have received in the system on Sunday. Monday we will review everything one last time for Tuesday launch, July 25th launch. We will provide lunch for everyone so get to me the names of who is committed so I can plan. Please respond with any issues or questions. Thanks. GP',\n",
       " \"Sally I just want to summarize/clarify our discussions so far on the Commercial Support model for Enron Japan. My background: In Europe the Commercial Support function was divided into a Middle Office (MO) and a Back Office (BO) part, with a European controller (Fearnley Dyson) responsible for both functions. For Scandinavia, the only trading office in Europe outside of London, I was responsible for both functions, as Local Office controller, reporting into Barry Pearce, who reported to Fearnley. In Japan I also have this Local Office Controller function, as being responsible for MO/BO activities in this region. The MO would consist of the trading related functions: Documentation (Capture & Confirmation), Risk Management, Settlement and Trade Accounting. The BO would consist of G&A's, Salaries & Wages, Tax, Management reporting, Statutory reporting and VAT. Back Office: I report directly to Cassandra Scultz (VP & CAO of Enron APACHI). As much as possible are to be outsourced to our Sydney office (Heidi Mason, who also reports to Cassandra), but some work has to be done in Tokyo. The reasons for this outsourcing decision is enclosed in the Power Point presentation enclosed below. For payments we use Houston Treasury, as they are the only ones that can exercise a payment in the banking systems. Middle Office: Mandate What I have in writing is a section from Joe Hirl's Memo (Request for Japan Power Trading Positions (DRAFT)) to Rick Buy and Greg Whalley dated April 19 this year (please find enclosed) Back Office Operations: Jan Erland Bekeng in cooperation with Sally Beck will look to establish the local risk books in Tokyo and define any system modifications necessary given the characteristics of the Japanese electricity market. Enron Japan will handle trade capture and risk management while confirmations and settlements will occur in Houston under Sally Beck,s supervision. IT support and system modification will be overseen by Anthony Dayao and performed in Houston. Discussion - Current & Future Situation I see more commodities than Power. Metals will arrive September 25, Weather is on the way from Sydney, and Garry Hickerson will from September 1 have a guy here doing IRFX, Agri and maybe Equity. We are also looking into Oil deals, and have plans for Gas, Coal, Pulp & Paper, Credit and Emissions. Also EBS is on the way. I only see Metals, IRFX and Weather as active desks this year, maybe Oil. Power will take some more time to get active, due to the very closed market situation here right now. On the Origination side we might see some structures/cross commidity/finance deals go through. Thus we have a mix of activites from Enron APACHI, Enron Global Markets, EBS and Enron Metals. Basically everyone wants to do some business in Japan. To coordinate all these activities we need to build the most cost efficient, independent, segregated, automised and service minded Japanese Commercial Support function possible. To accomplish these objectives, outsourcing to Sydney is an alternative that has been discussed extensive lately, and is highly recommended from our side. Labour costs in Sydney is 25% of the costs in Tokyo. Due to Sydney's experience and size they are ready to expand and take on this project. They already have the segregation and independence in place, and would give us an extra layer of segregation in the sense of being an intermideary between Tokyo and Houston. Bilingual staff would be hired to perform Japanese services, which is widely available in Sydney. And there is only one hour in difference between us. Outsourcing these activities from Japan to Australia is a growing trend, and many large corporations have done it this way. There will be some time from the first trades until functions and commodities are moved to Sydney. Tokyo want and needs to learn, understand all details, automise, make routines and calibrate systems first. On the confirmation side our Legal department would be heavily involved in th start, compared to later stages. Proposed MO structure for Enron Japan A) Responsibility for all Commercial Support activities in Japan to be sourced to Enron Japan, under Enron Japan's CFO. B) Outsource programmable tasks to Sydney: - Documentation (Capture & Confirmation) - Settlement - Trade Accounting C) Risk Management in Tokyo. I look forward to hear from you. Regards Jan-Erland\",\n",
       " 'We have created four additional graphs to be published daily along with the DPR: Return on VaR (ROVAR) Curve Shift P&L (Delta - Gamma) Sharpe Ratio Risk - Return (Large) Risk - Return (Small) All of these graphs deal with the concept of risk-adjusted return. The markets in which we operate have unlike risk characteristics. Furthermore, Enron\\'s appetite for risk also differs in each market. As a result, it is difficult to compare returns in absolute terms. Therefore, the approach of these graphs is to divide return by a measure of risk, in effect restating return numbers into a standard base (how many dollars we earn for every dollar we put at risk). For each business unit or commodity group, the ROVAR graph shows an average of daily total P&L divided by an average of daily VaR. Higher ROVARs indicate better performance (relative to other business units). For each business unit or commodity group there are two bars: the dark blue on the left shows ROVAR on a 4 week (20 business day) rolling basis, and the light blue on the right shows ROVAR on a 1 week (5 business day) rolling basis. Because of the shorter term, the 1 week ROVAR is more sensitive: it can be quite high or low, and it changes frequently. The Sharpe Ratio graph is very similar in concept; it shows an average of daily curve shift P&L (both delta and gamma) divided by its standard deviation. This Sharpe ratio is uncomplicated by non-trading P&L (like new deals, reserves, and so forth). Furthermore, whereas VaR is a forward looking statistic (the most we are likely to lose in one day with a given probability), standard deviation is backward looking (the actual volatility of our returns over the period). This graph also has two bars for every business unit or commodity group: a dark brown on the left showing the Sharpe ratio on a 4 week rolling basis, and a light brown on the right showing the ratio on a 1 week basis. The Curve Shift P&L Sharpe Ratio and the ROVAR graphs complement each other well. They measure different things, but if our P&L is composed mostly of curve shift, and if our VaR closely predicts curve shift volatility, the two statistics should be very close. Sometimes it is interesting to see the actual magnitude of the P&L relative to the risk. We therefore put together the Risk - Return graphs. On the vertical axis, they show 4 week rolling average P&L. On the horizontal, they show 4 week rolling average VaR. The various business units are plotted as points on the graphs. These graphs are closely related to the 4-week ROVARs, in that the vertical value of every point divided by its horizontal value is the business unit\\'s ROVAR (average P&L / average VaR). Another way of looking at these graphs is that the slope of a line connecting the origin (0,0) with the plotted point of a business unit is its ROVAR. Books with small risks and returns (< $2 million) are plotted on the \"Small\" graph, and the rest, on the \"Large\". These graphs are based on the DPR Database that we built to standardize and capture the information that is reported in the DPR. Most, but not all of the information in the DPR currently flows from the database. As a result, we do not have ROVARs or Sharpe Ratios for every business unit. As we continue to set up exports into the database, we will fill in the missing numbers. We will e-mail you these graphs every day until we can publish them on the intra-net. Please remember to launch the file in Excel, instead of using the Lotus Notes viewer. The VaR Limit Usage graphs that we created last week are already on the web. We hope that you find all of these useful. Regards, Eugenio Perez',\n",
       " 'Per my voicemails to each of you.... Jenny Latham is currently a manager in Power Risk in Houston, and is interested in moving to London. She is very well respected within Enron, and is a highly rated employee. She has been with Enron for several years, in various positions, and will move us far ahead in the staffing. In January, I met with Yvonne Scorer to identify recruiting needs to build the mid and back office for the London activity for EIM. One position identified, Business Controller, is the position I have discussed with Jenny, and she is very interested. I am anxious to move this forward ASAP for a couple of reasons: 1). Jenny is interested, and I do not want to lose her to other opportunities within the London office, and 2). It is not too early to move forward on the staffing of the office as it will take some time to appropriately staff and transition current support from EGM. Bruce, last week Jenny and I met with you, and we discussed that it would be appropriate for Jenny to spend time with us here in Houston to learn our current processes, commoditiies, etc. I absolutely agree with this, but we need to make a deal with her before we can start that process. The sequence of events that make sense to me and that I believe would make Jenny the most comfortable is that we 1). agree on the financial package (Compensation, moving allowance, etc), 2). transition her current responsibilities within Power Risk, and 3). begin training with us. Simultaneously, we will need to recruit applicants for the remaining positions in Risk, Documentation, Settlements and Trade Accounting. My goal is to have everything in place in London by the end of first quarter. To meet this time line, we need to get more information and have a discussion with Meryl on the specifics. Bruce, can you give Meryl the green light to move forward with us? I appreciate your help.',\n",
       " 'The Enron BOD approved the some limit changes today, effective for trading day Tuesday, February 13, 2001, consistent with the risk management policy\\'s intent to provide a trading limit framework whereby management can review Enron\\'s consolidated exposure to commodities. To faciliate the aggregation and reporting of Enron\\'s consolidated exposure to commodities, the limit structure was modified to provide for aggregation of North American Natural Gas and Electricity, with EES\\'s NA Gas and Power positions included, and with a separate business unit sub-limit for EES. Policy amendments were as follows: u Clarify the cross-commodity trading policy to specify that trading limits are to be applied against Enron,s consolidated commodity positions on an individual commodity group basis; Enron,s consolidated Daily Position Report should provide required market risk disclosures by primary commodity group; (for example, Enron,s exposure to the North American Natural Gas market shall be aggregated across the company). ) Delegate cross-commodity trading approval among established commodity groups to the respective Business Units Offices of the Chairman, with appropriate reporting to the Enron Corp. Chief Risk Officer. u Specify the operational control requirement that all trades executed over the telephone must be recorded electronically. Cross-commodity trading authority was not automatically pre-approved for anyone in the company. Authority to trade a commodity for which you are not the authorized trader must be obtained from the Business Unit Office of the Chairman for the commodity group that is authorized to trade that commodity, with appropriate reporting as noted below. North American Cross-Commodity Limits VaR Limit None (terminated the $5MM VaR limit) North American Natural Gas Net Open Position 500 Bcf Maturity / Gap Risk Limit 200 Bcf VaR Limit $61 MM (EES - $1 MM) ** North American Electricity Net Open Position 90 Twh Maturity / Gap Risk Limit 25 Twh VaR Limit $54 MM (EES - $4 MM) ** ** EES\\'s $5MM VaR was allocated between Gas and Power for purposes of calculating consolidated NA Gas and Power limits. From a business unit perspective, the $5MM VaR limit will continue to be monitored for EES in total. Below are relevant excerpts from the revised policy addressing the cross-commodity trading guidelines. I will distribute the entire updated policy as soon as we incorporate the BOD\\'s comments. V. Operations and Controls. B. Position Reporting. \"...For purposes of limit monitoring and aggregation of Enron,s consolidated trading results, Enron,s consolidated Daily Position Report should include the Net Open Position, Maturity/Gap Position, profit or loss, and potential exposure (VaR) for approved Commodity Groups consolidated across the company without regard to which business unit undertook the trading activity. In those instances where limits are granted to a business unit for a basket of commodities, reporting for individual commodity risk books shall be maintained to facilitate aggregation of Enron,s actual consolidated commodity specific exposure. Management reporting may separately provide business unit sub-limit monitoring and trading results aggregated according to management lines.\" E. Transaction Approval and Execution. \"Only those employees designated by the Enron Corp. Chief Risk Officer or his designee(s) will be authorized to enter into Transactions on behalf of Enron. The Chief Risk Officer must also maintain a record of those employees responsible for the individual Commodity Groups (Commodity Group Manager) as specified in the Appendices. Individuals will be assigned as commodity leaders to manage Enron,s aggregate position across the company as determined necessary by the Chief Risk Officer...\" VI. Policy Amendment Authority B. Cross-Commodity Position Authorization. If in the ordinary course of its business an Enron Business Unit or trading desk incurs an exposure to an underlying commodity or financial instrument for which it does not have explicit authority to carry, this exposure should be hedged internally with the appropriate Enron desk(s), with appropriate notification to the Chief Risk Officer or his designee(s). Hedge positions should be in instruments that have an observable correlation with the underlying exposure, and should be rebalanced regularly to substantially neutralize the underlying exposure. Upon notification to the Chief Risk Officer or his designee(s), the Enron Business Unit Office of the Chairman who has authority for that commodity group may authorize a specific trader in a different commodity group to take speculative positions with other Enron trading desks in commodities and/or financial instruments other than those which that trader has explicit authority to trade (i.e. the Business Unit Office of the Chairman for North American Natural Gas may authorize a trader in the Coal group to trade gas with the North American Natural Gas desk). For limit monitoring purposes of Enron,s consolidated trading results, these cross-commodity positions shall be captured by individual commodity to facilitate aggregation and reporting of Enron,s consolidated exposure by commodity in the Daily Position Report (Coal desk,s gas position will be aggregated with the North American Natural Gas commodity group.) If you have any questions, feel free to call Vlady at x36954, me at x30429, or David Port at x39823. Regards, Cassandra Schultz.',\n",
       " \"Here's just a quick summary of what we have going on...(not sure how quick this is going to be!) EnronOnline Offering products on other exchanges (HoustonStreet and True Quote). We are going to offer specific products (various Gas and Power products) to customers who have execute rights to these products on these two platforms. Therefore, we will have three feeds to deal with and will need new applications built to support the interfaces. We will be responsible for adding/deleting products, ensuring the sites match ours, reporting trades on these systems, bridging applicable data to downstream systems, etc. Enron gets an equity ownership in the platforms depending on activity. Opening up EnronOnline to brokers. We are negotiating with three brokers right now. They will have to pay a one year licensing fee to have access to the site, and we will allow them to transact for specific counterparties only. We will also need applications built and establish specific processes to support this. Wish List - we have a list of approx. 180 times that we need the developers to work on for us. Jay Webb committed to Louise a few weeks back (when I was in her office) that we would get a resource (specifically Chris Luttrel and his team). I think you are aware of this. Chris is now moving on to do something else and none of our items have been addressed in three weeks. We have had weekly meetings the last three weeks with the IT team (Mark Dilworth and company...). Basically, since Mark has decided to leave the group, nothing is being addressed. I am going to speak to Dave tomorrow about this and escalate from there necessary. This needs a more detailed explanation - I am going to try to get some time with you next week. Steel - I will discuss with Dave tomorrow. He basically told me not to do anything (another topic of discussion....) We are working on enhancing our existing intranet site for the PCG Louise has asked that I not allocate any of the PCG time to Europe - I don't agree with this because I have four people preparing the management report on a daily basis and I have a call center that also supports Europe. I tried to argue my point but did not get very far : ) I am going to talk to Dave about it some more. Working on bridging to Thunderball and the new weather application Legal/Credit - we do not always get timely responses from the groups - Credit is improving (they hired a new person), but Legal has one person responsible for new CP set up (Tana Jones). When she is out, all application processing stops. I am going to talk to Mark Taylor about appointing a back up at a minimum. Tana does a great job, but our activity is really increasing (she also supports Clickpaper), so it is becoming an issue. We have set another record today - we have already done 3,358 trades!!!! No new news from Canada on power trading - Legal needs to sign off. In Mark Taylor's shop Argentina in the works - probably end of month. Clickpaper We have so much, I am not sure where to start. I had lunch today with Jeff Harbert to discuss what our needs were. We need tools from reporting to credit... The commercial group is really wanting to start offering more products, and are starting to hire marketing people and traders. The activity is really picking up The contractors are working weekends (Call Center). I am working the Commercial group to discontinue this. We are not even getting that many calls during the week, and we have not received one call on Sat/Sun since launch (July) Commodity Logic Dale has been very involved in all the discussions and has been a great resource (I have received several compliments from the NetWorks team on his contribution) They have not yet released the first module (Financial Mgmt - CFO). Should be very soon DealBench No external customers - very slow developing.... Staying involved and in touch with the Commercial team Other I am still looking for an assistant. I sent five resumes down to staffing and a week later the interviews were not scheduled. I went down to complain and two of them were scheduled. A week later, the other three were yet to be scheduled, so I am doing it myself. I think we have some real issues in the staffing group - this is not the first time. We are working on Disaster Recovery for the group. Super Saturday - I would like our team to participate. Do you have an idea of who all is interviewing? We would like to be involved. We are looking at holiday coverage now to ensure we have coverage I talked to Mary Sloan (SAP) and Keith Clark (Call Center) is working with her. I think she really appreciates the help/input. Have you had a chance to review the announcement letter re:reorg? Sorry for the long-winded message.... Thanks! Talk to you soon. Sheri\",\n",
       " \"As we are nearing the deadline for the Book-split project, I want to give you a status update. BOOK-SPLIT Completed Separate Cash & Term books have been setup in Enpower and Global databases for every country Pablo Pissanetzky has written code to successfully transfer over 99% of the deals into their proper regional books Two dozen deals (mainly annuities) have been modified in Production to transfer according to Pablo's code All deals requiring manual intervention on Go Live date have been identified Initial position report has been developed and tested for accuracy Uncompleted Communication to Commercial of positions (Wed. April 26) Presentation of the Position Report which allows Commercial to view monthly peak/off-peak volumes by region (Wed. April 26) PCS by deal for each portfolio Separate DPRs and associated reports for the Pool and Bilateral portfolios Modifications necessary for the Settlements invoicing system TRANSMISSION We are making progress on this effort although you have not seen any hard evidence. Zhiyong Wei is the IT Director in Houston who is responsible for Enpower development. We are working with Pablo and Zhiyong on several possibilities. As we have previously discussed, there is not the current capability to value the spreads as options, but we are testing the other scenarios. Buy/Resale This deal type has been disabled We are waiting for Zhiyong's response as to its future functionality if any Transmission Pablo tested in the Stage environment today after receiving minor assistance from Zhiyong Ability to book Transmission deal without Annuity leg Ability to liquidate demand charge daily Reflects long and short positions at the appropriate regions (as Forwards not Options) Does not value the forward spread between the regional curves (still testing) Variable cost treatment is still being tested Forwards If deep in the money, we could enter intra-desk/inter-desk deals to reflect positions and P&L Much time and IT development resources have been spent to make use of the Transmission functionality. After speaking with Zhiyong, there evidently was a big push last year for the MTM of Transmission. The latest version has been in the test environment for some time, but no one is currently testing it. It will take some attention to test it properly and will not be complete by the book-split deadline. As we established in our last meeting, the MTM of transmission is a separate project from the book-split. Due to the complexity and amount of data involved in the book-split project itself, it is advisable that we incorporate the transmission second. Further testing of the transmission will continue this week and by the end of the week we should have a decision on the most effective way to currently book transmission. Please call or come by if you have any questions, Todd Hall\"]"
      ]
     },
     "execution_count": 168,
     "metadata": {},
     "output_type": "execute_result"
    },
    {
     "name": "stdout",
     "output_type": "stream",
     "text": [
      "\n",
      "\n",
      "21 messages in cluster 3.\n"
     ]
    },
    {
     "data": {
      "text/plain": [
       "['George, Please send the latest cost estimates when you get a chance this morning. Phillip',\n",
       " 'Andrea, Please resend the first three resumes. Phillip',\n",
       " 'cannot open this file. Please send in different format',\n",
       " 'Ina, I will be on vacation July 31 - August 3. Please mark the calendar. Phillip',\n",
       " 'Ina, Please mark me down for vacation on August 1 through August 3. Phillip',\n",
       " \"Mery, Please email me back with a location for tomorrow's meeting. Phillip\",\n",
       " 'Yesterday, Aquilla sold March at 5.77 and 5.76 for HeHub. Please change it to Nymex',\n",
       " 'Please delete previous message. It was meant for David Oxley',\n",
       " \"http:.hyatt.com_dfwrd.html my bro says this place is nice but don't know how expensive\",\n",
       " 'Just a reminder. Please try to be at the field by 6:30.',\n",
       " \"This is a copy of Lloyd's Business plan please do not distribute to anyone else.\",\n",
       " 'Attached is the consolidated global standards 12/18/00. Should you have any questions please feel free to call me at ext 54751. Nancy',\n",
       " \"Attached is June's Curve Validation memorandum. Please do not hesitate to call if you have any questions. Gary X35502\",\n",
       " 'Sally, Please call me if you have any questions. Mike',\n",
       " 'Please let me know if you have any questions or would like to discuss in further detail. Regards, Scott']"
      ]
     },
     "execution_count": 168,
     "metadata": {},
     "output_type": "execute_result"
    },
    {
     "name": "stdout",
     "output_type": "stream",
     "text": [
      "\n",
      "\n",
      "48 messages in cluster 4.\n"
     ]
    },
    {
     "data": {
      "text/plain": [
       "['Original Message From: \"Greg Thorse\"  [mailto:IMCEANOTES-+22Greg+20Thorse+22+20+3Cgthorse+40keyad+2Ecom+3E+40ENRON.com] Sent: Tuesday, June 19, 2001 8:47 AM To: Allen, Phillip K. Subject: Bishops Corner',\n",
       " 'Hey: I just want to confirm the trades I have in your book. Trade #1. I sell 4000 X  4652 Trade #2. I buy 4000 X  4652 I sell 4000 X  4902 Trade #3 I buy 4000 X  5000 I sell 4000 F  5000 Net result: I have 4000 F in your book  4902. Thanks, John',\n",
       " 'fyi: Jan Red Jan trading 28.5 with Sep  381',\n",
       " 'Original Message From: \"Mark Sagel\"  [mailto:IMCEANOTES-+22Mark+20Sagel+22+20+3Cmsagel+40home+2Ecom+3E+40ENRON.com] Sent: Sunday, May 20, 2001 6:04 PM To: John Arnold Subject: Natural Update',\n",
       " 'Original Message From: \"Robertson, Heather\"  [mailto:IMCEANOTES-+22Robertson+2C+20Heather+22+20+3CHRobertson+40cloughcapital+2Ecom+3E+40ENRON.com] Sent: Monday, September 17, 2001 8:56 AM To: Robertson, Heather Subject: FW: How You Can Help the US Stock Market',\n",
       " 'Original Message From: \"Mark Sagel\"  Sent: Monday, December 10, 2001 4:07 PM To: John Arnold Subject: Payment',\n",
       " 'Original Message From: \"sarah aldrich\"  Sent: Wednesday, November 07, 2001 10:43 AM To: jarnold.com Subject: Help!',\n",
       " \"Saturday is better for me - say  Noon. I'm in if we play on Sat.\",\n",
       " \"That's it. Thanks to plove I am no longer entering my own deals. Phillip M Love  To: Eric Bass cc: Subject: Re: We can always count on you to at least give us one on the error report. PL\",\n",
       " 'i got your tickets Jason Bass on  To: cc: Subject: funnies - fortune.jpg - bombtech.jpg - airolane.jpg - watchp.jpg',\n",
       " 'This deal from Tuesday was not entered in Enpower (HE 10). We entered it last night. The Enpower numbers are attached. DUKE to SOCO schedule for 1-30-01 Buy  Duke E: 509197 Sale  SOCO E: 509198',\n",
       " 'Steven Coulter is confirmed for a telephone interview on Monday, April 30, 2001  3:35pm CST and he can be reached at (970-223-6506). I have attached his resume for your reference. Confernce Room EB-3654. Thank You, Lydia, x3-9338',\n",
       " 'Original Message From: \"Lawson, Lisa\"  Sent: Friday, August 03, 2001 9:32 AM To: Baughman Jr., Don Subject: Megawatt Daily Into Cinergy Hourly Index',\n",
       " 'Original Message From: \"Lawson, Lisa\"  Sent: Wednesday, August 15, 2001 12:45 PM To: Baughman Jr., Don Subject: Megawatt Daily\\'s Into Cinergy Hourly Index',\n",
       " 'James Scribner is enrolled in Wellhead to Burner Tip Class Days and Times:  - 05:00:00 PM  - 12:00:00 PM Participant Fee: $600.00 Thank you for your support in providing quality and cost effective development opportunites at Enron. Your Company and RC will be charged $600.00 If you have any questions, please call the Development Center Team at 713-853-0357. Thank you.']"
      ]
     },
     "execution_count": 168,
     "metadata": {},
     "output_type": "execute_result"
    },
    {
     "name": "stdout",
     "output_type": "stream",
     "text": [
      "\n",
      "\n",
      "38 messages in cluster 5.\n"
     ]
    },
    {
     "data": {
      "text/plain": [
       "[\"Original Message From: Heizenrader, Tim Sent: Tuesday, July 10, 2001 12:59 PM To: Lavorato, John; Allen, Phillip K.; Zufferli, John Cc: Belden, Tim; Swerzbin, Mike; Richey, Cooper Subject: West Power Strategy Briefing Charts for today's meeting are attached:\",\n",
       " 'Original Message From: Webb, Jay Sent: Monday, December 03, 2001 12:11 PM To: Allen, Phillip K. Subject: report',\n",
       " 'Original Message From: Davis, Karen Sent: Monday, July 23, 2001 1:03 PM Cc: Jones, Donna; Walt, John; Coleman, Jacqueline; Bland Jr., Ted C.; Friesenhahn, Shelly Subject: Meet your New Analyst(s)',\n",
       " 'Original Message From: Walsh, Kristin Sent: Monday, July 23, 2001 1:03 PM To: Allen, Phillip K.; Grigsby, Mike Cc: Presto, Kevin M.; Tholan, Scott; Turner, Nancy Subject: El Paso Update 7/23/011',\n",
       " 'Original Message From: Hayden, Frank Sent: Wednesday, December 05, 2001 10:44 AM To: Allen, Phillip K. Subject:',\n",
       " 'Original Message From: Turner, Nancy Sent: Friday, August 24, 2001 8:15 AM To: Allen, Phillip K.; Grigsby, Mike; Gaskill, Chris; Presto, Kevin M. Cc: Walsh, Kristin; Tholan, Scott; Whitman, Britt; Holman, Kelly Subject: El Paso 1110',\n",
       " 'Original Message From: Hayden, Frank Sent: Monday, December 17, 2001 4:54 PM To: Allen, Phillip K. Cc: Gossett, Jeffrey C.; White, Stacey W. Subject: FW: Chase Backtest',\n",
       " 'Original Message From: Arnold, Matthew Sent: Monday, July 16, 2001 8:46 AM To: Arnold, John Subject: FW: vacation',\n",
       " 'Original Message From: Grabstald, Kathie Sent: Wednesday, September 12, 2001 4:54 PM To: Arnold, John Subject: FW: John Arnold photos',\n",
       " 'Original Message From: Calger, Christopher F. Sent: Monday, December 03, 2001 5:43 PM To: St. Clair, Carol Cc: Sacks, Edward; Arnold, John Subject: RE: Terminating Trades',\n",
       " 'Original Message From: Bhatia, Randy Sent: Monday, February 04, 2002 10:00 AM To: Wolfe, Jason; Lenhart, Matthew Subject:',\n",
       " 'Original Message From: K. Bass [mailto:daphneco64.net] Sent: Wednesday, September 26, 2001 11:33 AM To: Bass, Eric Subject: Sun-Sentinel News Local',\n",
       " 'Original Message From: Roan, Michael Sent: Monday, November 19, 2001 9:16 AM To: Forster, David Cc: Day, Smith L.; Nicolay, Christi L. Subject: MISO phase in of operations',\n",
       " 'Original Message From: Serio, Erik Sent: Thursday, January 31, 2002 2:03 PM To: Will, Lloyd Subject:',\n",
       " 'Original Message From: Mansfield, Marci Sent: Friday, November 02, 2001 4:24 PM To: Baughman Jr., Don Subject: NOV TRANS RATES']"
      ]
     },
     "execution_count": 168,
     "metadata": {},
     "output_type": "execute_result"
    },
    {
     "name": "stdout",
     "output_type": "stream",
     "text": [
      "\n",
      "\n",
      "10 messages in cluster 9.\n"
     ]
    },
    {
     "data": {
      "text/plain": [
       "['Original Message From: > [mailto:IMCEANOTES-+3CiBuyit+2EPayables+40Enron+2Ecom+3E+40ENRON.com] Sent: Monday, July 23, 2001 10:10 PM To: pallen.com Subject: Action Requested: Past Due Invoice',\n",
       " 'Original Message From: > [mailto:IMCEANOTES-+3CiBuyit+2EPayables+40Enron+2Ecom+3E+40ENRON.com] Sent: Sunday, August 05, 2001 10:10 PM To: pallen.com Subject: Action Requested: Past Due Invoice',\n",
       " 'Original Message From: > [mailto:IMCEANOTES-+3CiPayit+40Enron+2Ecom+3E+40ENRON.com] Sent: Monday, September 17, 2001 10:06 PM To: Allen, Phillip K. Subject: Action Requested: Past Due Invoice',\n",
       " 'Original Message From: soblander.com [mailto:IMCEANOTES-soblander+40carrfut+2Ecom+40ENRON.com] Sent: Tuesday, May 22, 2001 12:17 PM To: soblander.com Subject: nat gas options 5/22',\n",
       " 'Original Message From: soblander.com [mailto:IMCEANOTES-soblander+40carrfut+2Ecom+40ENRON.com] Sent: Wednesday, September 19, 2001 9:11 AM To: soblander.com Subject: resend-ALL daily charts and matrices as hot links 9/19',\n",
       " 'Original Message From: louis.caiafa.bnpparibas.com Sent: Wednesday, November 28, 2001 12:47 PM To: jarnold.com Subject: NG Delta position',\n",
       " 'Original Message From: louis.caiafa.bnpparibas.com Sent: Thursday, November 29, 2001 7:59 AM To: jarnold.com; Quigley, Dutch Subject: NG Delta 11-28-01',\n",
       " 'Original Message From: IntercontinentalExchange [mailto:feedback.com] Sent: Friday, November 30, 2001 11:55 AM To: powerindex.intcx.com Subject: Power Indices',\n",
       " \"Original Message From: Ballantine, Caroline B [mailto:cballantine.com] Sent: Thursday, November 29, 2001 10:06 AM To: 'harry_arora.com' Subject: trading\",\n",
       " \"Original Message From: Kaur, Gurdeep (Gurdeep)** CTR ** [mailto:gkaur1.com] Sent: Monday, December 24, 2001 11:14 AM To: 'harora.com' Subject: test mail\"]"
      ]
     },
     "execution_count": 168,
     "metadata": {},
     "output_type": "execute_result"
    },
    {
     "name": "stdout",
     "output_type": "stream",
     "text": [
      "\n",
      "\n",
      "46 messages in cluster 6.\n"
     ]
    },
    {
     "data": {
      "text/plain": [
       "[\"yep...i'm always here\",\n",
       " \"Hey: Do you have any extras for tonight's game? John PS. How's you bowl\",\n",
       " 'hey podner: where are you buying me dinner tonight?',\n",
       " 'heffner a little bullish, eh?',\n",
       " 'yea',\n",
       " 'yea, i interviewed him. i gave him a thumbs up. why do you ask?',\n",
       " 'yea',\n",
       " 'yea',\n",
       " 'Hey Melissa,',\n",
       " 'Hey Janet,',\n",
       " 'hey mom,',\n",
       " 'Hi Mom,',\n",
       " 'Hey Allison,',\n",
       " 'Hey Brett,',\n",
       " 'Hey,']"
      ]
     },
     "execution_count": 168,
     "metadata": {},
     "output_type": "execute_result"
    },
    {
     "name": "stdout",
     "output_type": "stream",
     "text": [
      "\n",
      "\n",
      "10 messages in cluster 8.\n"
     ]
    },
    {
     "data": {
      "text/plain": [
       "['Absolutely. Come by around 3:30??',\n",
       " 'who were you trying to bet on??',\n",
       " 'Dinner tonite....birthday boy???',\n",
       " 'How about 4:00 ??',\n",
       " '7:00 game can you let me know tomorrow??',\n",
       " 'newport??',\n",
       " 'how about your local bank??',\n",
       " 'How about next wednesday??',\n",
       " '4:30ish??',\n",
       " 'Garner and Glenn for T.D. ?']"
      ]
     },
     "execution_count": 168,
     "metadata": {},
     "output_type": "execute_result"
    },
    {
     "name": "stdout",
     "output_type": "stream",
     "text": [
      "\n",
      "\n",
      "22 messages in cluster 7.\n"
     ]
    },
    {
     "data": {
      "text/plain": [
       "['world cup 2006 Germany BOO!',\n",
       " \"Here is some info on steamboat. I haven't checked affair yet. The Sunburst cono looks reasonable!\",\n",
       " 'vacation!',\n",
       " 'here, woman!',\n",
       " 'i told you so!',\n",
       " 'tell your roommate to shut her big mouth!',\n",
       " \"Hook 'em!\",\n",
       " 'that could be a dealbreaker!',\n",
       " \"I can't make this meeting today - bid week!\",\n",
       " 'Look at this pup!',\n",
       " 'Go Longhorns! - only in TEXAS.jpg',\n",
       " 'you are an asshole !',\n",
       " 'Got it!',\n",
       " 'I am not available to interview on December 7th. I will be in a PRC meeting. Try me next time! Sally',\n",
       " 'I will call you tonight!']"
      ]
     },
     "execution_count": 168,
     "metadata": {},
     "output_type": "execute_result"
    },
    {
     "name": "stdout",
     "output_type": "stream",
     "text": [
      "\n",
      "\n",
      "10 messages in cluster 15.\n"
     ]
    },
    {
     "data": {
      "text/plain": [
       "['Please let me know whether or not you will be there. Please try to be there by 8:15.',\n",
       " 'Attached please find a completed employee profile for Brent Price for consideration for promotion to Vice President. Please call me if you have any questions.',\n",
       " 'Attached please find the daily log as of 12/29/00. If you have any questions or comments please advise. Nancy',\n",
       " 'Please find attached the EGM Management Summary and Hot List as of 11/09. Please contact me if you have any questions/comments.',\n",
       " \"Please find attached EGM's Management Summary and Hot List as of 1/18/01. Please contact me of you have any questions\",\n",
       " 'Please find attached the EGM Management Summary and Hot List as of 11/16. Please contact me if you have any questions/comments.',\n",
       " 'Attached please find the log report for the week of Dec 10-17th, as of Dec 12th. Should you have any questions please feel free to contact me at ext. 54751.',\n",
       " 'Please find attached the EGM Management Summary and Hot List as of 1/25/01. Please contact me if you have any questions/comments.',\n",
       " 'Please find attached the EGM Management Summary and Hot List as of 2/1/01. Please contact me if you have any comments/questions.',\n",
       " \"Attached please find March's curve validation memorandum. Please call if you have any questions. Gary Stadler X35502\"]"
      ]
     },
     "execution_count": 168,
     "metadata": {},
     "output_type": "execute_result"
    },
    {
     "name": "stdout",
     "output_type": "stream",
     "text": [
      "\n",
      "\n",
      "55 messages in cluster 11.\n"
     ]
    },
    {
     "data": {
      "text/plain": [
       "[\"Don't forget to reserve your spot- Jen Fraser, Director of Origination in EGM - December 5 from 12 to 1 in 30C1 Call or email Tom Wilbeck.\",\n",
       " \"Thank you to those who have already RSVP'd for this informative brown bag session. This is one of the last opportunities you'll have to gain more insight into our business. Please RSVP ASAP, Okay? Jen Fraser, Director of Origination in EGM - December 5 from 12 to 1 in 30C1\",\n",
       " 'Come check out......... Jen Fraser, a Director with Enron Global Markets, November 14 from 12 to 1 in EB 30C1 Mike McConnell, President and CEO of Enron Global Markets, November 28 from 12 to 1 in EB 30C1 Call or email Stacey Dempsey.',\n",
       " 'Southern Company Energy Marketing LP changed their name to Mirant Americas Energy Marketing, LP. This record will be overlayed in GCP in the next few days.',\n",
       " 'This CP has merged into PANCANADIAN ENERGY SERVICES INC. If you do not wish to receive these notices, please let me know.',\n",
       " 'NSP has changed their name to Xcel Energy Inc. Global Counterparty will overlay the NSP record with this new name tomorrow.',\n",
       " 'FirstEnergy System (FIRSTENESY) has assigned its transmission assets and service agreements to American Transmission Systems, Inc. (ATSI) They are a subsidiary of FirstEnergy Corp. Their mnemonic reference changed from \"FE\" to \"ATSI.\"',\n",
       " 'Entergy Power Marketing Corp. has assigned their EEI agreement to Axia Energy, LP. Entergy Power Marketing Corp. and Koch Energy Trading, Inc. will be inactivated in Enpower. They have merged to form AXIA.',\n",
       " '',\n",
       " 'We have recevied the executed EEI Master Power Purchase and Sale Agreement dated 1/22/2001 from the referenced CP. Copies will be distributed to Legal and Credit.',\n",
       " 'We have received the executed EEI Master Power Purchase and Sale Agreement dated 3/15/2001 from the referenced CP. Copies will be distributed to legal and credit.',\n",
       " 'We have received the executed EEI Master Power Purchase and Sale Agreement dated 2/1/2001 from the referenced CP. Copies will be distributed to Legal and Credit.',\n",
       " 'We have received the executed EEI Master Power Purchase and Sale Agreement dated 5/2/01 for the referenced CP. Copies will be distributed to Legal and Credit.',\n",
       " 'We have received the executed EEI agreement from the referenced CP dated 12/30/00. Copies will be distributed to Legal and Credit.',\n",
       " 'Original Message From: Imai, Rika Sent: Wednesday, November 21, 2001 10:51 AM To: Black, Tamara Jae Subject: AGENDA FOR PIRA PRESENTATION']"
      ]
     },
     "execution_count": 168,
     "metadata": {},
     "output_type": "execute_result"
    },
    {
     "name": "stdout",
     "output_type": "stream",
     "text": [
      "\n",
      "\n",
      "18 messages in cluster 12.\n"
     ]
    },
    {
     "data": {
      "text/plain": [
       "[\"You have received this message because someone has attempted to send you an e-mail from outside of Enron with an attachment type that Enron does not allow into our messaging environment. Your e-mail has been quarantined and is being held at the MailSweeper server. Sender: daphneco64.net Date: Wed, 23 Jan 2002 15:29:59 -0600 Subject: HoustonChronicle.com Attachment Type: Scenarios URL Catcher: A filename matching the file mask was detected: 'houstonchronicle.com.url'. If the intended email is of valid business-related content and you believe it requires Enron resources to retrieve it, you may call your Help Desk and ask to have it released from quarantine and delivered to your e-mail Inbox. Your message will be scanned and checked for viruses prior to requested release. If it contains a virus or there is reason to suspect it is malicious code, it will not be delivered. North American Resolution Center: 713 853 1411 European Resolution Center: 0044 207 78 36777 EES Help Desk: 888 853 9797 ETS Solution Center: 713 345 4745 (Houston) or 402 398 7454 (Omaha) Please DO NOT reply to this address as it is not a monitored system mailbox.\",\n",
       " \"You have received this message because someone has attempted to send you an e-mail from outside of Enron with an attachment type that Enron does not allow into our messaging environment. Your e-mail has been quarantined and is being held at the MailSweeper server. Sender: lwbthemarine.net Date: Tue, 22 Jan 2002 16:51:43 -0600 Subject: weather.com - Local Weather - Fairfield, TX Attachment Type: Scenarios URL Catcher: A filename matching the file mask was detected: 'weather.com - local weather - fairfield, tx.url'. If the intended email is of valid business-related content and you believe it requires Enron resources to retrieve it, you may call your Help Desk and ask to have it released from quarantine and delivered to your e-mail Inbox. Your message will be scanned and checked for viruses prior to requested release. If it contains a virus or there is reason to suspect it is malicious code, it will not be delivered. North American Resolution Center: 713 853 1411 European Resolution Center: 0044 207 78 36777 EES Help Desk: 888 853 9797 ETS Solution Center: 713 345 4745 (Houston) or 402 398 7454 (Omaha) Please DO NOT reply to this address as it is not a monitored system mailbox.\",\n",
       " \"You have received this message because someone has attempted to send you an e-mail from outside of Enron with an attachment type that Enron does not allow into our messaging environment. Your e-mail has been quarantined and is being held at the MailSweeper server. Sender: daphneco64.net Date: Tue, 22 Jan 2002 11:52:40 -0600 Subject: 5 Attachment Type: Scenarios URL Catcher: A filename matching the file mask was detected: '5.url'. If the intended email is of valid business-related content and you believe it requires Enron resources to retrieve it, you may call your Help Desk and ask to have it released from quarantine and delivered to your e-mail Inbox. Your message will be scanned and checked for viruses prior to requested release. If it contains a virus or there is reason to suspect it is malicious code, it will not be delivered. North American Resolution Center: 713 853 1411 European Resolution Center: 0044 207 78 36777 EES Help Desk: 888 853 9797 ETS Solution Center: 713 345 4745 (Houston) or 402 398 7454 (Omaha) Please DO NOT reply to this address as it is not a monitored system mailbox.\",\n",
       " \"You have received this message because someone has attempted to send you an e-mail from outside of Enron with an attachment type that Enron does not allow into our messaging environment. Your e-mail has been quarantined and is being held at the MailSweeper server. Sender: daphneco64.net Date: Mon, 21 Jan 2002 08:13:58 -0600 Subject: Urban Legends Reference Pages Rumors of War (Automotive Contributions) Attachment Type: Scenarios URL Catcher: A filename matching the file mask was detected: 'urban legends reference pages rumors of war (automotive contributions).url'. If the intended email is of valid business-related content and you believe it requires Enron resources to retrieve it, you may call your Help Desk and ask to have it released from quarantine and delivered to your e-mail Inbox. Your message will be scanned and checked for viruses prior to requested release. If it contains a virus or there is reason to suspect it is malicious code, it will not be delivered. North American Resolution Center: 713 853 1411 European Resolution Center: 0044 207 78 36777 EES Help Desk: 888 853 9797 ETS Solution Center: 713 345 4745 (Houston) or 402 398 7454 (Omaha) Please DO NOT reply to this address as it is not a monitored system mailbox.\",\n",
       " \"You have received this message because someone has attempted to send you an e-mail from outside of Enron with an attachment type that Enron does not allow into our messaging environment. Your e-mail has been quarantined and is being held at the MailSweeper server. Sender: daphneco64.net Date: Thu, 20 Dec 2001 16:17:33 -0600 Subject: Threads2 Attachment Type: Scenarios URL Catcher: A filename matching the file mask was detected: 'threads2.url'. If the intended email is of valid business-related content and you believe it requires Enron resources to retrieve it, you may call your Help Desk and ask to have it released from quarantine and delivered to your e-mail Inbox. Your message will be scanned and checked for viruses prior to requested release. If it contains a virus or there is reason to suspect it is malicious code, it will not be delivered. North American Resolution Center: 713 853 1411 European Resolution Center: 0044 207 78 36777 EES Help Desk: 888 853 9797 ETS Solution Center: 713 345 4745 (Houston) or 402 398 7454 (Omaha) Please DO NOT reply to this address as it is not a monitored system mailbox.\",\n",
       " \"You have received this message because someone has attempted to send you an e-mail from outside of Enron with an attachment type that Enron does not allow into our messaging environment. Your e-mail has been quarantined and is being held at the MailSweeper server. Sender: lwbthemarine.net Date: Fri, 28 Dec 2001 09:24:20 -0600 Subject: Texas Treasure Attachment Type: Scenarios URL Catcher: A filename matching the file mask was detected: 'texas treasure.url'. If the intended email is of valid business-related content and you believe it requires Enron resources to retrieve it, you may call your Help Desk and ask to have it released from quarantine and delivered to your e-mail Inbox. Your message will be scanned and checked for viruses prior to requested release. If it contains a virus or there is reason to suspect it is malicious code, it will not be delivered. North American Resolution Center: 713 853 1411 European Resolution Center: 0044 207 78 36777 EES Help Desk: 888 853 9797 ETS Solution Center: 713 345 4745 (Houston) or 402 398 7454 (Omaha) Please DO NOT reply to this address as it is not a monitored system mailbox.\",\n",
       " \"You have received this message because someone has attempted to send you an e-mail from outside of Enron with an attachment type that Enron does not allow into our messaging environment. Your e-mail has been quarantined and is being held at the MailSweeper server. Sender: daphneco64.net Date: Fri, 28 Dec 2001 09:33:03 -0600 Subject: Traditional Wedding Cost Responsibilities Attachment Type: Scenarios URL Catcher: A filename matching the file mask was detected: 'traditional wedding cost responsibilities.url'. If the intended email is of valid business-related content and you believe it requires Enron resources to retrieve it, you may call your Help Desk and ask to have it released from quarantine and delivered to your e-mail Inbox. Your message will be scanned and checked for viruses prior to requested release. If it contains a virus or there is reason to suspect it is malicious code, it will not be delivered. North American Resolution Center: 713 853 1411 European Resolution Center: 0044 207 78 36777 EES Help Desk: 888 853 9797 ETS Solution Center: 713 345 4745 (Houston) or 402 398 7454 (Omaha) Please DO NOT reply to this address as it is not a monitored system mailbox.\",\n",
       " \"You have received this message because someone has attempted to send you an e-mail from outside of Enron with an attachment type that Enron does not allow into our messaging environment. Your e-mail has been quarantined and is being held at the MailSweeper server. Sender: daphneco64.net Date: Fri, 28 Dec 2001 11:25:54 -0600 Subject: Just one of thousands of FREE cards and animations from Egreetings.com. Attachment Type: Scenarios URL Catcher: A filename matching the file mask was detected: 'just one of thousands of free cards and animations from egreetings.com..url'. If the intended email is of valid business-related content and you believe it requires Enron resources to retrieve it, you may call your Help Desk and ask to have it released from quarantine and delivered to your e-mail Inbox. Your message will be scanned and checked for viruses prior to requested release. If it contains a virus or there is reason to suspect it is malicious code, it will not be delivered. North American Resolution Center: 713 853 1411 European Resolution Center: 0044 207 78 36777 EES Help Desk: 888 853 9797 ETS Solution Center: 713 345 4745 (Houston) or 402 398 7454 (Omaha) Please DO NOT reply to this address as it is not a monitored system mailbox.\",\n",
       " \"You have received this message because someone has attempted to send you an e-mail from outside of Enron with an attachment type that Enron does not allow into our messaging environment. Your e-mail has been quarantined and is being held at the MailSweeper server. Sender: lwbthemarine.net Date: Wed, 30 Jan 2002 08:12:44 -0600 Subject: weather.com - Local Weather - Fairfield, TX (75840) Attachment Type: Scenarios URL Catcher: A filename matching the file mask was detected: 'weather.com - local weather - fairfield, tx (75840).url'. If the intended email is of valid business-related content and you believe it requires Enron resources to retrieve it, you may call your Help Desk and ask to have it released from quarantine and delivered to your e-mail Inbox. Your message will be scanned and checked for viruses prior to requested release. If it contains a virus or there is reason to suspect it is malicious code, it will not be delivered. North American Resolution Center: 713 853 1411 European Resolution Center: 0044 207 78 36777 EES Help Desk: 888 853 9797 ETS Solution Center: 713 345 4745 (Houston) or 402 398 7454 (Omaha) Please DO NOT reply to this address as it is not a monitored system mailbox.\",\n",
       " \"You have received this message because someone has attempted to send you an e-mail from outside of Enron with an attachment type that Enron does not allow into our messaging environment. Your e-mail has been quarantined and is being held at the MailSweeper server. Sender: daphneco64.net Date: Sat, 26 Jan 2002 07:53:26 -0600 Subject: OpinionJournal - Featured Article Attachment Type: Scenarios URL Catcher: A filename matching the file mask was detected: 'opinionjournal - featured article.url'. If the intended email is of valid business-related content and you believe it requires Enron resources to retrieve it, you may call your Help Desk and ask to have it released from quarantine and delivered to your e-mail Inbox. Your message will be scanned and checked for viruses prior to requested release. If it contains a virus or there is reason to suspect it is malicious code, it will not be delivered. North American Resolution Center: 713 853 1411 European Resolution Center: 0044 207 78 36777 EES Help Desk: 888 853 9797 ETS Solution Center: 713 345 4745 (Houston) or 402 398 7454 (Omaha) Please DO NOT reply to this address as it is not a monitored system mailbox.\",\n",
       " \"You have received this message because someone has attempted to send you an e-mail from outside of Enron with an attachment type that Enron does not allow into our messaging environment. Your e-mail has been quarantined and is being held at the MailSweeper server. Sender: daphneco64.net Date: Sat, 26 Jan 2002 07:47:28 -0600 Subject: Enron for Dummies Attachment Type: Scenarios URL Catcher: A filename matching the file mask was detected: 'enron for dummies.url'. If the intended email is of valid business-related content and you believe it requires Enron resources to retrieve it, you may call your Help Desk and ask to have it released from quarantine and delivered to your e-mail Inbox. Your message will be scanned and checked for viruses prior to requested release. If it contains a virus or there is reason to suspect it is malicious code, it will not be delivered. North American Resolution Center: 713 853 1411 European Resolution Center: 0044 207 78 36777 EES Help Desk: 888 853 9797 ETS Solution Center: 713 345 4745 (Houston) or 402 398 7454 (Omaha) Please DO NOT reply to this address as it is not a monitored system mailbox.\",\n",
       " \"You have received this message because someone has attempted to send you an e-mail from outside of Enron with an attachment type that Enron does not allow into our messaging environment. Your e-mail has been quarantined and is being held at the MailSweeper server. Sender: daphneco64.net Date: Fri, 25 Jan 2002 11:03:37 -0600 Subject: Ex-Enron vice chairman found dead Attachment Type: Scenarios URL Catcher: A filename matching the file mask was detected: 'ex-enron vice chairman found dead.url'. If the intended email is of valid business-related content and you believe it requires Enron resources to retrieve it, you may call your Help Desk and ask to have it released from quarantine and delivered to your e-mail Inbox. Your message will be scanned and checked for viruses prior to requested release. If it contains a virus or there is reason to suspect it is malicious code, it will not be delivered. North American Resolution Center: 713 853 1411 European Resolution Center: 0044 207 78 36777 EES Help Desk: 888 853 9797 ETS Solution Center: 713 345 4745 (Houston) or 402 398 7454 (Omaha) Please DO NOT reply to this address as it is not a monitored system mailbox.\",\n",
       " \"You have received this message because someone has attempted to send you an e-mail from outside of Enron with an attachment type that Enron does not allow into our messaging environment. Your e-mail has been quarantined and is being held at the MailSweeper server. Sender: Stewart.com Date: Tue, 5 Feb 2002 16:39:37 -0600 Subject: Why the security gaurds are smiling at the airport Attachment Type: Scenarios EXE Catcher: A filename matching the file mask was detected: 'airportscanner.exe'. If the intended email is of valid business-related content and you believe it requires Enron resources to retrieve it, you may call your Help Desk and ask to have it released from quarantine and delivered to your e-mail Inbox. Your message will be scanned and checked for viruses prior to requested release. If it contains a virus or there is reason to suspect it is malicious code, it will not be delivered. North American Resolution Center: 713 853 1411 European Resolution Center: 0044 207 78 36777 EES Help Desk: 888 853 9797 ETS Solution Center: 713 345 4745 (Houston) or 402 398 7454 (Omaha) Please DO NOT reply to this address as it is not a monitored system mailbox.\",\n",
       " \"You have received this message because someone has attempted to send you an e-mail from outside of Enron with an attachment type that Enron does not allow into our messaging environment. Your e-mail has been quarantined and is being held at the MailSweeper server. Sender: Date: Thu, 27 Dec 2001 18:59:02 -0600 (CST) Subject: please read Attachment Type: Scenarios EXE Catcher: A filename matching the file mask was detected: 'sample.exe'. If the intended email is of valid business-related content and you believe it requires Enron resources to retrieve it, you may call your Help Desk and ask to have it released from quarantine and delivered to your e-mail Inbox. Your message will be scanned and checked for viruses prior to requested release. If it contains a virus or there is reason to suspect it is malicious code, it will not be delivered. North American Resolution Center: 713 853 1411 European Resolution Center: 0044 207 78 36777 EES Help Desk: 888 853 9797 ETS Solution Center: 713 345 4745 (Houston) or 402 398 7454 (Omaha) Please DO NOT reply to this address as it is not a monitored system mailbox.\",\n",
       " \"You have received this message because someone has attempted to send you an e-mail from outside of Enron with an attachment type that Enron does not allow into our messaging environment. Your e-mail has been quarantined and is being held at the MailSweeper server. Sender: Date: Mon, 17 Dec 2001 17:50:17 -0600 (CST) Subject: AEP forward Attachment Type: Scenarios EXE Catcher: A filename matching the file mask was detected: 'sample.exe'. If the intended email is of valid business-related content and you believe it requires Enron resources to retrieve it, you may call your Help Desk and ask to have it released from quarantine and delivered to your e-mail Inbox. Your message will be scanned and checked for viruses prior to requested release. If it contains a virus or there is reason to suspect it is malicious code, it will not be delivered. North American Resolution Center: 713 853 1411 European Resolution Center: 0044 207 78 36777 EES Help Desk: 888 853 9797 ETS Solution Center: 713 345 4745 (Houston) or 402 398 7454 (Omaha) Please DO NOT reply to this address as it is not a monitored system mailbox.\"]"
      ]
     },
     "execution_count": 168,
     "metadata": {},
     "output_type": "execute_result"
    },
    {
     "name": "stdout",
     "output_type": "stream",
     "text": [
      "\n",
      "\n",
      "11 messages in cluster 14.\n"
     ]
    },
    {
     "data": {
      "text/plain": [
       "['Please find the interview packet for the above-referenced candidate. The interview will occur on Monday January 8, 2001. Please print all documents for your reference. A hardcopy of his resume will be delivered by hand. If you have any questions, or conflicts of schedule, please do not hesitate to contact me. Shawn Grady 58701',\n",
       " 'Please find the interview packet for the above-referenced candidate. The interview will occur on Wednesday January 10, 2001. Please print all documents for your reference. A hardcopy of the resume will be delivered via runner. If you have any questions, or conflicts of schedule, please do not hesitate to contact me. Shawn Grady 58701',\n",
       " 'Please find the interview packet for the above-referenced candidate. The interview will occur on Thursday January 11, 2001. Please print all documents for your reference. A hardcopy of the resume will be delivered via runner. If you have any questions, or conflicts of schedule, please do not hesitate to call me. Shawn Grady 58701',\n",
       " 'Please find the interview packet for the above-referenced candidate. The interview will occur on Thursday January 11, 2001. Please print all documents for your reference. A hardcopy of the resume will be delivered via runner. If you have any questions, or conflicts of schedule, please do not hesitate to call me. Shawn Grady 713-345-8701',\n",
       " 'Please find the interview packets for the above-referenced candidates. The interviews will occur on Tuesday January 16, 2001. Please print all documents for your reference. Hardcopies of their resumes will be delivered via runner. If you have any questions, or conflicts of schedule, please do not hesitate to contact me. Shawn Grady 58701',\n",
       " 'Please find the interview packet for the above-referenced candidate. The interview will occur on Wednesday January 17, 2001. Please print all documents for your reference. A hardcopy of the resume will be delivered via runner. If you have any questions, or conflicts of schedule, please do not hesitate to contact me. Shawn Grady 58701',\n",
       " \"Hello EJOT, This is just a reminder about Thursday's (06/15/00) conference call regarding the weekly Japan update at 6:00 p.m. Houston time. Please forward your updates to Joe Hirl and please copy me. The call will be held in Conference room 21C2 for Houston participants. Domestic: 1-800-991-9019 Intern'l 847-619-8039 Code: 5764488# Also, please see last week's consolidated report and I do apologize for the delay. Thanks,\",\n",
       " \"Hello EJOT, This is just a reminder about Thursday's (06/22/00) conference call regarding the weekly Japan update at 6:00 p.m. Houston time. Please forward your updates to Joe Hirl and please copy me. The call will be held in Conference room 21C2 for Houston participants. Domestic: 1-800-991-9019 Intern'l 847-619-8039 Code: 5764488# Also please see last week's consolidated report: Thanks, Eddie!\",\n",
       " \"Hello EJOT- This is just a reminder about Thursday's (06/29/00) conference call regarding the weekly Japan update at 6:00 p.m. Houston time. Please forward your updates to Joe Hirl and please copy me. The call will be held in Conference room 21C2 for Houston participants. Domestic: 1-800-991-9019 Intern'l 847-619-8039 Code: 5764488# Note: If you must take another call while the conference is going on please hang up, otherwise, if you put the call on hold everyone will hear the backgroud song played while holding. Also, please see attacehd last week's consolidated report and our latest contact list.\",\n",
       " \"Hello everyone, This is just a reminder about today's conference call regarding the weekly Japan update at 4:00 p.m. Houston time. Please forward your updates to Joe Hirl and please copy me. The call will be held in Conference room 21C2. Thanks, Eddie Robles Domestic number: 800-991-9019 International number: 847-619-8039 Passcode: 5057851\",\n",
       " \"Hello everyone, This is just a reminder about Thursday's (05/04/00) conference call regarding the weekly Japan update at 6:00 p.m. Houston time. Please forward your updates to Joe Hirl and please copy me. The call will be held in Conference room 21C2 for Houston participants. Domestic: 1-800-991-9019 Intern'l 847-619-8039 Code: 5764488# Also please provide me with your work, mobile, and home phone numbers as we are in the process of putting together a contact list for everyone involved in this project. Lastly please include your email address and you Assistant's name and number to make it easier to get in contact with you. Thanks, Eddie\"]"
      ]
     },
     "execution_count": 168,
     "metadata": {},
     "output_type": "execute_result"
    },
    {
     "name": "stdout",
     "output_type": "stream",
     "text": [
      "\n",
      "\n",
      "10 messages in cluster 13.\n"
     ]
    },
    {
     "data": {
      "text/plain": [
       "['Your mailbox has exceeded one or more size limits set by your administrator. Your mailbox size is 112191 KB. Mailbox size limits: You will receive a warning when your mailbox reaches 75000 KB. You cannot send mail when your mailbox reaches 100000 KB.You may not be able to send or receive new mail until you reduce your mailbox size. To make more space available, delete any items that you are no longer using or move them to your personal folder file (.pst). Items in all of your mailbox folders including the Deleted Items and Sent Items folders count against your size limit. You must empty the Deleted Items folder after deleting items or the space will not be freed. See client Help for more information.',\n",
       " 'Your mailbox has exceeded one or more size limits set by your administrator. Your mailbox size is 112231 KB. Mailbox size limits: You will receive a warning when your mailbox reaches 75000 KB. You cannot send mail when your mailbox reaches 100000 KB.You may not be able to send or receive new mail until you reduce your mailbox size. To make more space available, delete any items that you are no longer using or move them to your personal folder file (.pst). Items in all of your mailbox folders including the Deleted Items and Sent Items folders count against your size limit. You must empty the Deleted Items folder after deleting items or the space will not be freed. See client Help for more information.',\n",
       " 'Your mailbox has exceeded one or more size limits set by your administrator. Your mailbox size is 112312 KB. Mailbox size limits: You will receive a warning when your mailbox reaches 75000 KB. You cannot send mail when your mailbox reaches 100000 KB.You may not be able to send or receive new mail until you reduce your mailbox size. To make more space available, delete any items that you are no longer using or move them to your personal folder file (.pst). Items in all of your mailbox folders including the Deleted Items and Sent Items folders count against your size limit. You must empty the Deleted Items folder after deleting items or the space will not be freed. See client Help for more information.',\n",
       " 'Your mailbox has exceeded one or more size limits set by your administrator. Your mailbox size is 112347 KB. Mailbox size limits: You will receive a warning when your mailbox reaches 75000 KB. You cannot send mail when your mailbox reaches 100000 KB.You may not be able to send or receive new mail until you reduce your mailbox size. To make more space available, delete any items that you are no longer using or move them to your personal folder file (.pst). Items in all of your mailbox folders including the Deleted Items and Sent Items folders count against your size limit. You must empty the Deleted Items folder after deleting items or the space will not be freed. See client Help for more information.',\n",
       " 'Your mailbox has exceeded one or more size limits set by your administrator. Your mailbox size is 112696 KB. Mailbox size limits: You will receive a warning when your mailbox reaches 75000 KB. You cannot send mail when your mailbox reaches 100000 KB.You may not be able to send or receive new mail until you reduce your mailbox size. To make more space available, delete any items that you are no longer using or move them to your personal folder file (.pst). Items in all of your mailbox folders including the Deleted Items and Sent Items folders count against your size limit. You must empty the Deleted Items folder after deleting items or the space will not be freed. See client Help for more information.',\n",
       " 'Your mailbox has exceeded one or more size limits set by your administrator. Your mailbox size is 112845 KB. Mailbox size limits: You will receive a warning when your mailbox reaches 75000 KB. You cannot send mail when your mailbox reaches 100000 KB.You may not be able to send or receive new mail until you reduce your mailbox size. To make more space available, delete any items that you are no longer using or move them to your personal folder file (.pst). Items in all of your mailbox folders including the Deleted Items and Sent Items folders count against your size limit. You must empty the Deleted Items folder after deleting items or the space will not be freed. See client Help for more information.',\n",
       " 'Your mailbox has exceeded one or more size limits set by your administrator. Your mailbox size is 113195 KB. Mailbox size limits: You will receive a warning when your mailbox reaches 75000 KB. You cannot send mail when your mailbox reaches 100000 KB.You may not be able to send or receive new mail until you reduce your mailbox size. To make more space available, delete any items that you are no longer using or move them to your personal folder file (.pst). Items in all of your mailbox folders including the Deleted Items and Sent Items folders count against your size limit. You must empty the Deleted Items folder after deleting items or the space will not be freed. See client Help for more information.',\n",
       " 'Your mailbox has exceeded one or more size limits set by your administrator. Your mailbox size is 113237 KB. Mailbox size limits: You will receive a warning when your mailbox reaches 75000 KB. You cannot send mail when your mailbox reaches 100000 KB.You may not be able to send or receive new mail until you reduce your mailbox size. To make more space available, delete any items that you are no longer using or move them to your personal folder file (.pst). Items in all of your mailbox folders including the Deleted Items and Sent Items folders count against your size limit. You must empty the Deleted Items folder after deleting items or the space will not be freed. See client Help for more information.',\n",
       " 'Your mailbox has exceeded one or more size limits set by your administrator. Your mailbox size is 113323 KB. Mailbox size limits: You will receive a warning when your mailbox reaches 75000 KB. You cannot send mail when your mailbox reaches 100000 KB.You may not be able to send or receive new mail until you reduce your mailbox size. To make more space available, delete any items that you are no longer using or move them to your personal folder file (.pst). Items in all of your mailbox folders including the Deleted Items and Sent Items folders count against your size limit. You must empty the Deleted Items folder after deleting items or the space will not be freed. See client Help for more information.',\n",
       " 'Your mailbox has exceeded one or more size limits set by your administrator. Your mailbox size is 113439 KB. Mailbox size limits: You will receive a warning when your mailbox reaches 75000 KB. You cannot send mail when your mailbox reaches 100000 KB.You may not be able to send or receive new mail until you reduce your mailbox size. To make more space available, delete any items that you are no longer using or move them to your personal folder file (.pst). Items in all of your mailbox folders including the Deleted Items and Sent Items folders count against your size limit. You must empty the Deleted Items folder after deleting items or the space will not be freed. See client Help for more information.']"
      ]
     },
     "execution_count": 168,
     "metadata": {},
     "output_type": "execute_result"
    }
   ],
   "source": [
    "import random\n",
    "\n",
    "for i in db_clusters.unique():\n",
    "    c = get_emails_in_cluster(i)\n",
    "    print('\\n')\n",
    "    print('{} messages in cluster {}.'.format(len(c), i))\n",
    "    if len(c) < 15:\n",
    "        c\n",
    "    else:\n",
    "        #randomly sample 15 from list\n",
    "        [c[i] for i in sorted(random.sample(range(len(c)), 15))]"
   ]
  },
  {
   "cell_type": "code",
   "execution_count": 172,
   "metadata": {},
   "outputs": [
    {
     "data": {
      "text/plain": [
       "3933    system.administrator@enron.com\n",
       "3934    system.administrator@enron.com\n",
       "3938    system.administrator@enron.com\n",
       "3939    system.administrator@enron.com\n",
       "3940    system.administrator@enron.com\n",
       "3943    system.administrator@enron.com\n",
       "3944    system.administrator@enron.com\n",
       "3946    system.administrator@enron.com\n",
       "3947    system.administrator@enron.com\n",
       "3948    system.administrator@enron.com\n",
       "Name: sender, dtype: object"
      ]
     },
     "execution_count": 172,
     "metadata": {},
     "output_type": "execute_result"
    }
   ],
   "source": [
    "text_features[text_features['cluster'] == 13]['sender']"
   ]
  },
  {
   "cell_type": "markdown",
   "metadata": {},
   "source": [
    "## Sentiments over time"
   ]
  },
  {
   "cell_type": "code",
   "execution_count": 88,
   "metadata": {},
   "outputs": [],
   "source": [
    "from matplotlib.dates import date2num"
   ]
  },
  {
   "cell_type": "code",
   "execution_count": 117,
   "metadata": {},
   "outputs": [
    {
     "data": {
      "image/png": "[encoded data removed]",
      "text/plain": [
       "<matplotlib.figure.Figure at 0x154b7a358>"
      ]
     },
     "metadata": {},
     "output_type": "display_data"
    }
   ],
   "source": [
    "x_axis_dates = date2num(text_features['date'].tolist())\n",
    "\n",
    "col = 'compound'\n",
    "fig, ax = plt.subplots();\n",
    "fig.set_size_inches(10, 10)\n",
    "ax.plot_date(x_axis_dates, text_features[col], markersize = 1, c = 'gray');\n",
    "plt.gcf().autofmt_xdate();\n",
    "ax.set_xlim([dt(1999, 12, 1), dt(2002, 2, 28)]);"
   ]
  },
  {
   "cell_type": "markdown",
   "metadata": {},
   "source": [
    "## Cosine similarity"
   ]
  },
  {
   "cell_type": "code",
   "execution_count": 137,
   "metadata": {},
   "outputs": [],
   "source": [
    "from sklearn.metrics.pairwise import cosine_similarity"
   ]
  },
  {
   "cell_type": "code",
   "execution_count": 147,
   "metadata": {},
   "outputs": [],
   "source": [
    "for_similarity = text_features.drop(to_drop, axis = 1)"
   ]
  },
  {
   "cell_type": "code",
   "execution_count": 148,
   "metadata": {},
   "outputs": [],
   "source": [
    "cluster_vector = for_similarity[for_similarity['cluster'] == 8].mean().as_matrix()\n",
    "test_vector = for_similarity[for_similarity['cluster'] == 8].iloc[0].as_matrix()"
   ]
  },
  {
   "cell_type": "code",
   "execution_count": 149,
   "metadata": {},
   "outputs": [
    {
     "data": {
      "text/plain": [
       "array([[ 0.99180336]])"
      ]
     },
     "execution_count": 149,
     "metadata": {},
     "output_type": "execute_result"
    }
   ],
   "source": [
    "cosine_similarity(cluster_vector.reshape(1, -1), test_vector.reshape(1, -1))"
   ]
  },
  {
   "cell_type": "code",
   "execution_count": null,
   "metadata": {},
   "outputs": [],
   "source": []
  },
  {
   "cell_type": "markdown",
   "metadata": {},
   "source": [
    "#### Visualization of clusters with t-SNE"
   ]
  },
  {
   "cell_type": "code",
   "execution_count": 66,
   "metadata": {},
   "outputs": [],
   "source": [
    "from sklearn.manifold import TSNE\n",
    "import generate_random_color as gen"
   ]
  },
  {
   "cell_type": "code",
   "execution_count": 63,
   "metadata": {},
   "outputs": [],
   "source": [
    "learning_rates = [100, 250, 500, 750, 1000]\n",
    "fitted_tsnes = []\n",
    "\n",
    "for rate in learning_rates:\n",
    "    tsne = TSNE(learning_rate = rate)\n",
    "    fitted_tsnes.append(tsne.fit_transform(X))"
   ]
  },
  {
   "cell_type": "code",
   "execution_count": 73,
   "metadata": {},
   "outputs": [],
   "source": [
    "colors = []\n",
    "for i in range(db_clusters.nunique()):\n",
    "    colors.append(gen.generate_new_color(colors, pastel_factor = 0.9))"
   ]
  },
  {
   "cell_type": "code",
   "execution_count": 74,
   "metadata": {},
   "outputs": [],
   "source": [
    "#save colors and t-SNE models\n",
    "joblib.dump(fitted_tsnes, '11-fitted_tsnes.pkl');\n",
    "joblib.dump(colors, '11-colors_for_tsne.pkl');"
   ]
  },
  {
   "cell_type": "code",
   "execution_count": 122,
   "metadata": {},
   "outputs": [
    {
     "data": {
      "image/png": "[encoded data removed]",
      "text/plain": [
       "<matplotlib.figure.Figure at 0x1651031d0>"
      ]
     },
     "metadata": {},
     "output_type": "display_data"
    }
   ],
   "source": [
    "#for i in range(len(fitted_tsnes)):\n",
    "#use learning_rate = 1000\n",
    "tsne_df = pd.DataFrame(fitted_tsnes[-1], columns = ['dimension 1', 'dimension 2'])\n",
    "tsne_df['cluster'] = db_clusters\n",
    "\n",
    "ax = sns.lmplot('dimension 1', 'dimension 2', tsne_df,\n",
    "                hue = 'cluster',\n",
    "                fit_reg = False, palette = colors, \n",
    "                size = 8, scatter_kws = {'alpha':0.9, 's':2})\n",
    "_ = ax.set(title = 'Visualizing DBSCAN clustered Enron emails using t-SNE')\n",
    "\n",
    "#plt.savefig('11-tsne.png')"
   ]
  },
  {
   "cell_type": "markdown",
   "metadata": {},
   "source": [
    "### Analyzing emails per cluster"
   ]
  },
  {
   "cell_type": "code",
   "execution_count": 123,
   "metadata": {},
   "outputs": [],
   "source": [
    "text_features['cluster'] = db_clusters"
   ]
  },
  {
   "cell_type": "code",
   "execution_count": 125,
   "metadata": {},
   "outputs": [],
   "source": [
    "#joblib.dump(text_features, '11-text_features.pkl');"
   ]
  },
  {
   "cell_type": "code",
   "execution_count": 150,
   "metadata": {},
   "outputs": [],
   "source": [
    "groupby_cluster = text_features.groupby('cluster')"
   ]
  },
  {
   "cell_type": "code",
   "execution_count": 129,
   "metadata": {},
   "outputs": [
    {
     "data": {
      "text/plain": [
       "unknown          1936\n",
       "group            1665\n",
       "female           1309\n",
       "male             1218\n",
       "mostly_female      87\n",
       "mostly_male        39\n",
       "andy                8\n",
       "Name: receive_gender, dtype: int64"
      ]
     },
     "execution_count": 129,
     "metadata": {},
     "output_type": "execute_result"
    }
   ],
   "source": [
    "text_features['receive_gender'].value_counts()"
   ]
  },
  {
   "cell_type": "code",
   "execution_count": 133,
   "metadata": {},
   "outputs": [
    {
     "data": {
      "text/html": [
       "<div>\n",
       "<style>\n",
       "    .dataframe thead tr:only-child th {\n",
       "        text-align: right;\n",
       "    }\n",
       "\n",
       "    .dataframe thead th {\n",
       "        text-align: left;\n",
       "    }\n",
       "\n",
       "    .dataframe tbody tr th {\n",
       "        vertical-align: top;\n",
       "    }\n",
       "</style>\n",
       "<table border=\"1\" class=\"dataframe\">\n",
       "  <thead>\n",
       "    <tr style=\"text-align: right;\">\n",
       "      <th>receive_gender</th>\n",
       "      <th>andy</th>\n",
       "      <th>female</th>\n",
       "      <th>group</th>\n",
       "      <th>male</th>\n",
       "      <th>mostly_female</th>\n",
       "      <th>mostly_male</th>\n",
       "      <th>unknown</th>\n",
       "    </tr>\n",
       "    <tr>\n",
       "      <th>cluster</th>\n",
       "      <th></th>\n",
       "      <th></th>\n",
       "      <th></th>\n",
       "      <th></th>\n",
       "      <th></th>\n",
       "      <th></th>\n",
       "      <th></th>\n",
       "    </tr>\n",
       "  </thead>\n",
       "  <tbody>\n",
       "    <tr>\n",
       "      <th>-1</th>\n",
       "      <td>5</td>\n",
       "      <td>673</td>\n",
       "      <td>1062</td>\n",
       "      <td>548</td>\n",
       "      <td>46</td>\n",
       "      <td>21</td>\n",
       "      <td>975</td>\n",
       "    </tr>\n",
       "    <tr>\n",
       "      <th>0</th>\n",
       "      <td>2</td>\n",
       "      <td>315</td>\n",
       "      <td>335</td>\n",
       "      <td>398</td>\n",
       "      <td>24</td>\n",
       "      <td>12</td>\n",
       "      <td>537</td>\n",
       "    </tr>\n",
       "    <tr>\n",
       "      <th>1</th>\n",
       "      <td>0</td>\n",
       "      <td>39</td>\n",
       "      <td>23</td>\n",
       "      <td>56</td>\n",
       "      <td>1</td>\n",
       "      <td>0</td>\n",
       "      <td>101</td>\n",
       "    </tr>\n",
       "    <tr>\n",
       "      <th>2</th>\n",
       "      <td>1</td>\n",
       "      <td>227</td>\n",
       "      <td>83</td>\n",
       "      <td>169</td>\n",
       "      <td>14</td>\n",
       "      <td>6</td>\n",
       "      <td>198</td>\n",
       "    </tr>\n",
       "    <tr>\n",
       "      <th>3</th>\n",
       "      <td>0</td>\n",
       "      <td>4</td>\n",
       "      <td>8</td>\n",
       "      <td>2</td>\n",
       "      <td>0</td>\n",
       "      <td>0</td>\n",
       "      <td>7</td>\n",
       "    </tr>\n",
       "    <tr>\n",
       "      <th>4</th>\n",
       "      <td>0</td>\n",
       "      <td>10</td>\n",
       "      <td>5</td>\n",
       "      <td>15</td>\n",
       "      <td>0</td>\n",
       "      <td>0</td>\n",
       "      <td>18</td>\n",
       "    </tr>\n",
       "    <tr>\n",
       "      <th>5</th>\n",
       "      <td>0</td>\n",
       "      <td>0</td>\n",
       "      <td>15</td>\n",
       "      <td>1</td>\n",
       "      <td>0</td>\n",
       "      <td>0</td>\n",
       "      <td>22</td>\n",
       "    </tr>\n",
       "    <tr>\n",
       "      <th>6</th>\n",
       "      <td>0</td>\n",
       "      <td>16</td>\n",
       "      <td>1</td>\n",
       "      <td>5</td>\n",
       "      <td>1</td>\n",
       "      <td>0</td>\n",
       "      <td>23</td>\n",
       "    </tr>\n",
       "    <tr>\n",
       "      <th>7</th>\n",
       "      <td>0</td>\n",
       "      <td>8</td>\n",
       "      <td>4</td>\n",
       "      <td>4</td>\n",
       "      <td>1</td>\n",
       "      <td>0</td>\n",
       "      <td>5</td>\n",
       "    </tr>\n",
       "    <tr>\n",
       "      <th>8</th>\n",
       "      <td>0</td>\n",
       "      <td>1</td>\n",
       "      <td>0</td>\n",
       "      <td>4</td>\n",
       "      <td>0</td>\n",
       "      <td>0</td>\n",
       "      <td>5</td>\n",
       "    </tr>\n",
       "    <tr>\n",
       "      <th>9</th>\n",
       "      <td>0</td>\n",
       "      <td>0</td>\n",
       "      <td>3</td>\n",
       "      <td>0</td>\n",
       "      <td>0</td>\n",
       "      <td>0</td>\n",
       "      <td>7</td>\n",
       "    </tr>\n",
       "    <tr>\n",
       "      <th>10</th>\n",
       "      <td>0</td>\n",
       "      <td>16</td>\n",
       "      <td>47</td>\n",
       "      <td>16</td>\n",
       "      <td>0</td>\n",
       "      <td>0</td>\n",
       "      <td>13</td>\n",
       "    </tr>\n",
       "    <tr>\n",
       "      <th>11</th>\n",
       "      <td>0</td>\n",
       "      <td>0</td>\n",
       "      <td>55</td>\n",
       "      <td>0</td>\n",
       "      <td>0</td>\n",
       "      <td>0</td>\n",
       "      <td>0</td>\n",
       "    </tr>\n",
       "    <tr>\n",
       "      <th>12</th>\n",
       "      <td>0</td>\n",
       "      <td>0</td>\n",
       "      <td>3</td>\n",
       "      <td>0</td>\n",
       "      <td>0</td>\n",
       "      <td>0</td>\n",
       "      <td>15</td>\n",
       "    </tr>\n",
       "    <tr>\n",
       "      <th>13</th>\n",
       "      <td>0</td>\n",
       "      <td>0</td>\n",
       "      <td>0</td>\n",
       "      <td>0</td>\n",
       "      <td>0</td>\n",
       "      <td>0</td>\n",
       "      <td>10</td>\n",
       "    </tr>\n",
       "    <tr>\n",
       "      <th>14</th>\n",
       "      <td>0</td>\n",
       "      <td>0</td>\n",
       "      <td>11</td>\n",
       "      <td>0</td>\n",
       "      <td>0</td>\n",
       "      <td>0</td>\n",
       "      <td>0</td>\n",
       "    </tr>\n",
       "    <tr>\n",
       "      <th>15</th>\n",
       "      <td>0</td>\n",
       "      <td>0</td>\n",
       "      <td>10</td>\n",
       "      <td>0</td>\n",
       "      <td>0</td>\n",
       "      <td>0</td>\n",
       "      <td>0</td>\n",
       "    </tr>\n",
       "  </tbody>\n",
       "</table>\n",
       "</div>"
      ],
      "text/plain": [
       "receive_gender  andy  female  group  male  mostly_female  mostly_male  unknown\n",
       "cluster                                                                       \n",
       "-1                 5     673   1062   548             46           21      975\n",
       " 0                 2     315    335   398             24           12      537\n",
       " 1                 0      39     23    56              1            0      101\n",
       " 2                 1     227     83   169             14            6      198\n",
       " 3                 0       4      8     2              0            0        7\n",
       " 4                 0      10      5    15              0            0       18\n",
       " 5                 0       0     15     1              0            0       22\n",
       " 6                 0      16      1     5              1            0       23\n",
       " 7                 0       8      4     4              1            0        5\n",
       " 8                 0       1      0     4              0            0        5\n",
       " 9                 0       0      3     0              0            0        7\n",
       " 10                0      16     47    16              0            0       13\n",
       " 11                0       0     55     0              0            0        0\n",
       " 12                0       0      3     0              0            0       15\n",
       " 13                0       0      0     0              0            0       10\n",
       " 14                0       0     11     0              0            0        0\n",
       " 15                0       0     10     0              0            0        0"
      ]
     },
     "execution_count": 133,
     "metadata": {},
     "output_type": "execute_result"
    }
   ],
   "source": [
    "pd.crosstab(text_features['cluster'], text_features['receive_gender'])"
   ]
  },
  {
   "cell_type": "code",
   "execution_count": 151,
   "metadata": {},
   "outputs": [
    {
     "data": {
      "text/plain": [
       "male             3109\n",
       "female           1627\n",
       "unknown          1409\n",
       "mostly_female      98\n",
       "mostly_male        19\n",
       "Name: send_gender, dtype: int64"
      ]
     },
     "execution_count": 151,
     "metadata": {},
     "output_type": "execute_result"
    }
   ],
   "source": [
    "text_features['send_gender'].value_counts()"
   ]
  },
  {
   "cell_type": "code",
   "execution_count": 132,
   "metadata": {},
   "outputs": [
    {
     "data": {
      "text/html": [
       "<div>\n",
       "<style>\n",
       "    .dataframe thead tr:only-child th {\n",
       "        text-align: right;\n",
       "    }\n",
       "\n",
       "    .dataframe thead th {\n",
       "        text-align: left;\n",
       "    }\n",
       "\n",
       "    .dataframe tbody tr th {\n",
       "        vertical-align: top;\n",
       "    }\n",
       "</style>\n",
       "<table border=\"1\" class=\"dataframe\">\n",
       "  <thead>\n",
       "    <tr style=\"text-align: right;\">\n",
       "      <th>send_gender</th>\n",
       "      <th>female</th>\n",
       "      <th>male</th>\n",
       "      <th>mostly_female</th>\n",
       "      <th>mostly_male</th>\n",
       "      <th>unknown</th>\n",
       "    </tr>\n",
       "    <tr>\n",
       "      <th>cluster</th>\n",
       "      <th></th>\n",
       "      <th></th>\n",
       "      <th></th>\n",
       "      <th></th>\n",
       "      <th></th>\n",
       "    </tr>\n",
       "  </thead>\n",
       "  <tbody>\n",
       "    <tr>\n",
       "      <th>-1</th>\n",
       "      <td>1110</td>\n",
       "      <td>1459</td>\n",
       "      <td>57</td>\n",
       "      <td>7</td>\n",
       "      <td>697</td>\n",
       "    </tr>\n",
       "    <tr>\n",
       "      <th>0</th>\n",
       "      <td>205</td>\n",
       "      <td>1023</td>\n",
       "      <td>17</td>\n",
       "      <td>2</td>\n",
       "      <td>376</td>\n",
       "    </tr>\n",
       "    <tr>\n",
       "      <th>1</th>\n",
       "      <td>16</td>\n",
       "      <td>134</td>\n",
       "      <td>1</td>\n",
       "      <td>0</td>\n",
       "      <td>69</td>\n",
       "    </tr>\n",
       "    <tr>\n",
       "      <th>2</th>\n",
       "      <td>194</td>\n",
       "      <td>358</td>\n",
       "      <td>10</td>\n",
       "      <td>3</td>\n",
       "      <td>133</td>\n",
       "    </tr>\n",
       "    <tr>\n",
       "      <th>3</th>\n",
       "      <td>2</td>\n",
       "      <td>15</td>\n",
       "      <td>0</td>\n",
       "      <td>0</td>\n",
       "      <td>4</td>\n",
       "    </tr>\n",
       "    <tr>\n",
       "      <th>4</th>\n",
       "      <td>7</td>\n",
       "      <td>21</td>\n",
       "      <td>0</td>\n",
       "      <td>0</td>\n",
       "      <td>20</td>\n",
       "    </tr>\n",
       "    <tr>\n",
       "      <th>5</th>\n",
       "      <td>0</td>\n",
       "      <td>1</td>\n",
       "      <td>0</td>\n",
       "      <td>0</td>\n",
       "      <td>37</td>\n",
       "    </tr>\n",
       "    <tr>\n",
       "      <th>6</th>\n",
       "      <td>1</td>\n",
       "      <td>32</td>\n",
       "      <td>0</td>\n",
       "      <td>0</td>\n",
       "      <td>13</td>\n",
       "    </tr>\n",
       "    <tr>\n",
       "      <th>7</th>\n",
       "      <td>4</td>\n",
       "      <td>13</td>\n",
       "      <td>0</td>\n",
       "      <td>0</td>\n",
       "      <td>5</td>\n",
       "    </tr>\n",
       "    <tr>\n",
       "      <th>8</th>\n",
       "      <td>0</td>\n",
       "      <td>7</td>\n",
       "      <td>0</td>\n",
       "      <td>0</td>\n",
       "      <td>3</td>\n",
       "    </tr>\n",
       "    <tr>\n",
       "      <th>9</th>\n",
       "      <td>0</td>\n",
       "      <td>0</td>\n",
       "      <td>0</td>\n",
       "      <td>0</td>\n",
       "      <td>10</td>\n",
       "    </tr>\n",
       "    <tr>\n",
       "      <th>10</th>\n",
       "      <td>46</td>\n",
       "      <td>31</td>\n",
       "      <td>5</td>\n",
       "      <td>1</td>\n",
       "      <td>9</td>\n",
       "    </tr>\n",
       "    <tr>\n",
       "      <th>11</th>\n",
       "      <td>39</td>\n",
       "      <td>3</td>\n",
       "      <td>8</td>\n",
       "      <td>0</td>\n",
       "      <td>5</td>\n",
       "    </tr>\n",
       "    <tr>\n",
       "      <th>12</th>\n",
       "      <td>0</td>\n",
       "      <td>0</td>\n",
       "      <td>0</td>\n",
       "      <td>0</td>\n",
       "      <td>18</td>\n",
       "    </tr>\n",
       "    <tr>\n",
       "      <th>13</th>\n",
       "      <td>0</td>\n",
       "      <td>0</td>\n",
       "      <td>0</td>\n",
       "      <td>0</td>\n",
       "      <td>10</td>\n",
       "    </tr>\n",
       "    <tr>\n",
       "      <th>14</th>\n",
       "      <td>0</td>\n",
       "      <td>5</td>\n",
       "      <td>0</td>\n",
       "      <td>6</td>\n",
       "      <td>0</td>\n",
       "    </tr>\n",
       "    <tr>\n",
       "      <th>15</th>\n",
       "      <td>3</td>\n",
       "      <td>7</td>\n",
       "      <td>0</td>\n",
       "      <td>0</td>\n",
       "      <td>0</td>\n",
       "    </tr>\n",
       "  </tbody>\n",
       "</table>\n",
       "</div>"
      ],
      "text/plain": [
       "send_gender  female  male  mostly_female  mostly_male  unknown\n",
       "cluster                                                       \n",
       "-1             1110  1459             57            7      697\n",
       " 0              205  1023             17            2      376\n",
       " 1               16   134              1            0       69\n",
       " 2              194   358             10            3      133\n",
       " 3                2    15              0            0        4\n",
       " 4                7    21              0            0       20\n",
       " 5                0     1              0            0       37\n",
       " 6                1    32              0            0       13\n",
       " 7                4    13              0            0        5\n",
       " 8                0     7              0            0        3\n",
       " 9                0     0              0            0       10\n",
       " 10              46    31              5            1        9\n",
       " 11              39     3              8            0        5\n",
       " 12               0     0              0            0       18\n",
       " 13               0     0              0            0       10\n",
       " 14               0     5              0            6        0\n",
       " 15               3     7              0            0        0"
      ]
     },
     "execution_count": 132,
     "metadata": {},
     "output_type": "execute_result"
    }
   ],
   "source": [
    "pd.crosstab(text_features['cluster'], text_features['send_gender'])"
   ]
  },
  {
   "cell_type": "code",
   "execution_count": 135,
   "metadata": {},
   "outputs": [
    {
     "data": {
      "text/plain": [
       "cluster\n",
       "-1     0.175228\n",
       " 0     0.009090\n",
       " 1    -0.294415\n",
       " 2     0.392327\n",
       " 3     0.182912\n",
       " 4     0.290590\n",
       " 5     0.318200\n",
       " 6     0.000000\n",
       " 7     0.000000\n",
       " 8     0.000000\n",
       " 9     0.318200\n",
       " 10    0.174739\n",
       " 11    0.350505\n",
       " 12    0.189233\n",
       " 13   -0.075963\n",
       " 14    0.206443\n",
       " 15    0.298467\n",
       "Name: compound, dtype: float64"
      ]
     },
     "execution_count": 135,
     "metadata": {},
     "output_type": "execute_result"
    }
   ],
   "source": [
    "groupby_cluster['compound'].mean()"
   ]
  },
  {
   "cell_type": "code",
   "execution_count": 78,
   "metadata": {},
   "outputs": [],
   "source": [
    "def print_email(index):\n",
    "    print('Message: ' + str(index))\n",
    "    print('From: ' + emails[index]['From'])\n",
    "    print('To: ')\n",
    "    print(emails[index]['To'])\n",
    "    print(emails[index]['parts'][0]['content'])"
   ]
  },
  {
   "cell_type": "code",
   "execution_count": 79,
   "metadata": {},
   "outputs": [],
   "source": [
    "def get_emails_in_cluster(index, labels = db_clusters, emails = email_content):\n",
    "    c_index = labels[labels == index].index\n",
    "    cluster = [emails[i] for i in c_index]\n",
    "    return cluster"
   ]
  },
  {
   "cell_type": "code",
   "execution_count": 80,
   "metadata": {},
   "outputs": [
    {
     "data": {
      "text/plain": [
       "-1     3330\n",
       " 0     1623\n",
       " 2      698\n",
       " 1      220\n",
       " 10      92\n",
       " 11      55\n",
       " 4       48\n",
       " 6       46\n",
       " 5       38\n",
       " 7       22\n",
       " 3       21\n",
       " 12      18\n",
       " 14      11\n",
       " 13      10\n",
       " 9       10\n",
       " 8       10\n",
       " 15      10\n",
       "dtype: int64"
      ]
     },
     "execution_count": 80,
     "metadata": {},
     "output_type": "execute_result"
    }
   ],
   "source": [
    "db_clusters = pd.Series(db_clusters)\n",
    "db_clusters.value_counts()"
   ]
  },
  {
   "cell_type": "code",
   "execution_count": 86,
   "metadata": {},
   "outputs": [
    {
     "data": {
      "text/plain": [
       "'So, would you recommend anywhere? B.'"
      ]
     },
     "execution_count": 86,
     "metadata": {},
     "output_type": "execute_result"
    }
   ],
   "source": [
    "get_emails_in_cluster(-1)[-1]"
   ]
  },
  {
   "cell_type": "code",
   "execution_count": 168,
   "metadata": {},
   "outputs": [
    {
     "name": "stdout",
     "output_type": "stream",
     "text": [
      "\n",
      "\n",
      "1623 messages in cluster 0.\n"
     ]
    },
    {
     "data": {
      "text/plain": [
       "['Jeff: Man is looking for money again to hold them over for yearend. Who do I need to talk to? john',\n",
       " 'stg adjusted means factoring in cost of carry and taxes stg curve looks more realistic in market areas when you add basis on.',\n",
       " 'Can you get me an itinary of events?',\n",
       " '',\n",
       " 'Here is the info.',\n",
       " \"I couldn't see the taxes.\",\n",
       " 'just let me know when you are leaving and I will meet you',\n",
       " 'http:.sun-sentinel.com0,1136,33500000000108999,00.ht ml?',\n",
       " 'corey dillon, raymont harris, and bill schroeder for faulk, let me know what you think or if you have a counter',\n",
       " '',\n",
       " 'do you want the ticket? i got this ticket from a broker - it is going for like $600 now',\n",
       " 'the card was though :0)',\n",
       " 'We should follow up next week with Brenda - given the below',\n",
       " 'I am still in need of the information regarding Global Markets Plan. (See prior E-mail)',\n",
       " 'I have not spoken with Steve Abbnat as of yet I will wait to follow your lead on this one, unless he contacts me.']"
      ]
     },
     "execution_count": 168,
     "metadata": {},
     "output_type": "execute_result"
    },
    {
     "name": "stdout",
     "output_type": "stream",
     "text": [
      "\n",
      "\n",
      "3330 messages in cluster -1.\n"
     ]
    },
    {
     "data": {
      "text/plain": [
       "[\"Frank, The implied risk created by the san juan and rockies indeces being partially set after today is the same as the risk in a long futures position. Whatever the risk was prior should not matter. Since the rest of the books are very short price this should be a large offset. If the VAR calculation does not match the company's true risk then it needs to be revised or adjusted. Phillip\",\n",
       " 'Mark: We are still on for drinks on the 19th. You have called the market very well since you started sending me updates. Unfortunately for both of us, a couple of good calls does not a soothsayer make. Thus, keep sending me your updates so I can at least get a little broader judgment of your abilities. In terms of my trading style, I take positions to make $.25-$1, not $.05. Too much noise in this market to trade differently for me.',\n",
       " 'huh?',\n",
       " 'ene: the india story. I lok at it and say we sold india. then realize we the gas, not the assets.',\n",
       " 'Not so impressed with David goldman. For a guy who has worked in derivatives for 10 years, couldnt answer some simple questions. Very poor financial derivatives knowledge even though he worked at CRT for a long time and a Lyonnais for a while. The only value I see in him is that he worked at BP for a while and might have some knowledge as to how they work.',\n",
       " \"Rob, I don't know if you can help me with this, but I need to get a new stack manager logon ID created under my name ( ebass logon). Can you help? If not please forward to the relevant party. Thanks, Eric x3-0977\",\n",
       " \"whatever you think babe - i will trust you to make plans- let's go before christmas though\",\n",
       " \"Practice is absolutely necessary to assure our victory. So we will have several practices this week (Tuesday, Wednesday, and Thursday... with no drinking and a curfew on Friday) and may cancel the scrimmage to schedule in more practices. We will have a practice tonight at 7pm at Memorial Park. Let me know if you can make it. ext. 37842. IF you were at last year's scrimmage with the aggie team, this will be at the same location. Hopefully, the lights will be on and the fields will be clear. If it is raining, the practise will be canceled.\",\n",
       " 'Eric, Thought you may be interested in trying to do this. Dave http:.bibleinayear.org/StarttoFinish_Sched.asp',\n",
       " 'so now that we have had this witty banter back and forth - is anyone coming to happy hour?',\n",
       " \"Original Message From: Graf, Dustin KWP [mailto:dgraf.com] Sent: Friday, November 16, 2001 2:51 PM To: 'Adam Turner'; 'Chad Newton'; 'e_mir.com'; 'Jeff Butler'; 'Jeff Heineman'; 'Luis Mena'; 'ryan.wisnieski.com'; 'Ryan_Franks.com'; 'Tucker, Michael'; 'vetter1975.com' Subject: FW: Aggie Song\",\n",
       " \"Hey, After speaking with Reagan in origination, we thought it would be a good idea to evaluate the status of New Transmission Agreements project. If it pleases all, let's all get together from 10:00 to 10:30 on Tuesday Jan. 29. If you have any questions or timing conflicts give me a shout. Don Baughman Wk: 3-0392 Cell: 281-787-0029\",\n",
       " 'Congratulations on your promotion to Vice President! Well deserved and a nice way to cap off your stay in London. I look forward to celebrating with you in London next week. Sally',\n",
       " 'As a follow up from our discussions on global standards, I have made some minimal changes to the operating standards and have started putting together a contact list. In the upcoming week, I will be finalizing the daily reporting formats and will send those out to you next week. In the mean time, could you please review the contact listing attached below and give Pamela Sonnier any updates. Also, please designate resources in your team who will be responsible for the reporting going forward. If you have any questions or comments please call me at 713 853 9123. Looking forward to working with you. Best regards Shona',\n",
       " \"Sally, FYI - We've had many complaints and I've had many discussions today with Dave N. and Inja. They did discover some system board that is going to be replaced tonight. Hopefully replacing the board will do it but history makes me skeptical that this is the sole cause for the slow performance.\"]"
      ]
     },
     "execution_count": 168,
     "metadata": {},
     "output_type": "execute_result"
    },
    {
     "name": "stdout",
     "output_type": "stream",
     "text": [
      "\n",
      "\n",
      "220 messages in cluster 1.\n"
     ]
    },
    {
     "data": {
      "text/plain": [
       "['Thanks, have a good time but no interest.. John',\n",
       " 'nope...your loss though',\n",
       " 'that night i had so much brain damage i couldnt function.',\n",
       " 'no not necessarily... just sick of her at the moment,',\n",
       " 'no real opinion except short vol',\n",
       " 'you make me so jealous',\n",
       " \"all I hear is that all the funds are going to get squeezed as soon as the nymex opens. fuck, i don't know, but I'm not going get long crude hoping to squeeze the funds. lost that game too many times.\",\n",
       " 'Your mom is so fat that God said \"Let there be light,\" right after she moved her fat ass.',\n",
       " 'the bitch would like you to change the 1.5 MM bid/offer to 7 MM',\n",
       " 'that is fine with me, but what about shanna, she might be a little uncomfortable with just the 3 of us',\n",
       " 'What the fuck is up with that?',\n",
       " 'you are a dick!',\n",
       " \"FYI- since you didn't take care of business\",\n",
       " 'Do we have an integration problem we need to deal with.',\n",
       " 'Sorry for the delay!']"
      ]
     },
     "execution_count": 168,
     "metadata": {},
     "output_type": "execute_result"
    },
    {
     "name": "stdout",
     "output_type": "stream",
     "text": [
      "\n",
      "\n",
      "698 messages in cluster 2.\n"
     ]
    },
    {
     "data": {
      "text/plain": [
       "[\"Jeanie, Please change Janie Tholt's ranking to a 3.\",\n",
       " 'Yea ... the later the better.',\n",
       " 'Agree completely. In that context, it looks good.',\n",
       " \"if only i didn't have a position today I'd be ok\",\n",
       " 'Does my boy Marc Findsen have a chance?',\n",
       " 'FYI',\n",
       " 'Please check the website for a new article and poll.',\n",
       " 'yep',\n",
       " 'i expected a better reply from you',\n",
       " 'Only if we play together.',\n",
       " 'due to the early game this week, please have your add/drops in the system by noon tomorrow (wednesday). thanks, eric',\n",
       " 'FYI -',\n",
       " 'Saturday was fun - it was nice I think for all of us to go to the shower together. That was a nice group of women - and fun.',\n",
       " 'fyi',\n",
       " 'FYI - information for limit extension approval of board - general context for previous Continental Power discussions.']"
      ]
     },
     "execution_count": 168,
     "metadata": {},
     "output_type": "execute_result"
    },
    {
     "name": "stdout",
     "output_type": "stream",
     "text": [
      "\n",
      "\n",
      "92 messages in cluster 10.\n"
     ]
    },
    {
     "data": {
      "text/plain": [
       "['By STEVE EVERLY - The Kansas City Star Date:  natural gas prices rose in December, traders at the New York Mercantile Exchange kept one eye on the weather forecast and another on a weekly gas storage number. The storage figures showed utilities withdrawing huge amounts of gas, and the forecast was for frigid weather. Traders put the two together, anticipated a supply crunch and drove gas prices to record heights. \"Traders do that all the time; they\\'re looking forward,\" said William Burson, a trader. \"It makes the market for natural gas.\" But the market\\'s response perplexed Chris McGill, the American Gas Association\\'s director of gas supply and transportation. He had compiled the storage numbers since they were first published in 1994, and in his view the numbers were being misinterpreted to show a situation far bleaker than reality. \"It\\'s a little frustrating that they don\\'t take the time to understand what we are reporting,\" McGill said. As consumer outrage builds over high heating bills, the hunt for reasons and culprits is on. Some within the natural gas industry are pointing fingers at Wall Street. Stephen Adik, senior vice president of the Indiana utility NiSource, recently stepped before an industry conference and blamed the market\\'s speculators for the rise in gas prices. \"It\\'s my firm belief ... that today\\'s gas prices are being manipulated,\" Adik told the trade magazine Public Utilities Fortnightly. In California, where natural gas spikes have contributed to an electric utility crisis, six investigations are looking into the power industry. Closer to home, observers note that utilities and regulators share the blame for this winter\\'s startling gas bills, having failed to protect their customers and constituents from such price spikes. Most utilities, often with the acquiescence of regulators, failed to take precautions such as fixed-rate contracts and hedging a sort of price insurance that could have protected their customers by locking in gas prices before they soared. \"We\\'re passing on our gas costs, which we have no control over,\" said Paul Snider, a spokesman for Missouri Gas Energy. But critics say the utilities shirked their responsibility to customers. \"There\\'s been a failure of risk management by utilities, and that needs to change,\" said Ed Krapels, director of gas power services for Energy Security Analysis Inc., an energy consulting firm in Wakefield, Mass. Hot topic Consumers know one thing for certain: Their heating bills are up sharply. In many circles, little else is discussed. The Rev. Vincent Fraser of Glad Tidings Assembly of God in Kansas City is facing a $1,456 December bill for heating the church more than double the previous December\\'s bill. Church members are suffering from higher bills as well. The Sunday collection is down, said Fraser, who might have to forgo part of his salary. For the first time, the church is unable to meet its financial pledge to overseas missionaries because the money is going to heating. \"It\\'s the talk of the town here,\" he said. A year ago that wasn\\'t a fear. Wholesale gas prices hovered just above $2 per thousand cubic feet a level that producers say didn\\'t make it worthwhile to drill for gas. Utilities were even cutting the gas prices paid by customers. But trouble was brewing. By spring, gas prices were hitting $4 per thousand cubic feet, just as utilities were beginning to buy gas to put into storage for winter. There was a dip in the fall, but then prices rebounded. By early November, prices were at $5 per thousand cubic feet. The federal Energy Information Administration was predicting sufficient but tight gas supplies and heating bills that would be 30 percent to 40 percent higher. But $10 gas was coming. Below-normal temperatures hit much of the country, including the Kansas City area, and fears about tight supplies roiled the gas markets. \"It\\'s all about the weather,\" said Krapels of Energy Security Analysis. Wholesale prices exploded to $10 per thousand cubic feet, led by the New York traders. Natural gas sealed its reputation as the most price-volatile commodity in the world. Setting the price In the 1980s, the federal government took the caps off the wellhead price of gas, allowing it to float. In 1990, the New York Mercantile began trading contracts for future delivery of natural gas, and that market soon had widespread influence over gas prices. The futures contracts are bought and sold for delivery of natural gas as soon as next month or as far ahead as three years. Suppliers can lock in sale prices for the gas they expect to produce. And big gas consumers, from utilities to companies such as Farmland Industries Inc., can lock in what they pay for the gas they expect to use. There are also speculators who trade the futures contracts with no intention of actually buying or selling the gas and often with little real knowledge of natural gas. But if they get on the right side of a price trend, traders don\\'t need to know much about gas or whatever commodity they\\'re trading. Like all futures, the gas contracts are purchased on credit. That leverage adds to their volatility and to the traders\\' ability to make or lose a lot of money in a short time. As December began, the price of natural gas on the futures market was less than $7 per thousand cubic feet. By the end of the month it was nearly $10. Much of the spark for the rally came from the American Gas Association\\'s weekly storage numbers. Utilities buy ahead and store as much as 50 percent of the gas they expect to need in the winter. Going into the winter, the storage levels were about 5 percent less than average, in part because some utilities were holding off on purchasing, in hopes that the summer\\'s unusually high $4 to $5 prices would drop. Still, the American Gas Association offered assurances that supplies would be sufficient. But when below-normal temperatures arrived in November, the concerns increased among traders that supplies could be insufficient. Then the American Gas Association reported the lowest year-end storage numbers since they were first published in 1994. Still, said the association\\'s McGill, there was sufficient gas in storage. But some utility executives didn\\'t share that view. William Eliason, vice president of Kansas Gas Service, said that if December\\'s cold snap had continued into January, there could have been a real problem meeting demand. \"I was getting worried,\" he said. Then suddenly the market turned when January\\'s weather turned warmer. Wednesday\\'s storage numbers were better than expected, and futures prices dropped more than $1 per thousand cubic feet. Just passing through Some utilities said there was little else to do about the price increase but pass their fuel costs on to customers. Among area utilities, Kansas Gas Service increased its customers\\' cost-of-gas charge earlier this month to $8.68 per thousand cubic feet. And Missouri Gas Energy has requested an increase to $9.81, to begin Wednesday. Sheila Lumpe, chairwoman of the Missouri Public Service Commission, said last month that because utilities passed along their wholesale costs, little could be done besides urging consumers to join a level-payment plan and to conserve energy. Kansas Gas Service had a small hedging program in place, which is expected to save an average customer about $25 this winter. Missouri Gas Energy has no hedging program. It waited until fall to seek an extension of the program and then decided to pass when regulators would not guarantee that it could recover its hedging costs. Now utilities are being asked to justify the decisions that have left customers with such high gas bills. And regulators are being asked whether they should abandon the practice of letting utilities pass along their fuel costs. On Friday, Doug Micheel, senior counsel of the Missouri Office of the Public Counsel, said his office would ask the Missouri Public Service Commission to perform an emergency audit of Missouri Gas Energy\\'s gas purchasing practices. \"Consumers are taking all the risk,\" Micheel said. \"It\\'s time to consider some changes.\" To reach Steve Everly, call (816) 234-4455 or send e-mail to severly.com. All content , 2001 The Kansas City Star',\n",
       " \"Everyone have a merry Christmas It has been a great year. Our P&L stands at $4.2 million. Our budget was $10 million at the start of the year, then it was changed to $5million when they took the 5% away from us. After the slow summer and when doubt settled in on our ability to achieve our goal it was knocked down to $3 million. However, when we proved that we were fighters and not quitters and soared right through the $3 million, the crawfish came along and knocked it up to $4 million and then up to $5 million. Regardless of all the crawfish boils we have been invited to this year, the bottom line is that you never quit and I can say that I am DAMN proud of our group. We have been given 4 different managers for this year. We started with the infamous Jason Haile. He left in February because he had his doubts about us achieving our goal. Then Mr. Mark Dana Davis took the interim until he was able to bring in Jeff King. Jeff was with us from April until July and did a great job, he represented us well and knew how to bring out our strengths. In August we inherited Mitch Robinson. We had to pack our bags and move into Mr. Robinson's neighborhood. Mitch taught us the operation side of the utilities and we showed him that trading real time is not as easy as it looks. Mitch also fought for us, I was in several different meetings in which I saw him fight for us, I know we had our differences but at the end of the day he really stood up for us. He came to a conclusion that his skills and interest are dealing with assets. Now going into the New Year we have been given a new challenge. I would like to say that I strongly believe that we are and can stay at the top of the industry as the best. In order to stay at the top we have to believe and become the best that we can be. You never stay the same, you either get better or you slide down the hill. Everyone of us has an opportunity. There are always going to be days that we feel like what in the HELL am I doing here. However if you stay positive and take care of your responsibilities we will stay on top. Patience, Perseverance, and Organization are our keys to success. To keep from rambling I will close with this great philosophy. Every one of us has talents and desires and they are all different. We are still a team and always will be a team and to be a successful team we have to have the utmost respect for one another and you have to take it upon yourself to not give any of your teammates a reason to not respect you. My only expectations are for you to give 100% and know your role. If you do not know your role come see me. Thanks and God Bless Big Daddy\",\n",
       " \"Thanks in advance for agreeing to speak at the Global Operations Controller Forum. I know that we are catching you before a tee time on Monday, so I especially appreciate your joining us to kick off the event that morning. Dress for the forum is casual, so feel free to do the same. There will be approximately 30 Enron business controllers present at the meeting. All have responsibility for mid and back office operations for the following Enron entities: Enron North America, Enron Europe, Enron South America, Enron Global Markets, Enron Industrial Markets, Enron Broadband Services and Enron Energy Services. Attendees will be here from Houston, Calgary, Tokyo, Sydney, London and New York (metals business). Attached for your reference is the agenda. There may be some slight changes before the forum begins, but this will give you a good idea of the topics to be covered and the other speakers who will address the group. You are scheduled to address the group as follows: Date: Monday, October 23, 2000 Time: 8:00 am (breakfast will be served at 7:30 and you are invited to join us) Place: The Warwick Hotel The Versailles Room - 12th Floor 5701 Main Street Houston, TX 77005 With a small group, your talk can be informal and you do not need to prepare slides (unless you would like to do so). Q&A afterwards would be great. Key speaking points that would enforce the value of this conference for this group would be: recognition of a job well done in supporting explosive business growth in 2000 your support for global standards for operational controls for trading activities your recognition of the value of operational professionals in the organization to ensure integrity of mid and back office functions your challenge to the group to strive for best in class processes and controls as Enron's growth as a trading organization continues Let me know if you have any questions and thanks again for joining us.\",\n",
       " \"I hope that your holiday was wonderful. Nikki told me that you would be working from home today, but I decided not to bother you there. I will try to have Patti connect me with you during my commute on Tuesday morning. I start with a 7:30 meeting (Houston time), so I should be in my car from 6:30 to about 7:15. I let Nikki know about a rescheduled date from Rick's PRC last week. I don't think that there had been any widespread communication about the new date of June 27. Will you still plan to come to Houston next week? I have scheduled dinner for us on Wednesday evening, assuming that you will still make the trip. Just let me know. Will you also be back for the meeting on June 27? Before you left for vacation I had tried to reach you regarding the MG acquisition. That should make life fun for you! I wanted to talk about resources and how I might be able to help in both the further due diligence efforts and longer term in the assimilation. As in my voice mail, I believe that a doorstep review of trading locations would be critical, both from a controls perspective and from the perspective of an up close view of how they run their business. It seems that might help jump start the plans around how best to assimilate the business. I had suggested my new hire, Shona Wilson, as a potential resource and then there are several of us who have already been involved in doorstep reviews that could be involved both in the US and in other locations. Brent has forwarded a memo to me from Naomi Connell who seems to be formulating a plan for the doorstep reviews. I don't know the names that she mentions (other than Tani Nath), and I am sure that she is unaware of additional resources from Houston that could be used. We can hopefully talk about that tomorrow morning.\",\n",
       " \"As you know, exceeding this limit would require contacting the Enron Board of Directors. Jeff Skilling is keenly interested in this measurement. In conversations with Ted Murphy today, Jeff has asked that he receive a daily report from Ted on component V. Ted called me about 3:00 pm today (Houston time) to let me know about this requirement. Obviously, we want to meet Skilling's request with information that is as timely, accurate and complete as possible. Therefore, we were concerned about feeds from London that over the past several weeks have caused one London commodity or another to be excluded from the first run of component V. (Mike: I assume that you are very familiar with these feed problems from your representative that you send to the daily 8:30 meeting.) I pulled Steve Stock out of a pre-PRC meeting to meet with Ted, Shona, Ramesh and me at 4:00 today. Realizing that the time was very late in London, we tried to reach you both at home numbers and by cell phone to include you in the meeting. Since we could not do so, we continued without you given that Skilling will want to see this report daily starting tomorrow. Here is the key fact to know: It takes 3 hours to run the component V calculations, once all inputs have been received and processed. The Component V calculations are kicked off at 6:30 am Houston time, producing an approximate completion time of 9:30 am Houston time. With this timeframe, our goal would be to have the component V report to Jeff by approximately 10:00 am Houston time. Given current calculation times, in order to consistently calc component V including all London feeds, London books (UK power, UK gas and Nordic power) will have to be completed, calculated and officialized by 4:00 am Houston time (10:00 am London time). If this time frame is not met, then component V reports for Jeff will be incomplete. We had hoped to discuss this with you today so that you could work with your operations staff, systems support and traders to insure that you could consistently meet a 10:00 am London requirement for officialized books. The other immediate action to take is to ask Mike to work with David Hardy on what we understand to be an almost-completed task of including UK spread options in V calculations using the V engine. Those V calculations that are done through Excel calculations are not captured and included in the component V calculations. While there are other commodities that will currently be excluded from component V reports, they are deemed to be less material than the UK spread options. Ramesh felt that it is only a matter of days before this is completed. Mike, we would like for you to stay on top of this from an operations perspective to insure that this happens. I should note that the firm 10:00 am deadline for officializing books in the UK will only result in producing a report for Jeff by 10:00 am Houston time. We don't know what Jeff's expectation will be regarding timing. It is probably safe to say that we should be actively looking at process and systems changes that could result in the ability to deliver such a report earlier in the morning. Mike, I will call you during my morning commute on Thursday to see whether or not you have any questions or if there are concerns about consistently meeting the 10:00 am deadline in London.\",\n",
       " 'I talked with Anne Koehler in Legal today to determine her understanding of what is required from Energy Operations prior to the effective sale of HPL. Anne believes that she may have been the one to introduce the term \"protocol\" into these discussions. To clarify, according to Anne, the \"protocol\" is not anticipated to be a formal legal document. Instead, Anne envisions simply e:mails or memos between Enron and AEP with regard to any sharing of information, agreements on processes to be followed in the transition, etc. Operational details to be decided between Enron and AEP have been handled exactly in that manner to date, with e:mails being sent from Bob Ball (Enron) to Steve Jackson (AEP). Only critical changes to the Purchase and Sale Agreement will be formally documented. Bob Hall identified the treatment of cash accounts in the original Purchase and Sale Agreement as incorrect relative to cash flows for gas to be delivered in the month of May. He has worked with Enron\\'s treasury group to establish the correct procedures and has worked with Sandi Braband in Legal to document this change to the Purchase and Sale Agreement as an Amendment to that agreement. As of today, Legal has completed revisions to that amendment and Anne Koehler is sending it to Mary Perkins in Enron\\'s Treasury group for her review. Upon Mary\\'s review, Anne will forward the amendment to AEP for their review before final signatures. We devised this week a new format for incorporating the AEP-HPL transition issues on which my team has been focused and have provided that to both of you. This new format incorporates the various memos and e:mails which have to date captured the status of transition issues. Items that only require actions by Enron will be our \"to do\" list. Each item has a due date and we will update you weekly on progress. Those items that fall under the AEP list or which appear in both the Enron and AEP list will be the items to which we will evidence communication to AEP and/or their agreement via the e:mails or memos as suggested by Ann Koehler. I believe that this should satisfy your requests earlier this week for written \"protocol\". We will also update you weekly on the status of those e:mails and/or memos between ourselves and AEP. I understand that the two of you have a regular weekly meeting for an update on the HPL sale. To provide clarity for these update meetings, may I suggest that we incorporate one of the following two approaches: 1) Brian and I hold a regular meeting just prior to your update meeting so that Brian has a full understanding of operational transition items and their status, or 2) I attend the first part of your update meeting in order to provide a firsthand update to the two of you. Please let me know which one of these works best for you so that we can incorporate that into our schedules for next week.',\n",
       " 'Along with Mike McConnell, I am active in recruiting for Enron\\'s Analyst Program at the University of Oklahoma. We became involved in recruiting there two years ago when I learned about a targeted undergraduate program that seemed like it could be a good fit for our program. OU transformed their old PLM (Petroleum Land Management) program into the Energy Management Program in the School of Business. This undergraduate degree retains the geology, business law and other specialized classes that were part of the PLM program, but adds additional finance hours with a focus on derivatives and a trading floor course. With the added plus of many of these students growing up in or around \"energy\" families in Oklahoma or Texas, I thought that recruiting top graduates from this program could be beneficial to Enron. Our recruiting efforts at OU continue to be successful and our OU Energy Management graduates have done well at Enron. Our first hire from OU (and the top Energy Management student) was Jody Crook. He joined the analyst program last February after a December 1999 graduation. His first rotation has been on my team, working as a risk book administrator in gas trading. He is in the process of looking for a second rotation at the end of February, and I think that he is someone that you should consider for a rotation on your team. In addition to this last year\\'s risk experience at Enron, Jody worked as a landman for two summers for Burlington Resources. I was very involved in recruiting Jody to Enron. I think very highly of him, and want to be sure that he has good rotations while in the Analyst program. His background and your business seem to be a good fit. Please visit with Jody as he contacts your group about a rotation. It will be well worth your time. Thanks.',\n",
       " \"Here is a revised summary of the 13 candidates I sent to Tony Vasut. I believe he has made initial contact with each of them. If you decide you would like to talk to them, please don't mention my name, as some of them are former clients of mine, used to work with me, or still work with my husband (I think you get the picture - I've been gone from PwC less than a month). However, I would be pleased to talk to you about any of the people mentioned below. I have categorized them into 5 categories - senior level, IT/Risk, mid level, junior level, and admin assistants. I have not spoken to the majority of these people about giving our recruiting department their name (see note above), with the exception of Mark Smith, Dave Simpson, and Connie Shugart. All of these people have indicated great interest in coming to Enron. Again, please call me with any questions, or need of further info. My extension is 39123. Best regards Shona Senior level risk people Andy Dunn until 3 weeks ago he was a director in the PwC risk management practice. Due to a falling out between Andy and the partners (not client related), he left the firm. He is extremely well respected by both the audit and the non-audit personnel, and his leaving came as an unexpected surprise. I have worked with him on a number of occasions and would highly recommend him to Enron. The downside to Andy is that he lives in Denver, is used to travelling a lot, but, at the last time we spoke (a few months ago), is not interested in leaving Denver. His cell phone (if still in use) is 303 807 0040. Mark (Allan) Smith Mark is in the PwC energy risk management practice in Houston. We worked very closely together throughout 1999 on projects for Coral Energy and Equiva trading. Prior to working at PwC, Mark was at BP for 15 years where he had many different roles (he worked as a crude trader, products trader, he worked in the risk management department, in the refinery itself as an engineer). Mark was excellent to work with. Clients are extremely impressed with his knowledge and background. I would highly recommend him for a leadership role at Enron. I spoke to him and he is interested in pursuing opportunities at Enron. His direct number is 713 356 4233. His cell phone number is 713 412 3890. IT/Risk people Shawn lafferty, Alan Beaton, & Carolyn Johnson These people are all senior managers in KPMG's Information risk management department and are all looking for opportunities outside KPMG. They all have 8+ years work experience in the IT field. KPMG's main number is 713 319 2000. Mid level risk people Marilyn Chee She currently works for Equiva trading, manager in-charge of accounting for derivatives. Her role has expanded to encompass FAS 133 and all mtm accounting entries. She liases with all book heads (crude and all products). In the past, she worked in the Texaco internal audit department. She was my main contact at Equiva when I was their auditor. She is extremely diligent and very professional. I enjoyed working with her greatly and have to say she was one of the best people I have worked with in the capacity of a client/professional relationship. Marilyn has a lot of responsibilities at the alliance and is extremely well respected. She has had a difficult year as she is doing a job that should be done by 3+ people. She has mentioned to me that she is not happy about the fact that her load continues to increase, and has even mentioned finding another job. However, due to the fact that she is so well respected where she is, she may be difficult to recruit (713 277 6280). If you contact her I would not want my name associated with it due to the PwC/alliance relationship. Scott Barnes Scott is an audit manager at PwC. He has worked in energy for his career, which he spent in Houston and Moscow and New York. He has worked as an audit manager, a special projects manager for the managing partner of the Houston office, a manager in the capital markets group (the group responsible for helping non-US companies prepare to register and list with the SEC), and the transaction support group (the group that is resposnible for performing due diligence procedures for PwC clients). He is looking for opportunities outside PwC. The PwC general line is 713 356 4000. Keith Considine He is currently a senior accountant at PwC. He is the best senior PwC Houston has, as well as probably one of the best people I have ever worked with (the top of his class). Although he only has 4 years of work experience (all at PwC), he performs in a manager capacity. He worked for me on the Coral Energy audit engagement and received an excellent evaluation from both myself and the partners (we all agreed that he is one of the best people any of us have seen or worked with). He is currently working on a project at one of PwC's clients to standardize their mid office processes . He definitely does not see himself as a long time employee of PwC, but is currently planning on staying there until he is promoted to manager. I actually recommended him for a promotion to manager at July 1 this year, but due to capacity issues, I don't expect that the promotion will be approved. His number is 713 356 5617. Junior level risk people Robin Manspeaker currently works as a scheduler at Equiva Trading. She has been there about a year and a half. Before that, she worked at Novarco in White Plains (a subsidiary of Marc Rich). She was there about 3 years. I do not know where she was before that. I have worked with her during my audits of Marc Rich. She seemed very well versed in her knowledge of her job and processes surrounding it. I do not have her number, but you can call Shell information at 713 241 6161 and they will transfer you. Dave Simpson Analyst at Koch Energy in Houston, has a degree in accounting and has work experience of about 2 years. He is very interested in leaving Koch. I know him on a person basis, but have not worked with him. He is a good guy and very likeable. His phone number is 713 544 7649 Robert Hernandez is someone who may be able to fill an open position at Enron South America. Last year, Robert worked for me at PricewaterhouseCoopers (PwC) on the external audit of Coral Energy. He was a great worker and very good at his job. He speaks fluent Spanish as well as fluent English. Before working at PwC, Robert worked in the gas trading industry in the mid/back office. I'm not sure of all of his responsibilities, but I do know he was involved in gas actualizations. In total, I think he has about 4 years of work experience. He left PwC in March to take a position with Heins in their internal audit department. I have not spoken to him since he left, but do know he paid a recruiter to find him this position. I do not know if he is happy at his current company or not. I do not know his number, but he can surely be found by using the general line. I looked it up for you and came up with two - 713 785 1494, 713 225 0565. Admin assistants Connie Shugart she is currently working at PwC as an administrative assistant. She is also involved in recruiting experienced personnel for PwC's audit and internal audit service lines. She is very interested in Enron and has asked me a few times to get her a contact here. I have not worked directly with her but due to her close proximity to my office I talked to her a number of times and was very impressed. (713 356 4000 - general PwC number). I have spoken to her about giving her name to Tony and she is very excited about coming over and interviewing. She really wants to work for Enron! Ellen Robertson She is an administrative assistant who is looking to leave PwC. I have never worked with her, but she did come to ask me my opinion on how she should go about finding other work. (713 356 4000 PwC general line).\",\n",
       " 'We have scheduled a user test for Clickpaper on Saturday, July 22nd starting at 8:30 AM on the 29th floor of the Enron building. First, a reminder to Edward and Bob to make sure the ENA Paper group is here (commercial only plus, at a minimum, John Jacobson). It is up to Edward and Bob to decide if London personnel should be here but I would recommend a few. They will be the \"users\" in the test. We will have a script for them. The goal is to test the site and the capability of the trading floor. I will explain more about this to Edward and Bob next week. Also, Bill Bradford or his designee from credit needs to be here to review the functionality of the credit check. Also, Ted Murphy or his designee needs to be here to review control. If the test is a success, we will wipe the system clean Saturday and will create actual customer profiles we have received in the system on Sunday. Monday we will review everything one last time for Tuesday launch, July 25th launch. We will provide lunch for everyone so get to me the names of who is committed so I can plan. Please respond with any issues or questions. Thanks. GP',\n",
       " \"Sally I just want to summarize/clarify our discussions so far on the Commercial Support model for Enron Japan. My background: In Europe the Commercial Support function was divided into a Middle Office (MO) and a Back Office (BO) part, with a European controller (Fearnley Dyson) responsible for both functions. For Scandinavia, the only trading office in Europe outside of London, I was responsible for both functions, as Local Office controller, reporting into Barry Pearce, who reported to Fearnley. In Japan I also have this Local Office Controller function, as being responsible for MO/BO activities in this region. The MO would consist of the trading related functions: Documentation (Capture & Confirmation), Risk Management, Settlement and Trade Accounting. The BO would consist of G&A's, Salaries & Wages, Tax, Management reporting, Statutory reporting and VAT. Back Office: I report directly to Cassandra Scultz (VP & CAO of Enron APACHI). As much as possible are to be outsourced to our Sydney office (Heidi Mason, who also reports to Cassandra), but some work has to be done in Tokyo. The reasons for this outsourcing decision is enclosed in the Power Point presentation enclosed below. For payments we use Houston Treasury, as they are the only ones that can exercise a payment in the banking systems. Middle Office: Mandate What I have in writing is a section from Joe Hirl's Memo (Request for Japan Power Trading Positions (DRAFT)) to Rick Buy and Greg Whalley dated April 19 this year (please find enclosed) Back Office Operations: Jan Erland Bekeng in cooperation with Sally Beck will look to establish the local risk books in Tokyo and define any system modifications necessary given the characteristics of the Japanese electricity market. Enron Japan will handle trade capture and risk management while confirmations and settlements will occur in Houston under Sally Beck,s supervision. IT support and system modification will be overseen by Anthony Dayao and performed in Houston. Discussion - Current & Future Situation I see more commodities than Power. Metals will arrive September 25, Weather is on the way from Sydney, and Garry Hickerson will from September 1 have a guy here doing IRFX, Agri and maybe Equity. We are also looking into Oil deals, and have plans for Gas, Coal, Pulp & Paper, Credit and Emissions. Also EBS is on the way. I only see Metals, IRFX and Weather as active desks this year, maybe Oil. Power will take some more time to get active, due to the very closed market situation here right now. On the Origination side we might see some structures/cross commidity/finance deals go through. Thus we have a mix of activites from Enron APACHI, Enron Global Markets, EBS and Enron Metals. Basically everyone wants to do some business in Japan. To coordinate all these activities we need to build the most cost efficient, independent, segregated, automised and service minded Japanese Commercial Support function possible. To accomplish these objectives, outsourcing to Sydney is an alternative that has been discussed extensive lately, and is highly recommended from our side. Labour costs in Sydney is 25% of the costs in Tokyo. Due to Sydney's experience and size they are ready to expand and take on this project. They already have the segregation and independence in place, and would give us an extra layer of segregation in the sense of being an intermideary between Tokyo and Houston. Bilingual staff would be hired to perform Japanese services, which is widely available in Sydney. And there is only one hour in difference between us. Outsourcing these activities from Japan to Australia is a growing trend, and many large corporations have done it this way. There will be some time from the first trades until functions and commodities are moved to Sydney. Tokyo want and needs to learn, understand all details, automise, make routines and calibrate systems first. On the confirmation side our Legal department would be heavily involved in th start, compared to later stages. Proposed MO structure for Enron Japan A) Responsibility for all Commercial Support activities in Japan to be sourced to Enron Japan, under Enron Japan's CFO. B) Outsource programmable tasks to Sydney: - Documentation (Capture & Confirmation) - Settlement - Trade Accounting C) Risk Management in Tokyo. I look forward to hear from you. Regards Jan-Erland\",\n",
       " 'We have created four additional graphs to be published daily along with the DPR: Return on VaR (ROVAR) Curve Shift P&L (Delta - Gamma) Sharpe Ratio Risk - Return (Large) Risk - Return (Small) All of these graphs deal with the concept of risk-adjusted return. The markets in which we operate have unlike risk characteristics. Furthermore, Enron\\'s appetite for risk also differs in each market. As a result, it is difficult to compare returns in absolute terms. Therefore, the approach of these graphs is to divide return by a measure of risk, in effect restating return numbers into a standard base (how many dollars we earn for every dollar we put at risk). For each business unit or commodity group, the ROVAR graph shows an average of daily total P&L divided by an average of daily VaR. Higher ROVARs indicate better performance (relative to other business units). For each business unit or commodity group there are two bars: the dark blue on the left shows ROVAR on a 4 week (20 business day) rolling basis, and the light blue on the right shows ROVAR on a 1 week (5 business day) rolling basis. Because of the shorter term, the 1 week ROVAR is more sensitive: it can be quite high or low, and it changes frequently. The Sharpe Ratio graph is very similar in concept; it shows an average of daily curve shift P&L (both delta and gamma) divided by its standard deviation. This Sharpe ratio is uncomplicated by non-trading P&L (like new deals, reserves, and so forth). Furthermore, whereas VaR is a forward looking statistic (the most we are likely to lose in one day with a given probability), standard deviation is backward looking (the actual volatility of our returns over the period). This graph also has two bars for every business unit or commodity group: a dark brown on the left showing the Sharpe ratio on a 4 week rolling basis, and a light brown on the right showing the ratio on a 1 week basis. The Curve Shift P&L Sharpe Ratio and the ROVAR graphs complement each other well. They measure different things, but if our P&L is composed mostly of curve shift, and if our VaR closely predicts curve shift volatility, the two statistics should be very close. Sometimes it is interesting to see the actual magnitude of the P&L relative to the risk. We therefore put together the Risk - Return graphs. On the vertical axis, they show 4 week rolling average P&L. On the horizontal, they show 4 week rolling average VaR. The various business units are plotted as points on the graphs. These graphs are closely related to the 4-week ROVARs, in that the vertical value of every point divided by its horizontal value is the business unit\\'s ROVAR (average P&L / average VaR). Another way of looking at these graphs is that the slope of a line connecting the origin (0,0) with the plotted point of a business unit is its ROVAR. Books with small risks and returns (< $2 million) are plotted on the \"Small\" graph, and the rest, on the \"Large\". These graphs are based on the DPR Database that we built to standardize and capture the information that is reported in the DPR. Most, but not all of the information in the DPR currently flows from the database. As a result, we do not have ROVARs or Sharpe Ratios for every business unit. As we continue to set up exports into the database, we will fill in the missing numbers. We will e-mail you these graphs every day until we can publish them on the intra-net. Please remember to launch the file in Excel, instead of using the Lotus Notes viewer. The VaR Limit Usage graphs that we created last week are already on the web. We hope that you find all of these useful. Regards, Eugenio Perez',\n",
       " 'Per my voicemails to each of you.... Jenny Latham is currently a manager in Power Risk in Houston, and is interested in moving to London. She is very well respected within Enron, and is a highly rated employee. She has been with Enron for several years, in various positions, and will move us far ahead in the staffing. In January, I met with Yvonne Scorer to identify recruiting needs to build the mid and back office for the London activity for EIM. One position identified, Business Controller, is the position I have discussed with Jenny, and she is very interested. I am anxious to move this forward ASAP for a couple of reasons: 1). Jenny is interested, and I do not want to lose her to other opportunities within the London office, and 2). It is not too early to move forward on the staffing of the office as it will take some time to appropriately staff and transition current support from EGM. Bruce, last week Jenny and I met with you, and we discussed that it would be appropriate for Jenny to spend time with us here in Houston to learn our current processes, commoditiies, etc. I absolutely agree with this, but we need to make a deal with her before we can start that process. The sequence of events that make sense to me and that I believe would make Jenny the most comfortable is that we 1). agree on the financial package (Compensation, moving allowance, etc), 2). transition her current responsibilities within Power Risk, and 3). begin training with us. Simultaneously, we will need to recruit applicants for the remaining positions in Risk, Documentation, Settlements and Trade Accounting. My goal is to have everything in place in London by the end of first quarter. To meet this time line, we need to get more information and have a discussion with Meryl on the specifics. Bruce, can you give Meryl the green light to move forward with us? I appreciate your help.',\n",
       " 'The Enron BOD approved the some limit changes today, effective for trading day Tuesday, February 13, 2001, consistent with the risk management policy\\'s intent to provide a trading limit framework whereby management can review Enron\\'s consolidated exposure to commodities. To faciliate the aggregation and reporting of Enron\\'s consolidated exposure to commodities, the limit structure was modified to provide for aggregation of North American Natural Gas and Electricity, with EES\\'s NA Gas and Power positions included, and with a separate business unit sub-limit for EES. Policy amendments were as follows: u Clarify the cross-commodity trading policy to specify that trading limits are to be applied against Enron,s consolidated commodity positions on an individual commodity group basis; Enron,s consolidated Daily Position Report should provide required market risk disclosures by primary commodity group; (for example, Enron,s exposure to the North American Natural Gas market shall be aggregated across the company). ) Delegate cross-commodity trading approval among established commodity groups to the respective Business Units Offices of the Chairman, with appropriate reporting to the Enron Corp. Chief Risk Officer. u Specify the operational control requirement that all trades executed over the telephone must be recorded electronically. Cross-commodity trading authority was not automatically pre-approved for anyone in the company. Authority to trade a commodity for which you are not the authorized trader must be obtained from the Business Unit Office of the Chairman for the commodity group that is authorized to trade that commodity, with appropriate reporting as noted below. North American Cross-Commodity Limits VaR Limit None (terminated the $5MM VaR limit) North American Natural Gas Net Open Position 500 Bcf Maturity / Gap Risk Limit 200 Bcf VaR Limit $61 MM (EES - $1 MM) ** North American Electricity Net Open Position 90 Twh Maturity / Gap Risk Limit 25 Twh VaR Limit $54 MM (EES - $4 MM) ** ** EES\\'s $5MM VaR was allocated between Gas and Power for purposes of calculating consolidated NA Gas and Power limits. From a business unit perspective, the $5MM VaR limit will continue to be monitored for EES in total. Below are relevant excerpts from the revised policy addressing the cross-commodity trading guidelines. I will distribute the entire updated policy as soon as we incorporate the BOD\\'s comments. V. Operations and Controls. B. Position Reporting. \"...For purposes of limit monitoring and aggregation of Enron,s consolidated trading results, Enron,s consolidated Daily Position Report should include the Net Open Position, Maturity/Gap Position, profit or loss, and potential exposure (VaR) for approved Commodity Groups consolidated across the company without regard to which business unit undertook the trading activity. In those instances where limits are granted to a business unit for a basket of commodities, reporting for individual commodity risk books shall be maintained to facilitate aggregation of Enron,s actual consolidated commodity specific exposure. Management reporting may separately provide business unit sub-limit monitoring and trading results aggregated according to management lines.\" E. Transaction Approval and Execution. \"Only those employees designated by the Enron Corp. Chief Risk Officer or his designee(s) will be authorized to enter into Transactions on behalf of Enron. The Chief Risk Officer must also maintain a record of those employees responsible for the individual Commodity Groups (Commodity Group Manager) as specified in the Appendices. Individuals will be assigned as commodity leaders to manage Enron,s aggregate position across the company as determined necessary by the Chief Risk Officer...\" VI. Policy Amendment Authority B. Cross-Commodity Position Authorization. If in the ordinary course of its business an Enron Business Unit or trading desk incurs an exposure to an underlying commodity or financial instrument for which it does not have explicit authority to carry, this exposure should be hedged internally with the appropriate Enron desk(s), with appropriate notification to the Chief Risk Officer or his designee(s). Hedge positions should be in instruments that have an observable correlation with the underlying exposure, and should be rebalanced regularly to substantially neutralize the underlying exposure. Upon notification to the Chief Risk Officer or his designee(s), the Enron Business Unit Office of the Chairman who has authority for that commodity group may authorize a specific trader in a different commodity group to take speculative positions with other Enron trading desks in commodities and/or financial instruments other than those which that trader has explicit authority to trade (i.e. the Business Unit Office of the Chairman for North American Natural Gas may authorize a trader in the Coal group to trade gas with the North American Natural Gas desk). For limit monitoring purposes of Enron,s consolidated trading results, these cross-commodity positions shall be captured by individual commodity to facilitate aggregation and reporting of Enron,s consolidated exposure by commodity in the Daily Position Report (Coal desk,s gas position will be aggregated with the North American Natural Gas commodity group.) If you have any questions, feel free to call Vlady at x36954, me at x30429, or David Port at x39823. Regards, Cassandra Schultz.',\n",
       " \"Here's just a quick summary of what we have going on...(not sure how quick this is going to be!) EnronOnline Offering products on other exchanges (HoustonStreet and True Quote). We are going to offer specific products (various Gas and Power products) to customers who have execute rights to these products on these two platforms. Therefore, we will have three feeds to deal with and will need new applications built to support the interfaces. We will be responsible for adding/deleting products, ensuring the sites match ours, reporting trades on these systems, bridging applicable data to downstream systems, etc. Enron gets an equity ownership in the platforms depending on activity. Opening up EnronOnline to brokers. We are negotiating with three brokers right now. They will have to pay a one year licensing fee to have access to the site, and we will allow them to transact for specific counterparties only. We will also need applications built and establish specific processes to support this. Wish List - we have a list of approx. 180 times that we need the developers to work on for us. Jay Webb committed to Louise a few weeks back (when I was in her office) that we would get a resource (specifically Chris Luttrel and his team). I think you are aware of this. Chris is now moving on to do something else and none of our items have been addressed in three weeks. We have had weekly meetings the last three weeks with the IT team (Mark Dilworth and company...). Basically, since Mark has decided to leave the group, nothing is being addressed. I am going to speak to Dave tomorrow about this and escalate from there necessary. This needs a more detailed explanation - I am going to try to get some time with you next week. Steel - I will discuss with Dave tomorrow. He basically told me not to do anything (another topic of discussion....) We are working on enhancing our existing intranet site for the PCG Louise has asked that I not allocate any of the PCG time to Europe - I don't agree with this because I have four people preparing the management report on a daily basis and I have a call center that also supports Europe. I tried to argue my point but did not get very far : ) I am going to talk to Dave about it some more. Working on bridging to Thunderball and the new weather application Legal/Credit - we do not always get timely responses from the groups - Credit is improving (they hired a new person), but Legal has one person responsible for new CP set up (Tana Jones). When she is out, all application processing stops. I am going to talk to Mark Taylor about appointing a back up at a minimum. Tana does a great job, but our activity is really increasing (she also supports Clickpaper), so it is becoming an issue. We have set another record today - we have already done 3,358 trades!!!! No new news from Canada on power trading - Legal needs to sign off. In Mark Taylor's shop Argentina in the works - probably end of month. Clickpaper We have so much, I am not sure where to start. I had lunch today with Jeff Harbert to discuss what our needs were. We need tools from reporting to credit... The commercial group is really wanting to start offering more products, and are starting to hire marketing people and traders. The activity is really picking up The contractors are working weekends (Call Center). I am working the Commercial group to discontinue this. We are not even getting that many calls during the week, and we have not received one call on Sat/Sun since launch (July) Commodity Logic Dale has been very involved in all the discussions and has been a great resource (I have received several compliments from the NetWorks team on his contribution) They have not yet released the first module (Financial Mgmt - CFO). Should be very soon DealBench No external customers - very slow developing.... Staying involved and in touch with the Commercial team Other I am still looking for an assistant. I sent five resumes down to staffing and a week later the interviews were not scheduled. I went down to complain and two of them were scheduled. A week later, the other three were yet to be scheduled, so I am doing it myself. I think we have some real issues in the staffing group - this is not the first time. We are working on Disaster Recovery for the group. Super Saturday - I would like our team to participate. Do you have an idea of who all is interviewing? We would like to be involved. We are looking at holiday coverage now to ensure we have coverage I talked to Mary Sloan (SAP) and Keith Clark (Call Center) is working with her. I think she really appreciates the help/input. Have you had a chance to review the announcement letter re:reorg? Sorry for the long-winded message.... Thanks! Talk to you soon. Sheri\",\n",
       " \"As we are nearing the deadline for the Book-split project, I want to give you a status update. BOOK-SPLIT Completed Separate Cash & Term books have been setup in Enpower and Global databases for every country Pablo Pissanetzky has written code to successfully transfer over 99% of the deals into their proper regional books Two dozen deals (mainly annuities) have been modified in Production to transfer according to Pablo's code All deals requiring manual intervention on Go Live date have been identified Initial position report has been developed and tested for accuracy Uncompleted Communication to Commercial of positions (Wed. April 26) Presentation of the Position Report which allows Commercial to view monthly peak/off-peak volumes by region (Wed. April 26) PCS by deal for each portfolio Separate DPRs and associated reports for the Pool and Bilateral portfolios Modifications necessary for the Settlements invoicing system TRANSMISSION We are making progress on this effort although you have not seen any hard evidence. Zhiyong Wei is the IT Director in Houston who is responsible for Enpower development. We are working with Pablo and Zhiyong on several possibilities. As we have previously discussed, there is not the current capability to value the spreads as options, but we are testing the other scenarios. Buy/Resale This deal type has been disabled We are waiting for Zhiyong's response as to its future functionality if any Transmission Pablo tested in the Stage environment today after receiving minor assistance from Zhiyong Ability to book Transmission deal without Annuity leg Ability to liquidate demand charge daily Reflects long and short positions at the appropriate regions (as Forwards not Options) Does not value the forward spread between the regional curves (still testing) Variable cost treatment is still being tested Forwards If deep in the money, we could enter intra-desk/inter-desk deals to reflect positions and P&L Much time and IT development resources have been spent to make use of the Transmission functionality. After speaking with Zhiyong, there evidently was a big push last year for the MTM of Transmission. The latest version has been in the test environment for some time, but no one is currently testing it. It will take some attention to test it properly and will not be complete by the book-split deadline. As we established in our last meeting, the MTM of transmission is a separate project from the book-split. Due to the complexity and amount of data involved in the book-split project itself, it is advisable that we incorporate the transmission second. Further testing of the transmission will continue this week and by the end of the week we should have a decision on the most effective way to currently book transmission. Please call or come by if you have any questions, Todd Hall\"]"
      ]
     },
     "execution_count": 168,
     "metadata": {},
     "output_type": "execute_result"
    },
    {
     "name": "stdout",
     "output_type": "stream",
     "text": [
      "\n",
      "\n",
      "21 messages in cluster 3.\n"
     ]
    },
    {
     "data": {
      "text/plain": [
       "['George, Please send the latest cost estimates when you get a chance this morning. Phillip',\n",
       " 'Andrea, Please resend the first three resumes. Phillip',\n",
       " 'cannot open this file. Please send in different format',\n",
       " 'Ina, I will be on vacation July 31 - August 3. Please mark the calendar. Phillip',\n",
       " 'Ina, Please mark me down for vacation on August 1 through August 3. Phillip',\n",
       " \"Mery, Please email me back with a location for tomorrow's meeting. Phillip\",\n",
       " 'Yesterday, Aquilla sold March at 5.77 and 5.76 for HeHub. Please change it to Nymex',\n",
       " 'Please delete previous message. It was meant for David Oxley',\n",
       " \"http:.hyatt.com_dfwrd.html my bro says this place is nice but don't know how expensive\",\n",
       " 'Just a reminder. Please try to be at the field by 6:30.',\n",
       " \"This is a copy of Lloyd's Business plan please do not distribute to anyone else.\",\n",
       " 'Attached is the consolidated global standards 12/18/00. Should you have any questions please feel free to call me at ext 54751. Nancy',\n",
       " \"Attached is June's Curve Validation memorandum. Please do not hesitate to call if you have any questions. Gary X35502\",\n",
       " 'Sally, Please call me if you have any questions. Mike',\n",
       " 'Please let me know if you have any questions or would like to discuss in further detail. Regards, Scott']"
      ]
     },
     "execution_count": 168,
     "metadata": {},
     "output_type": "execute_result"
    },
    {
     "name": "stdout",
     "output_type": "stream",
     "text": [
      "\n",
      "\n",
      "48 messages in cluster 4.\n"
     ]
    },
    {
     "data": {
      "text/plain": [
       "['Original Message From: \"Greg Thorse\"  [mailto:IMCEANOTES-+22Greg+20Thorse+22+20+3Cgthorse+40keyad+2Ecom+3E+40ENRON.com] Sent: Tuesday, June 19, 2001 8:47 AM To: Allen, Phillip K. Subject: Bishops Corner',\n",
       " 'Hey: I just want to confirm the trades I have in your book. Trade #1. I sell 4000 X  4652 Trade #2. I buy 4000 X  4652 I sell 4000 X  4902 Trade #3 I buy 4000 X  5000 I sell 4000 F  5000 Net result: I have 4000 F in your book  4902. Thanks, John',\n",
       " 'fyi: Jan Red Jan trading 28.5 with Sep  381',\n",
       " 'Original Message From: \"Mark Sagel\"  [mailto:IMCEANOTES-+22Mark+20Sagel+22+20+3Cmsagel+40home+2Ecom+3E+40ENRON.com] Sent: Sunday, May 20, 2001 6:04 PM To: John Arnold Subject: Natural Update',\n",
       " 'Original Message From: \"Robertson, Heather\"  [mailto:IMCEANOTES-+22Robertson+2C+20Heather+22+20+3CHRobertson+40cloughcapital+2Ecom+3E+40ENRON.com] Sent: Monday, September 17, 2001 8:56 AM To: Robertson, Heather Subject: FW: How You Can Help the US Stock Market',\n",
       " 'Original Message From: \"Mark Sagel\"  Sent: Monday, December 10, 2001 4:07 PM To: John Arnold Subject: Payment',\n",
       " 'Original Message From: \"sarah aldrich\"  Sent: Wednesday, November 07, 2001 10:43 AM To: jarnold.com Subject: Help!',\n",
       " \"Saturday is better for me - say  Noon. I'm in if we play on Sat.\",\n",
       " \"That's it. Thanks to plove I am no longer entering my own deals. Phillip M Love  To: Eric Bass cc: Subject: Re: We can always count on you to at least give us one on the error report. PL\",\n",
       " 'i got your tickets Jason Bass on  To: cc: Subject: funnies - fortune.jpg - bombtech.jpg - airolane.jpg - watchp.jpg',\n",
       " 'This deal from Tuesday was not entered in Enpower (HE 10). We entered it last night. The Enpower numbers are attached. DUKE to SOCO schedule for 1-30-01 Buy  Duke E: 509197 Sale  SOCO E: 509198',\n",
       " 'Steven Coulter is confirmed for a telephone interview on Monday, April 30, 2001  3:35pm CST and he can be reached at (970-223-6506). I have attached his resume for your reference. Confernce Room EB-3654. Thank You, Lydia, x3-9338',\n",
       " 'Original Message From: \"Lawson, Lisa\"  Sent: Friday, August 03, 2001 9:32 AM To: Baughman Jr., Don Subject: Megawatt Daily Into Cinergy Hourly Index',\n",
       " 'Original Message From: \"Lawson, Lisa\"  Sent: Wednesday, August 15, 2001 12:45 PM To: Baughman Jr., Don Subject: Megawatt Daily\\'s Into Cinergy Hourly Index',\n",
       " 'James Scribner is enrolled in Wellhead to Burner Tip Class Days and Times:  - 05:00:00 PM  - 12:00:00 PM Participant Fee: $600.00 Thank you for your support in providing quality and cost effective development opportunites at Enron. Your Company and RC will be charged $600.00 If you have any questions, please call the Development Center Team at 713-853-0357. Thank you.']"
      ]
     },
     "execution_count": 168,
     "metadata": {},
     "output_type": "execute_result"
    },
    {
     "name": "stdout",
     "output_type": "stream",
     "text": [
      "\n",
      "\n",
      "38 messages in cluster 5.\n"
     ]
    },
    {
     "data": {
      "text/plain": [
       "[\"Original Message From: Heizenrader, Tim Sent: Tuesday, July 10, 2001 12:59 PM To: Lavorato, John; Allen, Phillip K.; Zufferli, John Cc: Belden, Tim; Swerzbin, Mike; Richey, Cooper Subject: West Power Strategy Briefing Charts for today's meeting are attached:\",\n",
       " 'Original Message From: Webb, Jay Sent: Monday, December 03, 2001 12:11 PM To: Allen, Phillip K. Subject: report',\n",
       " 'Original Message From: Davis, Karen Sent: Monday, July 23, 2001 1:03 PM Cc: Jones, Donna; Walt, John; Coleman, Jacqueline; Bland Jr., Ted C.; Friesenhahn, Shelly Subject: Meet your New Analyst(s)',\n",
       " 'Original Message From: Walsh, Kristin Sent: Monday, July 23, 2001 1:03 PM To: Allen, Phillip K.; Grigsby, Mike Cc: Presto, Kevin M.; Tholan, Scott; Turner, Nancy Subject: El Paso Update 7/23/011',\n",
       " 'Original Message From: Hayden, Frank Sent: Wednesday, December 05, 2001 10:44 AM To: Allen, Phillip K. Subject:',\n",
       " 'Original Message From: Turner, Nancy Sent: Friday, August 24, 2001 8:15 AM To: Allen, Phillip K.; Grigsby, Mike; Gaskill, Chris; Presto, Kevin M. Cc: Walsh, Kristin; Tholan, Scott; Whitman, Britt; Holman, Kelly Subject: El Paso 1110',\n",
       " 'Original Message From: Hayden, Frank Sent: Monday, December 17, 2001 4:54 PM To: Allen, Phillip K. Cc: Gossett, Jeffrey C.; White, Stacey W. Subject: FW: Chase Backtest',\n",
       " 'Original Message From: Arnold, Matthew Sent: Monday, July 16, 2001 8:46 AM To: Arnold, John Subject: FW: vacation',\n",
       " 'Original Message From: Grabstald, Kathie Sent: Wednesday, September 12, 2001 4:54 PM To: Arnold, John Subject: FW: John Arnold photos',\n",
       " 'Original Message From: Calger, Christopher F. Sent: Monday, December 03, 2001 5:43 PM To: St. Clair, Carol Cc: Sacks, Edward; Arnold, John Subject: RE: Terminating Trades',\n",
       " 'Original Message From: Bhatia, Randy Sent: Monday, February 04, 2002 10:00 AM To: Wolfe, Jason; Lenhart, Matthew Subject:',\n",
       " 'Original Message From: K. Bass [mailto:daphneco64.net] Sent: Wednesday, September 26, 2001 11:33 AM To: Bass, Eric Subject: Sun-Sentinel News Local',\n",
       " 'Original Message From: Roan, Michael Sent: Monday, November 19, 2001 9:16 AM To: Forster, David Cc: Day, Smith L.; Nicolay, Christi L. Subject: MISO phase in of operations',\n",
       " 'Original Message From: Serio, Erik Sent: Thursday, January 31, 2002 2:03 PM To: Will, Lloyd Subject:',\n",
       " 'Original Message From: Mansfield, Marci Sent: Friday, November 02, 2001 4:24 PM To: Baughman Jr., Don Subject: NOV TRANS RATES']"
      ]
     },
     "execution_count": 168,
     "metadata": {},
     "output_type": "execute_result"
    },
    {
     "name": "stdout",
     "output_type": "stream",
     "text": [
      "\n",
      "\n",
      "10 messages in cluster 9.\n"
     ]
    },
    {
     "data": {
      "text/plain": [
       "['Original Message From: > [mailto:IMCEANOTES-+3CiBuyit+2EPayables+40Enron+2Ecom+3E+40ENRON.com] Sent: Monday, July 23, 2001 10:10 PM To: pallen.com Subject: Action Requested: Past Due Invoice',\n",
       " 'Original Message From: > [mailto:IMCEANOTES-+3CiBuyit+2EPayables+40Enron+2Ecom+3E+40ENRON.com] Sent: Sunday, August 05, 2001 10:10 PM To: pallen.com Subject: Action Requested: Past Due Invoice',\n",
       " 'Original Message From: > [mailto:IMCEANOTES-+3CiPayit+40Enron+2Ecom+3E+40ENRON.com] Sent: Monday, September 17, 2001 10:06 PM To: Allen, Phillip K. Subject: Action Requested: Past Due Invoice',\n",
       " 'Original Message From: soblander.com [mailto:IMCEANOTES-soblander+40carrfut+2Ecom+40ENRON.com] Sent: Tuesday, May 22, 2001 12:17 PM To: soblander.com Subject: nat gas options 5/22',\n",
       " 'Original Message From: soblander.com [mailto:IMCEANOTES-soblander+40carrfut+2Ecom+40ENRON.com] Sent: Wednesday, September 19, 2001 9:11 AM To: soblander.com Subject: resend-ALL daily charts and matrices as hot links 9/19',\n",
       " 'Original Message From: louis.caiafa.bnpparibas.com Sent: Wednesday, November 28, 2001 12:47 PM To: jarnold.com Subject: NG Delta position',\n",
       " 'Original Message From: louis.caiafa.bnpparibas.com Sent: Thursday, November 29, 2001 7:59 AM To: jarnold.com; Quigley, Dutch Subject: NG Delta 11-28-01',\n",
       " 'Original Message From: IntercontinentalExchange [mailto:feedback.com] Sent: Friday, November 30, 2001 11:55 AM To: powerindex.intcx.com Subject: Power Indices',\n",
       " \"Original Message From: Ballantine, Caroline B [mailto:cballantine.com] Sent: Thursday, November 29, 2001 10:06 AM To: 'harry_arora.com' Subject: trading\",\n",
       " \"Original Message From: Kaur, Gurdeep (Gurdeep)** CTR ** [mailto:gkaur1.com] Sent: Monday, December 24, 2001 11:14 AM To: 'harora.com' Subject: test mail\"]"
      ]
     },
     "execution_count": 168,
     "metadata": {},
     "output_type": "execute_result"
    },
    {
     "name": "stdout",
     "output_type": "stream",
     "text": [
      "\n",
      "\n",
      "46 messages in cluster 6.\n"
     ]
    },
    {
     "data": {
      "text/plain": [
       "[\"yep...i'm always here\",\n",
       " \"Hey: Do you have any extras for tonight's game? John PS. How's you bowl\",\n",
       " 'hey podner: where are you buying me dinner tonight?',\n",
       " 'heffner a little bullish, eh?',\n",
       " 'yea',\n",
       " 'yea, i interviewed him. i gave him a thumbs up. why do you ask?',\n",
       " 'yea',\n",
       " 'yea',\n",
       " 'Hey Melissa,',\n",
       " 'Hey Janet,',\n",
       " 'hey mom,',\n",
       " 'Hi Mom,',\n",
       " 'Hey Allison,',\n",
       " 'Hey Brett,',\n",
       " 'Hey,']"
      ]
     },
     "execution_count": 168,
     "metadata": {},
     "output_type": "execute_result"
    },
    {
     "name": "stdout",
     "output_type": "stream",
     "text": [
      "\n",
      "\n",
      "10 messages in cluster 8.\n"
     ]
    },
    {
     "data": {
      "text/plain": [
       "['Absolutely. Come by around 3:30??',\n",
       " 'who were you trying to bet on??',\n",
       " 'Dinner tonite....birthday boy???',\n",
       " 'How about 4:00 ??',\n",
       " '7:00 game can you let me know tomorrow??',\n",
       " 'newport??',\n",
       " 'how about your local bank??',\n",
       " 'How about next wednesday??',\n",
       " '4:30ish??',\n",
       " 'Garner and Glenn for T.D. ?']"
      ]
     },
     "execution_count": 168,
     "metadata": {},
     "output_type": "execute_result"
    },
    {
     "name": "stdout",
     "output_type": "stream",
     "text": [
      "\n",
      "\n",
      "22 messages in cluster 7.\n"
     ]
    },
    {
     "data": {
      "text/plain": [
       "['world cup 2006 Germany BOO!',\n",
       " \"Here is some info on steamboat. I haven't checked affair yet. The Sunburst cono looks reasonable!\",\n",
       " 'vacation!',\n",
       " 'here, woman!',\n",
       " 'i told you so!',\n",
       " 'tell your roommate to shut her big mouth!',\n",
       " \"Hook 'em!\",\n",
       " 'that could be a dealbreaker!',\n",
       " \"I can't make this meeting today - bid week!\",\n",
       " 'Look at this pup!',\n",
       " 'Go Longhorns! - only in TEXAS.jpg',\n",
       " 'you are an asshole !',\n",
       " 'Got it!',\n",
       " 'I am not available to interview on December 7th. I will be in a PRC meeting. Try me next time! Sally',\n",
       " 'I will call you tonight!']"
      ]
     },
     "execution_count": 168,
     "metadata": {},
     "output_type": "execute_result"
    },
    {
     "name": "stdout",
     "output_type": "stream",
     "text": [
      "\n",
      "\n",
      "10 messages in cluster 15.\n"
     ]
    },
    {
     "data": {
      "text/plain": [
       "['Please let me know whether or not you will be there. Please try to be there by 8:15.',\n",
       " 'Attached please find a completed employee profile for Brent Price for consideration for promotion to Vice President. Please call me if you have any questions.',\n",
       " 'Attached please find the daily log as of 12/29/00. If you have any questions or comments please advise. Nancy',\n",
       " 'Please find attached the EGM Management Summary and Hot List as of 11/09. Please contact me if you have any questions/comments.',\n",
       " \"Please find attached EGM's Management Summary and Hot List as of 1/18/01. Please contact me of you have any questions\",\n",
       " 'Please find attached the EGM Management Summary and Hot List as of 11/16. Please contact me if you have any questions/comments.',\n",
       " 'Attached please find the log report for the week of Dec 10-17th, as of Dec 12th. Should you have any questions please feel free to contact me at ext. 54751.',\n",
       " 'Please find attached the EGM Management Summary and Hot List as of 1/25/01. Please contact me if you have any questions/comments.',\n",
       " 'Please find attached the EGM Management Summary and Hot List as of 2/1/01. Please contact me if you have any comments/questions.',\n",
       " \"Attached please find March's curve validation memorandum. Please call if you have any questions. Gary Stadler X35502\"]"
      ]
     },
     "execution_count": 168,
     "metadata": {},
     "output_type": "execute_result"
    },
    {
     "name": "stdout",
     "output_type": "stream",
     "text": [
      "\n",
      "\n",
      "55 messages in cluster 11.\n"
     ]
    },
    {
     "data": {
      "text/plain": [
       "[\"Don't forget to reserve your spot- Jen Fraser, Director of Origination in EGM - December 5 from 12 to 1 in 30C1 Call or email Tom Wilbeck.\",\n",
       " \"Thank you to those who have already RSVP'd for this informative brown bag session. This is one of the last opportunities you'll have to gain more insight into our business. Please RSVP ASAP, Okay? Jen Fraser, Director of Origination in EGM - December 5 from 12 to 1 in 30C1\",\n",
       " 'Come check out......... Jen Fraser, a Director with Enron Global Markets, November 14 from 12 to 1 in EB 30C1 Mike McConnell, President and CEO of Enron Global Markets, November 28 from 12 to 1 in EB 30C1 Call or email Stacey Dempsey.',\n",
       " 'Southern Company Energy Marketing LP changed their name to Mirant Americas Energy Marketing, LP. This record will be overlayed in GCP in the next few days.',\n",
       " 'This CP has merged into PANCANADIAN ENERGY SERVICES INC. If you do not wish to receive these notices, please let me know.',\n",
       " 'NSP has changed their name to Xcel Energy Inc. Global Counterparty will overlay the NSP record with this new name tomorrow.',\n",
       " 'FirstEnergy System (FIRSTENESY) has assigned its transmission assets and service agreements to American Transmission Systems, Inc. (ATSI) They are a subsidiary of FirstEnergy Corp. Their mnemonic reference changed from \"FE\" to \"ATSI.\"',\n",
       " 'Entergy Power Marketing Corp. has assigned their EEI agreement to Axia Energy, LP. Entergy Power Marketing Corp. and Koch Energy Trading, Inc. will be inactivated in Enpower. They have merged to form AXIA.',\n",
       " '',\n",
       " 'We have recevied the executed EEI Master Power Purchase and Sale Agreement dated 1/22/2001 from the referenced CP. Copies will be distributed to Legal and Credit.',\n",
       " 'We have received the executed EEI Master Power Purchase and Sale Agreement dated 3/15/2001 from the referenced CP. Copies will be distributed to legal and credit.',\n",
       " 'We have received the executed EEI Master Power Purchase and Sale Agreement dated 2/1/2001 from the referenced CP. Copies will be distributed to Legal and Credit.',\n",
       " 'We have received the executed EEI Master Power Purchase and Sale Agreement dated 5/2/01 for the referenced CP. Copies will be distributed to Legal and Credit.',\n",
       " 'We have received the executed EEI agreement from the referenced CP dated 12/30/00. Copies will be distributed to Legal and Credit.',\n",
       " 'Original Message From: Imai, Rika Sent: Wednesday, November 21, 2001 10:51 AM To: Black, Tamara Jae Subject: AGENDA FOR PIRA PRESENTATION']"
      ]
     },
     "execution_count": 168,
     "metadata": {},
     "output_type": "execute_result"
    },
    {
     "name": "stdout",
     "output_type": "stream",
     "text": [
      "\n",
      "\n",
      "18 messages in cluster 12.\n"
     ]
    },
    {
     "data": {
      "text/plain": [
       "[\"You have received this message because someone has attempted to send you an e-mail from outside of Enron with an attachment type that Enron does not allow into our messaging environment. Your e-mail has been quarantined and is being held at the MailSweeper server. Sender: daphneco64.net Date: Wed, 23 Jan 2002 15:29:59 -0600 Subject: HoustonChronicle.com Attachment Type: Scenarios URL Catcher: A filename matching the file mask was detected: 'houstonchronicle.com.url'. If the intended email is of valid business-related content and you believe it requires Enron resources to retrieve it, you may call your Help Desk and ask to have it released from quarantine and delivered to your e-mail Inbox. Your message will be scanned and checked for viruses prior to requested release. If it contains a virus or there is reason to suspect it is malicious code, it will not be delivered. North American Resolution Center: 713 853 1411 European Resolution Center: 0044 207 78 36777 EES Help Desk: 888 853 9797 ETS Solution Center: 713 345 4745 (Houston) or 402 398 7454 (Omaha) Please DO NOT reply to this address as it is not a monitored system mailbox.\",\n",
       " \"You have received this message because someone has attempted to send you an e-mail from outside of Enron with an attachment type that Enron does not allow into our messaging environment. Your e-mail has been quarantined and is being held at the MailSweeper server. Sender: lwbthemarine.net Date: Tue, 22 Jan 2002 16:51:43 -0600 Subject: weather.com - Local Weather - Fairfield, TX Attachment Type: Scenarios URL Catcher: A filename matching the file mask was detected: 'weather.com - local weather - fairfield, tx.url'. If the intended email is of valid business-related content and you believe it requires Enron resources to retrieve it, you may call your Help Desk and ask to have it released from quarantine and delivered to your e-mail Inbox. Your message will be scanned and checked for viruses prior to requested release. If it contains a virus or there is reason to suspect it is malicious code, it will not be delivered. North American Resolution Center: 713 853 1411 European Resolution Center: 0044 207 78 36777 EES Help Desk: 888 853 9797 ETS Solution Center: 713 345 4745 (Houston) or 402 398 7454 (Omaha) Please DO NOT reply to this address as it is not a monitored system mailbox.\",\n",
       " \"You have received this message because someone has attempted to send you an e-mail from outside of Enron with an attachment type that Enron does not allow into our messaging environment. Your e-mail has been quarantined and is being held at the MailSweeper server. Sender: daphneco64.net Date: Tue, 22 Jan 2002 11:52:40 -0600 Subject: 5 Attachment Type: Scenarios URL Catcher: A filename matching the file mask was detected: '5.url'. If the intended email is of valid business-related content and you believe it requires Enron resources to retrieve it, you may call your Help Desk and ask to have it released from quarantine and delivered to your e-mail Inbox. Your message will be scanned and checked for viruses prior to requested release. If it contains a virus or there is reason to suspect it is malicious code, it will not be delivered. North American Resolution Center: 713 853 1411 European Resolution Center: 0044 207 78 36777 EES Help Desk: 888 853 9797 ETS Solution Center: 713 345 4745 (Houston) or 402 398 7454 (Omaha) Please DO NOT reply to this address as it is not a monitored system mailbox.\",\n",
       " \"You have received this message because someone has attempted to send you an e-mail from outside of Enron with an attachment type that Enron does not allow into our messaging environment. Your e-mail has been quarantined and is being held at the MailSweeper server. Sender: daphneco64.net Date: Mon, 21 Jan 2002 08:13:58 -0600 Subject: Urban Legends Reference Pages Rumors of War (Automotive Contributions) Attachment Type: Scenarios URL Catcher: A filename matching the file mask was detected: 'urban legends reference pages rumors of war (automotive contributions).url'. If the intended email is of valid business-related content and you believe it requires Enron resources to retrieve it, you may call your Help Desk and ask to have it released from quarantine and delivered to your e-mail Inbox. Your message will be scanned and checked for viruses prior to requested release. If it contains a virus or there is reason to suspect it is malicious code, it will not be delivered. North American Resolution Center: 713 853 1411 European Resolution Center: 0044 207 78 36777 EES Help Desk: 888 853 9797 ETS Solution Center: 713 345 4745 (Houston) or 402 398 7454 (Omaha) Please DO NOT reply to this address as it is not a monitored system mailbox.\",\n",
       " \"You have received this message because someone has attempted to send you an e-mail from outside of Enron with an attachment type that Enron does not allow into our messaging environment. Your e-mail has been quarantined and is being held at the MailSweeper server. Sender: daphneco64.net Date: Thu, 20 Dec 2001 16:17:33 -0600 Subject: Threads2 Attachment Type: Scenarios URL Catcher: A filename matching the file mask was detected: 'threads2.url'. If the intended email is of valid business-related content and you believe it requires Enron resources to retrieve it, you may call your Help Desk and ask to have it released from quarantine and delivered to your e-mail Inbox. Your message will be scanned and checked for viruses prior to requested release. If it contains a virus or there is reason to suspect it is malicious code, it will not be delivered. North American Resolution Center: 713 853 1411 European Resolution Center: 0044 207 78 36777 EES Help Desk: 888 853 9797 ETS Solution Center: 713 345 4745 (Houston) or 402 398 7454 (Omaha) Please DO NOT reply to this address as it is not a monitored system mailbox.\",\n",
       " \"You have received this message because someone has attempted to send you an e-mail from outside of Enron with an attachment type that Enron does not allow into our messaging environment. Your e-mail has been quarantined and is being held at the MailSweeper server. Sender: lwbthemarine.net Date: Fri, 28 Dec 2001 09:24:20 -0600 Subject: Texas Treasure Attachment Type: Scenarios URL Catcher: A filename matching the file mask was detected: 'texas treasure.url'. If the intended email is of valid business-related content and you believe it requires Enron resources to retrieve it, you may call your Help Desk and ask to have it released from quarantine and delivered to your e-mail Inbox. Your message will be scanned and checked for viruses prior to requested release. If it contains a virus or there is reason to suspect it is malicious code, it will not be delivered. North American Resolution Center: 713 853 1411 European Resolution Center: 0044 207 78 36777 EES Help Desk: 888 853 9797 ETS Solution Center: 713 345 4745 (Houston) or 402 398 7454 (Omaha) Please DO NOT reply to this address as it is not a monitored system mailbox.\",\n",
       " \"You have received this message because someone has attempted to send you an e-mail from outside of Enron with an attachment type that Enron does not allow into our messaging environment. Your e-mail has been quarantined and is being held at the MailSweeper server. Sender: daphneco64.net Date: Fri, 28 Dec 2001 09:33:03 -0600 Subject: Traditional Wedding Cost Responsibilities Attachment Type: Scenarios URL Catcher: A filename matching the file mask was detected: 'traditional wedding cost responsibilities.url'. If the intended email is of valid business-related content and you believe it requires Enron resources to retrieve it, you may call your Help Desk and ask to have it released from quarantine and delivered to your e-mail Inbox. Your message will be scanned and checked for viruses prior to requested release. If it contains a virus or there is reason to suspect it is malicious code, it will not be delivered. North American Resolution Center: 713 853 1411 European Resolution Center: 0044 207 78 36777 EES Help Desk: 888 853 9797 ETS Solution Center: 713 345 4745 (Houston) or 402 398 7454 (Omaha) Please DO NOT reply to this address as it is not a monitored system mailbox.\",\n",
       " \"You have received this message because someone has attempted to send you an e-mail from outside of Enron with an attachment type that Enron does not allow into our messaging environment. Your e-mail has been quarantined and is being held at the MailSweeper server. Sender: daphneco64.net Date: Fri, 28 Dec 2001 11:25:54 -0600 Subject: Just one of thousands of FREE cards and animations from Egreetings.com. Attachment Type: Scenarios URL Catcher: A filename matching the file mask was detected: 'just one of thousands of free cards and animations from egreetings.com..url'. If the intended email is of valid business-related content and you believe it requires Enron resources to retrieve it, you may call your Help Desk and ask to have it released from quarantine and delivered to your e-mail Inbox. Your message will be scanned and checked for viruses prior to requested release. If it contains a virus or there is reason to suspect it is malicious code, it will not be delivered. North American Resolution Center: 713 853 1411 European Resolution Center: 0044 207 78 36777 EES Help Desk: 888 853 9797 ETS Solution Center: 713 345 4745 (Houston) or 402 398 7454 (Omaha) Please DO NOT reply to this address as it is not a monitored system mailbox.\",\n",
       " \"You have received this message because someone has attempted to send you an e-mail from outside of Enron with an attachment type that Enron does not allow into our messaging environment. Your e-mail has been quarantined and is being held at the MailSweeper server. Sender: lwbthemarine.net Date: Wed, 30 Jan 2002 08:12:44 -0600 Subject: weather.com - Local Weather - Fairfield, TX (75840) Attachment Type: Scenarios URL Catcher: A filename matching the file mask was detected: 'weather.com - local weather - fairfield, tx (75840).url'. If the intended email is of valid business-related content and you believe it requires Enron resources to retrieve it, you may call your Help Desk and ask to have it released from quarantine and delivered to your e-mail Inbox. Your message will be scanned and checked for viruses prior to requested release. If it contains a virus or there is reason to suspect it is malicious code, it will not be delivered. North American Resolution Center: 713 853 1411 European Resolution Center: 0044 207 78 36777 EES Help Desk: 888 853 9797 ETS Solution Center: 713 345 4745 (Houston) or 402 398 7454 (Omaha) Please DO NOT reply to this address as it is not a monitored system mailbox.\",\n",
       " \"You have received this message because someone has attempted to send you an e-mail from outside of Enron with an attachment type that Enron does not allow into our messaging environment. Your e-mail has been quarantined and is being held at the MailSweeper server. Sender: daphneco64.net Date: Sat, 26 Jan 2002 07:53:26 -0600 Subject: OpinionJournal - Featured Article Attachment Type: Scenarios URL Catcher: A filename matching the file mask was detected: 'opinionjournal - featured article.url'. If the intended email is of valid business-related content and you believe it requires Enron resources to retrieve it, you may call your Help Desk and ask to have it released from quarantine and delivered to your e-mail Inbox. Your message will be scanned and checked for viruses prior to requested release. If it contains a virus or there is reason to suspect it is malicious code, it will not be delivered. North American Resolution Center: 713 853 1411 European Resolution Center: 0044 207 78 36777 EES Help Desk: 888 853 9797 ETS Solution Center: 713 345 4745 (Houston) or 402 398 7454 (Omaha) Please DO NOT reply to this address as it is not a monitored system mailbox.\",\n",
       " \"You have received this message because someone has attempted to send you an e-mail from outside of Enron with an attachment type that Enron does not allow into our messaging environment. Your e-mail has been quarantined and is being held at the MailSweeper server. Sender: daphneco64.net Date: Sat, 26 Jan 2002 07:47:28 -0600 Subject: Enron for Dummies Attachment Type: Scenarios URL Catcher: A filename matching the file mask was detected: 'enron for dummies.url'. If the intended email is of valid business-related content and you believe it requires Enron resources to retrieve it, you may call your Help Desk and ask to have it released from quarantine and delivered to your e-mail Inbox. Your message will be scanned and checked for viruses prior to requested release. If it contains a virus or there is reason to suspect it is malicious code, it will not be delivered. North American Resolution Center: 713 853 1411 European Resolution Center: 0044 207 78 36777 EES Help Desk: 888 853 9797 ETS Solution Center: 713 345 4745 (Houston) or 402 398 7454 (Omaha) Please DO NOT reply to this address as it is not a monitored system mailbox.\",\n",
       " \"You have received this message because someone has attempted to send you an e-mail from outside of Enron with an attachment type that Enron does not allow into our messaging environment. Your e-mail has been quarantined and is being held at the MailSweeper server. Sender: daphneco64.net Date: Fri, 25 Jan 2002 11:03:37 -0600 Subject: Ex-Enron vice chairman found dead Attachment Type: Scenarios URL Catcher: A filename matching the file mask was detected: 'ex-enron vice chairman found dead.url'. If the intended email is of valid business-related content and you believe it requires Enron resources to retrieve it, you may call your Help Desk and ask to have it released from quarantine and delivered to your e-mail Inbox. Your message will be scanned and checked for viruses prior to requested release. If it contains a virus or there is reason to suspect it is malicious code, it will not be delivered. North American Resolution Center: 713 853 1411 European Resolution Center: 0044 207 78 36777 EES Help Desk: 888 853 9797 ETS Solution Center: 713 345 4745 (Houston) or 402 398 7454 (Omaha) Please DO NOT reply to this address as it is not a monitored system mailbox.\",\n",
       " \"You have received this message because someone has attempted to send you an e-mail from outside of Enron with an attachment type that Enron does not allow into our messaging environment. Your e-mail has been quarantined and is being held at the MailSweeper server. Sender: Stewart.com Date: Tue, 5 Feb 2002 16:39:37 -0600 Subject: Why the security gaurds are smiling at the airport Attachment Type: Scenarios EXE Catcher: A filename matching the file mask was detected: 'airportscanner.exe'. If the intended email is of valid business-related content and you believe it requires Enron resources to retrieve it, you may call your Help Desk and ask to have it released from quarantine and delivered to your e-mail Inbox. Your message will be scanned and checked for viruses prior to requested release. If it contains a virus or there is reason to suspect it is malicious code, it will not be delivered. North American Resolution Center: 713 853 1411 European Resolution Center: 0044 207 78 36777 EES Help Desk: 888 853 9797 ETS Solution Center: 713 345 4745 (Houston) or 402 398 7454 (Omaha) Please DO NOT reply to this address as it is not a monitored system mailbox.\",\n",
       " \"You have received this message because someone has attempted to send you an e-mail from outside of Enron with an attachment type that Enron does not allow into our messaging environment. Your e-mail has been quarantined and is being held at the MailSweeper server. Sender: Date: Thu, 27 Dec 2001 18:59:02 -0600 (CST) Subject: please read Attachment Type: Scenarios EXE Catcher: A filename matching the file mask was detected: 'sample.exe'. If the intended email is of valid business-related content and you believe it requires Enron resources to retrieve it, you may call your Help Desk and ask to have it released from quarantine and delivered to your e-mail Inbox. Your message will be scanned and checked for viruses prior to requested release. If it contains a virus or there is reason to suspect it is malicious code, it will not be delivered. North American Resolution Center: 713 853 1411 European Resolution Center: 0044 207 78 36777 EES Help Desk: 888 853 9797 ETS Solution Center: 713 345 4745 (Houston) or 402 398 7454 (Omaha) Please DO NOT reply to this address as it is not a monitored system mailbox.\",\n",
       " \"You have received this message because someone has attempted to send you an e-mail from outside of Enron with an attachment type that Enron does not allow into our messaging environment. Your e-mail has been quarantined and is being held at the MailSweeper server. Sender: Date: Mon, 17 Dec 2001 17:50:17 -0600 (CST) Subject: AEP forward Attachment Type: Scenarios EXE Catcher: A filename matching the file mask was detected: 'sample.exe'. If the intended email is of valid business-related content and you believe it requires Enron resources to retrieve it, you may call your Help Desk and ask to have it released from quarantine and delivered to your e-mail Inbox. Your message will be scanned and checked for viruses prior to requested release. If it contains a virus or there is reason to suspect it is malicious code, it will not be delivered. North American Resolution Center: 713 853 1411 European Resolution Center: 0044 207 78 36777 EES Help Desk: 888 853 9797 ETS Solution Center: 713 345 4745 (Houston) or 402 398 7454 (Omaha) Please DO NOT reply to this address as it is not a monitored system mailbox.\"]"
      ]
     },
     "execution_count": 168,
     "metadata": {},
     "output_type": "execute_result"
    },
    {
     "name": "stdout",
     "output_type": "stream",
     "text": [
      "\n",
      "\n",
      "11 messages in cluster 14.\n"
     ]
    },
    {
     "data": {
      "text/plain": [
       "['Please find the interview packet for the above-referenced candidate. The interview will occur on Monday January 8, 2001. Please print all documents for your reference. A hardcopy of his resume will be delivered by hand. If you have any questions, or conflicts of schedule, please do not hesitate to contact me. Shawn Grady 58701',\n",
       " 'Please find the interview packet for the above-referenced candidate. The interview will occur on Wednesday January 10, 2001. Please print all documents for your reference. A hardcopy of the resume will be delivered via runner. If you have any questions, or conflicts of schedule, please do not hesitate to contact me. Shawn Grady 58701',\n",
       " 'Please find the interview packet for the above-referenced candidate. The interview will occur on Thursday January 11, 2001. Please print all documents for your reference. A hardcopy of the resume will be delivered via runner. If you have any questions, or conflicts of schedule, please do not hesitate to call me. Shawn Grady 58701',\n",
       " 'Please find the interview packet for the above-referenced candidate. The interview will occur on Thursday January 11, 2001. Please print all documents for your reference. A hardcopy of the resume will be delivered via runner. If you have any questions, or conflicts of schedule, please do not hesitate to call me. Shawn Grady 713-345-8701',\n",
       " 'Please find the interview packets for the above-referenced candidates. The interviews will occur on Tuesday January 16, 2001. Please print all documents for your reference. Hardcopies of their resumes will be delivered via runner. If you have any questions, or conflicts of schedule, please do not hesitate to contact me. Shawn Grady 58701',\n",
       " 'Please find the interview packet for the above-referenced candidate. The interview will occur on Wednesday January 17, 2001. Please print all documents for your reference. A hardcopy of the resume will be delivered via runner. If you have any questions, or conflicts of schedule, please do not hesitate to contact me. Shawn Grady 58701',\n",
       " \"Hello EJOT, This is just a reminder about Thursday's (06/15/00) conference call regarding the weekly Japan update at 6:00 p.m. Houston time. Please forward your updates to Joe Hirl and please copy me. The call will be held in Conference room 21C2 for Houston participants. Domestic: 1-800-991-9019 Intern'l 847-619-8039 Code: 5764488# Also, please see last week's consolidated report and I do apologize for the delay. Thanks,\",\n",
       " \"Hello EJOT, This is just a reminder about Thursday's (06/22/00) conference call regarding the weekly Japan update at 6:00 p.m. Houston time. Please forward your updates to Joe Hirl and please copy me. The call will be held in Conference room 21C2 for Houston participants. Domestic: 1-800-991-9019 Intern'l 847-619-8039 Code: 5764488# Also please see last week's consolidated report: Thanks, Eddie!\",\n",
       " \"Hello EJOT- This is just a reminder about Thursday's (06/29/00) conference call regarding the weekly Japan update at 6:00 p.m. Houston time. Please forward your updates to Joe Hirl and please copy me. The call will be held in Conference room 21C2 for Houston participants. Domestic: 1-800-991-9019 Intern'l 847-619-8039 Code: 5764488# Note: If you must take another call while the conference is going on please hang up, otherwise, if you put the call on hold everyone will hear the backgroud song played while holding. Also, please see attacehd last week's consolidated report and our latest contact list.\",\n",
       " \"Hello everyone, This is just a reminder about today's conference call regarding the weekly Japan update at 4:00 p.m. Houston time. Please forward your updates to Joe Hirl and please copy me. The call will be held in Conference room 21C2. Thanks, Eddie Robles Domestic number: 800-991-9019 International number: 847-619-8039 Passcode: 5057851\",\n",
       " \"Hello everyone, This is just a reminder about Thursday's (05/04/00) conference call regarding the weekly Japan update at 6:00 p.m. Houston time. Please forward your updates to Joe Hirl and please copy me. The call will be held in Conference room 21C2 for Houston participants. Domestic: 1-800-991-9019 Intern'l 847-619-8039 Code: 5764488# Also please provide me with your work, mobile, and home phone numbers as we are in the process of putting together a contact list for everyone involved in this project. Lastly please include your email address and you Assistant's name and number to make it easier to get in contact with you. Thanks, Eddie\"]"
      ]
     },
     "execution_count": 168,
     "metadata": {},
     "output_type": "execute_result"
    },
    {
     "name": "stdout",
     "output_type": "stream",
     "text": [
      "\n",
      "\n",
      "10 messages in cluster 13.\n"
     ]
    },
    {
     "data": {
      "text/plain": [
       "['Your mailbox has exceeded one or more size limits set by your administrator. Your mailbox size is 112191 KB. Mailbox size limits: You will receive a warning when your mailbox reaches 75000 KB. You cannot send mail when your mailbox reaches 100000 KB.You may not be able to send or receive new mail until you reduce your mailbox size. To make more space available, delete any items that you are no longer using or move them to your personal folder file (.pst). Items in all of your mailbox folders including the Deleted Items and Sent Items folders count against your size limit. You must empty the Deleted Items folder after deleting items or the space will not be freed. See client Help for more information.',\n",
       " 'Your mailbox has exceeded one or more size limits set by your administrator. Your mailbox size is 112231 KB. Mailbox size limits: You will receive a warning when your mailbox reaches 75000 KB. You cannot send mail when your mailbox reaches 100000 KB.You may not be able to send or receive new mail until you reduce your mailbox size. To make more space available, delete any items that you are no longer using or move them to your personal folder file (.pst). Items in all of your mailbox folders including the Deleted Items and Sent Items folders count against your size limit. You must empty the Deleted Items folder after deleting items or the space will not be freed. See client Help for more information.',\n",
       " 'Your mailbox has exceeded one or more size limits set by your administrator. Your mailbox size is 112312 KB. Mailbox size limits: You will receive a warning when your mailbox reaches 75000 KB. You cannot send mail when your mailbox reaches 100000 KB.You may not be able to send or receive new mail until you reduce your mailbox size. To make more space available, delete any items that you are no longer using or move them to your personal folder file (.pst). Items in all of your mailbox folders including the Deleted Items and Sent Items folders count against your size limit. You must empty the Deleted Items folder after deleting items or the space will not be freed. See client Help for more information.',\n",
       " 'Your mailbox has exceeded one or more size limits set by your administrator. Your mailbox size is 112347 KB. Mailbox size limits: You will receive a warning when your mailbox reaches 75000 KB. You cannot send mail when your mailbox reaches 100000 KB.You may not be able to send or receive new mail until you reduce your mailbox size. To make more space available, delete any items that you are no longer using or move them to your personal folder file (.pst). Items in all of your mailbox folders including the Deleted Items and Sent Items folders count against your size limit. You must empty the Deleted Items folder after deleting items or the space will not be freed. See client Help for more information.',\n",
       " 'Your mailbox has exceeded one or more size limits set by your administrator. Your mailbox size is 112696 KB. Mailbox size limits: You will receive a warning when your mailbox reaches 75000 KB. You cannot send mail when your mailbox reaches 100000 KB.You may not be able to send or receive new mail until you reduce your mailbox size. To make more space available, delete any items that you are no longer using or move them to your personal folder file (.pst). Items in all of your mailbox folders including the Deleted Items and Sent Items folders count against your size limit. You must empty the Deleted Items folder after deleting items or the space will not be freed. See client Help for more information.',\n",
       " 'Your mailbox has exceeded one or more size limits set by your administrator. Your mailbox size is 112845 KB. Mailbox size limits: You will receive a warning when your mailbox reaches 75000 KB. You cannot send mail when your mailbox reaches 100000 KB.You may not be able to send or receive new mail until you reduce your mailbox size. To make more space available, delete any items that you are no longer using or move them to your personal folder file (.pst). Items in all of your mailbox folders including the Deleted Items and Sent Items folders count against your size limit. You must empty the Deleted Items folder after deleting items or the space will not be freed. See client Help for more information.',\n",
       " 'Your mailbox has exceeded one or more size limits set by your administrator. Your mailbox size is 113195 KB. Mailbox size limits: You will receive a warning when your mailbox reaches 75000 KB. You cannot send mail when your mailbox reaches 100000 KB.You may not be able to send or receive new mail until you reduce your mailbox size. To make more space available, delete any items that you are no longer using or move them to your personal folder file (.pst). Items in all of your mailbox folders including the Deleted Items and Sent Items folders count against your size limit. You must empty the Deleted Items folder after deleting items or the space will not be freed. See client Help for more information.',\n",
       " 'Your mailbox has exceeded one or more size limits set by your administrator. Your mailbox size is 113237 KB. Mailbox size limits: You will receive a warning when your mailbox reaches 75000 KB. You cannot send mail when your mailbox reaches 100000 KB.You may not be able to send or receive new mail until you reduce your mailbox size. To make more space available, delete any items that you are no longer using or move them to your personal folder file (.pst). Items in all of your mailbox folders including the Deleted Items and Sent Items folders count against your size limit. You must empty the Deleted Items folder after deleting items or the space will not be freed. See client Help for more information.',\n",
       " 'Your mailbox has exceeded one or more size limits set by your administrator. Your mailbox size is 113323 KB. Mailbox size limits: You will receive a warning when your mailbox reaches 75000 KB. You cannot send mail when your mailbox reaches 100000 KB.You may not be able to send or receive new mail until you reduce your mailbox size. To make more space available, delete any items that you are no longer using or move them to your personal folder file (.pst). Items in all of your mailbox folders including the Deleted Items and Sent Items folders count against your size limit. You must empty the Deleted Items folder after deleting items or the space will not be freed. See client Help for more information.',\n",
       " 'Your mailbox has exceeded one or more size limits set by your administrator. Your mailbox size is 113439 KB. Mailbox size limits: You will receive a warning when your mailbox reaches 75000 KB. You cannot send mail when your mailbox reaches 100000 KB.You may not be able to send or receive new mail until you reduce your mailbox size. To make more space available, delete any items that you are no longer using or move them to your personal folder file (.pst). Items in all of your mailbox folders including the Deleted Items and Sent Items folders count against your size limit. You must empty the Deleted Items folder after deleting items or the space will not be freed. See client Help for more information.']"
      ]
     },
     "execution_count": 168,
     "metadata": {},
     "output_type": "execute_result"
    }
   ],
   "source": [
    "import random\n",
    "\n",
    "for i in db_clusters.unique():\n",
    "    c = get_emails_in_cluster(i)\n",
    "    print('\\n')\n",
    "    print('{} messages in cluster {}.'.format(len(c), i))\n",
    "    if len(c) < 15:\n",
    "        c\n",
    "    else:\n",
    "        #randomly sample 15 from list\n",
    "        [c[i] for i in sorted(random.sample(range(len(c)), 15))]"
   ]
  },
  {
   "cell_type": "markdown",
   "metadata": {},
   "source": [
    "## Sentiments over time"
   ]
  },
  {
   "cell_type": "code",
   "execution_count": 88,
   "metadata": {},
   "outputs": [],
   "source": [
    "from matplotlib.dates import date2num"
   ]
  },
  {
   "cell_type": "code",
   "execution_count": 117,
   "metadata": {},
   "outputs": [
    {
     "data": {
      "image/png": "[encoded data removed]",
      "text/plain": [
       "<matplotlib.figure.Figure at 0x154b7a358>"
      ]
     },
     "metadata": {},
     "output_type": "display_data"
    }
   ],
   "source": [
    "x_axis_dates = date2num(text_features['date'].tolist())\n",
    "\n",
    "col = 'compound'\n",
    "fig, ax = plt.subplots();\n",
    "fig.set_size_inches(10, 10)\n",
    "ax.plot_date(x_axis_dates, text_features[col], markersize = 1, c = 'gray');\n",
    "plt.gcf().autofmt_xdate();\n",
    "ax.set_xlim([dt(1999, 12, 1), dt(2002, 2, 28)]);"
   ]
  },
  {
   "cell_type": "markdown",
   "metadata": {},
   "source": [
    "## Cosine similarity"
   ]
  },
  {
   "cell_type": "code",
   "execution_count": 137,
   "metadata": {},
   "outputs": [],
   "source": [
    "from sklearn.metrics.pairwise import cosine_similarity"
   ]
  },
  {
   "cell_type": "code",
   "execution_count": 147,
   "metadata": {},
   "outputs": [],
   "source": [
    "for_similarity = text_features.drop(to_drop, axis = 1)"
   ]
  },
  {
   "cell_type": "code",
   "execution_count": 148,
   "metadata": {},
   "outputs": [],
   "source": [
    "cluster_vector = for_similarity[for_similarity['cluster'] == 8].mean().as_matrix()\n",
    "test_vector = for_similarity[for_similarity['cluster'] == 8].iloc[0].as_matrix()"
   ]
  },
  {
   "cell_type": "code",
   "execution_count": 149,
   "metadata": {},
   "outputs": [
    {
     "data": {
      "text/plain": [
       "array([[ 0.99180336]])"
      ]
     },
     "execution_count": 149,
     "metadata": {},
     "output_type": "execute_result"
    }
   ],
   "source": [
    "cosine_similarity(cluster_vector.reshape(1, -1), test_vector.reshape(1, -1))"
   ]
  }
 ],
 "metadata": {
  "kernelspec": {
   "display_name": "Python 3",
   "language": "python",
   "name": "python3"
  },
  "language_info": {
   "codemirror_mode": {
    "name": "ipython",
    "version": 3
   },
   "file_extension": ".py",
   "mimetype": "text/x-python",
   "name": "python",
   "nbconvert_exporter": "python",
   "pygments_lexer": "ipython3",
   "version": "3.6.1"
  }
 },
 "nbformat": 4,
 "nbformat_minor": 2
}
